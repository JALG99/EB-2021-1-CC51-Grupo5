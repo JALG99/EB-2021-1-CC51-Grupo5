{
 "cells": [
  {
   "cell_type": "markdown",
   "metadata": {},
   "source": [
    "Primero importamos todo lo necesario para el análisis exploratorio de datos. "
   ]
  },
  {
   "cell_type": "code",
   "execution_count": 2,
   "metadata": {},
   "outputs": [
    {
     "data": {
      "text/html": [
       "        <script type=\"text/javascript\">\n",
       "        window.PlotlyConfig = {MathJaxConfig: 'local'};\n",
       "        if (window.MathJax) {MathJax.Hub.Config({SVG: {font: \"STIX-Web\"}});}\n",
       "        if (typeof require !== 'undefined') {\n",
       "        require.undef(\"plotly\");\n",
       "        requirejs.config({\n",
       "            paths: {\n",
       "                'plotly': ['https://cdn.plot.ly/plotly-latest.min']\n",
       "            }\n",
       "        });\n",
       "        require(['plotly'], function(Plotly) {\n",
       "            window._Plotly = Plotly;\n",
       "        });\n",
       "        }\n",
       "        </script>\n",
       "        "
      ]
     },
     "metadata": {},
     "output_type": "display_data"
    }
   ],
   "source": [
    "import pandas as pd\n",
    "import json\n",
    "import numpy as np\n",
    "import seaborn as sns\n",
    "import matplotlib.pyplot as plt\n",
    "from plotly import __version__\n",
    "from plotly.offline import download_plotlyjs, init_notebook_mode, plot, iplot\n",
    "import cufflinks as cf\n",
    "import plotly.graph_objs as go \n",
    "from plotly.offline import init_notebook_mode,iplot\n",
    "init_notebook_mode(connected=True) "
   ]
  },
  {
   "cell_type": "markdown",
   "metadata": {},
   "source": [
    "Carga de datos"
   ]
  },
  {
   "cell_type": "code",
   "execution_count": 3,
   "metadata": {},
   "outputs": [],
   "source": [
    "usVideos = pd.read_csv('USvideos_cc50_202101.csv')"
   ]
  },
  {
   "cell_type": "code",
   "execution_count": 4,
   "metadata": {},
   "outputs": [
    {
     "data": {
      "text/html": [
       "<div>\n",
       "<style scoped>\n",
       "    .dataframe tbody tr th:only-of-type {\n",
       "        vertical-align: middle;\n",
       "    }\n",
       "\n",
       "    .dataframe tbody tr th {\n",
       "        vertical-align: top;\n",
       "    }\n",
       "\n",
       "    .dataframe thead th {\n",
       "        text-align: right;\n",
       "    }\n",
       "</style>\n",
       "<table border=\"1\" class=\"dataframe\">\n",
       "  <thead>\n",
       "    <tr style=\"text-align: right;\">\n",
       "      <th></th>\n",
       "      <th>video_id</th>\n",
       "      <th>trending_date</th>\n",
       "      <th>title</th>\n",
       "      <th>channel_title</th>\n",
       "      <th>category_id</th>\n",
       "      <th>publish_time</th>\n",
       "      <th>tags</th>\n",
       "      <th>views</th>\n",
       "      <th>likes</th>\n",
       "      <th>dislikes</th>\n",
       "      <th>comment_count</th>\n",
       "      <th>thumbnail_link</th>\n",
       "      <th>comments_disabled</th>\n",
       "      <th>ratings_disabled</th>\n",
       "      <th>video_error_or_removed</th>\n",
       "      <th>description</th>\n",
       "      <th>state</th>\n",
       "      <th>lat</th>\n",
       "      <th>lon</th>\n",
       "      <th>geometry</th>\n",
       "    </tr>\n",
       "  </thead>\n",
       "  <tbody>\n",
       "    <tr>\n",
       "      <th>0</th>\n",
       "      <td>2kyS6SvSYSE</td>\n",
       "      <td>17.14.11</td>\n",
       "      <td>WE WANT TO TALK ABOUT OUR MARRIAGE</td>\n",
       "      <td>CaseyNeistat</td>\n",
       "      <td>22</td>\n",
       "      <td>2017-11-13T17:13:01.000Z</td>\n",
       "      <td>SHANtell martin</td>\n",
       "      <td>748374</td>\n",
       "      <td>57527</td>\n",
       "      <td>2966</td>\n",
       "      <td>15954</td>\n",
       "      <td>https://i.ytimg.com/vi/2kyS6SvSYSE/default.jpg</td>\n",
       "      <td>False</td>\n",
       "      <td>False</td>\n",
       "      <td>False</td>\n",
       "      <td>SHANTELL'S CHANNEL - https://www.youtube.com/s...</td>\n",
       "      <td>Utah</td>\n",
       "      <td>39.419220</td>\n",
       "      <td>-111.950684</td>\n",
       "      <td>POINT (-111.950684 39.41922)</td>\n",
       "    </tr>\n",
       "    <tr>\n",
       "      <th>1</th>\n",
       "      <td>1ZAPwfrtAFY</td>\n",
       "      <td>17.14.11</td>\n",
       "      <td>The Trump Presidency: Last Week Tonight with J...</td>\n",
       "      <td>LastWeekTonight</td>\n",
       "      <td>24</td>\n",
       "      <td>2017-11-13T07:30:00.000Z</td>\n",
       "      <td>last week tonight trump presidency|\"last week ...</td>\n",
       "      <td>2418783</td>\n",
       "      <td>97185</td>\n",
       "      <td>6146</td>\n",
       "      <td>12703</td>\n",
       "      <td>https://i.ytimg.com/vi/1ZAPwfrtAFY/default.jpg</td>\n",
       "      <td>False</td>\n",
       "      <td>False</td>\n",
       "      <td>False</td>\n",
       "      <td>One year after the presidential election, John...</td>\n",
       "      <td>Nevada</td>\n",
       "      <td>39.876019</td>\n",
       "      <td>-117.224121</td>\n",
       "      <td>POINT (-117.224121 39.876019)</td>\n",
       "    </tr>\n",
       "    <tr>\n",
       "      <th>2</th>\n",
       "      <td>5qpjK5DgCt4</td>\n",
       "      <td>17.14.11</td>\n",
       "      <td>Racist Superman | Rudy Mancuso, King Bach &amp; Le...</td>\n",
       "      <td>Rudy Mancuso</td>\n",
       "      <td>23</td>\n",
       "      <td>2017-11-12T19:05:24.000Z</td>\n",
       "      <td>racist superman|\"rudy\"|\"mancuso\"|\"king\"|\"bach\"...</td>\n",
       "      <td>3191434</td>\n",
       "      <td>146033</td>\n",
       "      <td>5339</td>\n",
       "      <td>8181</td>\n",
       "      <td>https://i.ytimg.com/vi/5qpjK5DgCt4/default.jpg</td>\n",
       "      <td>False</td>\n",
       "      <td>False</td>\n",
       "      <td>False</td>\n",
       "      <td>WATCH MY PREVIOUS VIDEO ▶ \\n\\nSUBSCRIBE ► http...</td>\n",
       "      <td>Delaware</td>\n",
       "      <td>39.000000</td>\n",
       "      <td>-75.500000</td>\n",
       "      <td>POINT (-75.5 39)</td>\n",
       "    </tr>\n",
       "    <tr>\n",
       "      <th>3</th>\n",
       "      <td>puqaWrEC7tY</td>\n",
       "      <td>17.14.11</td>\n",
       "      <td>Nickelback Lyrics: Real or Fake?</td>\n",
       "      <td>Good Mythical Morning</td>\n",
       "      <td>24</td>\n",
       "      <td>2017-11-13T11:00:04.000Z</td>\n",
       "      <td>rhett and link|\"gmm\"|\"good mythical morning\"|\"...</td>\n",
       "      <td>343168</td>\n",
       "      <td>10172</td>\n",
       "      <td>666</td>\n",
       "      <td>2146</td>\n",
       "      <td>https://i.ytimg.com/vi/puqaWrEC7tY/default.jpg</td>\n",
       "      <td>False</td>\n",
       "      <td>False</td>\n",
       "      <td>False</td>\n",
       "      <td>Today we find out if Link is a Nickelback amat...</td>\n",
       "      <td>Delaware</td>\n",
       "      <td>39.000000</td>\n",
       "      <td>-75.500000</td>\n",
       "      <td>POINT (-75.5 39)</td>\n",
       "    </tr>\n",
       "    <tr>\n",
       "      <th>4</th>\n",
       "      <td>d380meD0W0M</td>\n",
       "      <td>17.14.11</td>\n",
       "      <td>I Dare You: GOING BALD!?</td>\n",
       "      <td>nigahiga</td>\n",
       "      <td>24</td>\n",
       "      <td>2017-11-12T18:01:41.000Z</td>\n",
       "      <td>ryan|\"higa\"|\"higatv\"|\"nigahiga\"|\"i dare you\"|\"...</td>\n",
       "      <td>2095731</td>\n",
       "      <td>132235</td>\n",
       "      <td>1989</td>\n",
       "      <td>17518</td>\n",
       "      <td>https://i.ytimg.com/vi/d380meD0W0M/default.jpg</td>\n",
       "      <td>False</td>\n",
       "      <td>False</td>\n",
       "      <td>False</td>\n",
       "      <td>I know it's been a while since we did this sho...</td>\n",
       "      <td>Michigan</td>\n",
       "      <td>44.182205</td>\n",
       "      <td>-84.506836</td>\n",
       "      <td>POINT (-84.50683600000001 44.182205)</td>\n",
       "    </tr>\n",
       "  </tbody>\n",
       "</table>\n",
       "</div>"
      ],
      "text/plain": [
       "      video_id trending_date  \\\n",
       "0  2kyS6SvSYSE      17.14.11   \n",
       "1  1ZAPwfrtAFY      17.14.11   \n",
       "2  5qpjK5DgCt4      17.14.11   \n",
       "3  puqaWrEC7tY      17.14.11   \n",
       "4  d380meD0W0M      17.14.11   \n",
       "\n",
       "                                               title          channel_title  \\\n",
       "0                 WE WANT TO TALK ABOUT OUR MARRIAGE           CaseyNeistat   \n",
       "1  The Trump Presidency: Last Week Tonight with J...        LastWeekTonight   \n",
       "2  Racist Superman | Rudy Mancuso, King Bach & Le...           Rudy Mancuso   \n",
       "3                   Nickelback Lyrics: Real or Fake?  Good Mythical Morning   \n",
       "4                           I Dare You: GOING BALD!?               nigahiga   \n",
       "\n",
       "   category_id              publish_time  \\\n",
       "0           22  2017-11-13T17:13:01.000Z   \n",
       "1           24  2017-11-13T07:30:00.000Z   \n",
       "2           23  2017-11-12T19:05:24.000Z   \n",
       "3           24  2017-11-13T11:00:04.000Z   \n",
       "4           24  2017-11-12T18:01:41.000Z   \n",
       "\n",
       "                                                tags    views   likes  \\\n",
       "0                                    SHANtell martin   748374   57527   \n",
       "1  last week tonight trump presidency|\"last week ...  2418783   97185   \n",
       "2  racist superman|\"rudy\"|\"mancuso\"|\"king\"|\"bach\"...  3191434  146033   \n",
       "3  rhett and link|\"gmm\"|\"good mythical morning\"|\"...   343168   10172   \n",
       "4  ryan|\"higa\"|\"higatv\"|\"nigahiga\"|\"i dare you\"|\"...  2095731  132235   \n",
       "\n",
       "   dislikes  comment_count                                  thumbnail_link  \\\n",
       "0      2966          15954  https://i.ytimg.com/vi/2kyS6SvSYSE/default.jpg   \n",
       "1      6146          12703  https://i.ytimg.com/vi/1ZAPwfrtAFY/default.jpg   \n",
       "2      5339           8181  https://i.ytimg.com/vi/5qpjK5DgCt4/default.jpg   \n",
       "3       666           2146  https://i.ytimg.com/vi/puqaWrEC7tY/default.jpg   \n",
       "4      1989          17518  https://i.ytimg.com/vi/d380meD0W0M/default.jpg   \n",
       "\n",
       "   comments_disabled  ratings_disabled  video_error_or_removed  \\\n",
       "0              False             False                   False   \n",
       "1              False             False                   False   \n",
       "2              False             False                   False   \n",
       "3              False             False                   False   \n",
       "4              False             False                   False   \n",
       "\n",
       "                                         description     state        lat  \\\n",
       "0  SHANTELL'S CHANNEL - https://www.youtube.com/s...      Utah  39.419220   \n",
       "1  One year after the presidential election, John...    Nevada  39.876019   \n",
       "2  WATCH MY PREVIOUS VIDEO ▶ \\n\\nSUBSCRIBE ► http...  Delaware  39.000000   \n",
       "3  Today we find out if Link is a Nickelback amat...  Delaware  39.000000   \n",
       "4  I know it's been a while since we did this sho...  Michigan  44.182205   \n",
       "\n",
       "          lon                              geometry  \n",
       "0 -111.950684          POINT (-111.950684 39.41922)  \n",
       "1 -117.224121         POINT (-117.224121 39.876019)  \n",
       "2  -75.500000                      POINT (-75.5 39)  \n",
       "3  -75.500000                      POINT (-75.5 39)  \n",
       "4  -84.506836  POINT (-84.50683600000001 44.182205)  "
      ]
     },
     "execution_count": 4,
     "metadata": {},
     "output_type": "execute_result"
    }
   ],
   "source": [
    "usVideos.head()"
   ]
  },
  {
   "cell_type": "code",
   "execution_count": 5,
   "metadata": {},
   "outputs": [
    {
     "name": "stdout",
     "output_type": "stream",
     "text": [
      "<class 'pandas.core.frame.DataFrame'>\n",
      "RangeIndex: 40949 entries, 0 to 40948\n",
      "Data columns (total 20 columns):\n",
      " #   Column                  Non-Null Count  Dtype  \n",
      "---  ------                  --------------  -----  \n",
      " 0   video_id                40949 non-null  object \n",
      " 1   trending_date           40949 non-null  object \n",
      " 2   title                   40949 non-null  object \n",
      " 3   channel_title           40949 non-null  object \n",
      " 4   category_id             40949 non-null  int64  \n",
      " 5   publish_time            40949 non-null  object \n",
      " 6   tags                    40949 non-null  object \n",
      " 7   views                   40949 non-null  int64  \n",
      " 8   likes                   40949 non-null  int64  \n",
      " 9   dislikes                40949 non-null  int64  \n",
      " 10  comment_count           40949 non-null  int64  \n",
      " 11  thumbnail_link          40949 non-null  object \n",
      " 12  comments_disabled       40949 non-null  bool   \n",
      " 13  ratings_disabled        40949 non-null  bool   \n",
      " 14  video_error_or_removed  40949 non-null  bool   \n",
      " 15  description             40379 non-null  object \n",
      " 16  state                   40949 non-null  object \n",
      " 17  lat                     40949 non-null  float64\n",
      " 18  lon                     40949 non-null  float64\n",
      " 19  geometry                40949 non-null  object \n",
      "dtypes: bool(3), float64(2), int64(5), object(10)\n",
      "memory usage: 5.4+ MB\n"
     ]
    }
   ],
   "source": [
    "usVideos.info()"
   ]
  },
  {
   "cell_type": "code",
   "execution_count": 6,
   "metadata": {},
   "outputs": [],
   "source": [
    "# load data using Python JSON module\n",
    "with open('US_category_id.json','r') as f:\n",
    "    data = json.loads(f.read())\n",
    "\n",
    "# Normalizing data\n",
    "multiple_level_data = pd.json_normalize(data, record_path =['items'], meta =['kind','etag'], meta_prefix='config_params_', record_prefix='dbscan_')\n",
    "\n",
    "# Saving to CSV format\n",
    "multiple_level_data.to_csv('US_vategory_id.csv', index=False)\n",
    "\n",
    "cat = pd.read_csv('US_vategory_id.csv')"
   ]
  },
  {
   "cell_type": "code",
   "execution_count": 7,
   "metadata": {},
   "outputs": [
    {
     "data": {
      "text/html": [
       "<div>\n",
       "<style scoped>\n",
       "    .dataframe tbody tr th:only-of-type {\n",
       "        vertical-align: middle;\n",
       "    }\n",
       "\n",
       "    .dataframe tbody tr th {\n",
       "        vertical-align: top;\n",
       "    }\n",
       "\n",
       "    .dataframe thead th {\n",
       "        text-align: right;\n",
       "    }\n",
       "</style>\n",
       "<table border=\"1\" class=\"dataframe\">\n",
       "  <thead>\n",
       "    <tr style=\"text-align: right;\">\n",
       "      <th></th>\n",
       "      <th>dbscan_kind</th>\n",
       "      <th>dbscan_etag</th>\n",
       "      <th>dbscan_id</th>\n",
       "      <th>dbscan_snippet.channelId</th>\n",
       "      <th>dbscan_snippet.title</th>\n",
       "      <th>dbscan_snippet.assignable</th>\n",
       "      <th>config_params_kind</th>\n",
       "      <th>config_params_etag</th>\n",
       "    </tr>\n",
       "  </thead>\n",
       "  <tbody>\n",
       "    <tr>\n",
       "      <th>0</th>\n",
       "      <td>youtube#videoCategory</td>\n",
       "      <td>\"m2yskBQFythfE4irbTIeOgYYfBU/Xy1mB4_yLrHy_BmKm...</td>\n",
       "      <td>1</td>\n",
       "      <td>UCBR8-60-B28hp2BmDPdntcQ</td>\n",
       "      <td>Film &amp; Animation</td>\n",
       "      <td>True</td>\n",
       "      <td>youtube#videoCategoryListResponse</td>\n",
       "      <td>\"m2yskBQFythfE4irbTIeOgYYfBU/S730Ilt-Fi-emsQJv...</td>\n",
       "    </tr>\n",
       "    <tr>\n",
       "      <th>1</th>\n",
       "      <td>youtube#videoCategory</td>\n",
       "      <td>\"m2yskBQFythfE4irbTIeOgYYfBU/UZ1oLIIz2dxIhO45Z...</td>\n",
       "      <td>2</td>\n",
       "      <td>UCBR8-60-B28hp2BmDPdntcQ</td>\n",
       "      <td>Autos &amp; Vehicles</td>\n",
       "      <td>True</td>\n",
       "      <td>youtube#videoCategoryListResponse</td>\n",
       "      <td>\"m2yskBQFythfE4irbTIeOgYYfBU/S730Ilt-Fi-emsQJv...</td>\n",
       "    </tr>\n",
       "    <tr>\n",
       "      <th>2</th>\n",
       "      <td>youtube#videoCategory</td>\n",
       "      <td>\"m2yskBQFythfE4irbTIeOgYYfBU/nqRIq97-xe5XRZTxb...</td>\n",
       "      <td>10</td>\n",
       "      <td>UCBR8-60-B28hp2BmDPdntcQ</td>\n",
       "      <td>Music</td>\n",
       "      <td>True</td>\n",
       "      <td>youtube#videoCategoryListResponse</td>\n",
       "      <td>\"m2yskBQFythfE4irbTIeOgYYfBU/S730Ilt-Fi-emsQJv...</td>\n",
       "    </tr>\n",
       "    <tr>\n",
       "      <th>3</th>\n",
       "      <td>youtube#videoCategory</td>\n",
       "      <td>\"m2yskBQFythfE4irbTIeOgYYfBU/HwXKamM1Q20q9BN-o...</td>\n",
       "      <td>15</td>\n",
       "      <td>UCBR8-60-B28hp2BmDPdntcQ</td>\n",
       "      <td>Pets &amp; Animals</td>\n",
       "      <td>True</td>\n",
       "      <td>youtube#videoCategoryListResponse</td>\n",
       "      <td>\"m2yskBQFythfE4irbTIeOgYYfBU/S730Ilt-Fi-emsQJv...</td>\n",
       "    </tr>\n",
       "    <tr>\n",
       "      <th>4</th>\n",
       "      <td>youtube#videoCategory</td>\n",
       "      <td>\"m2yskBQFythfE4irbTIeOgYYfBU/9GQMSRjrZdHeb1OEM...</td>\n",
       "      <td>17</td>\n",
       "      <td>UCBR8-60-B28hp2BmDPdntcQ</td>\n",
       "      <td>Sports</td>\n",
       "      <td>True</td>\n",
       "      <td>youtube#videoCategoryListResponse</td>\n",
       "      <td>\"m2yskBQFythfE4irbTIeOgYYfBU/S730Ilt-Fi-emsQJv...</td>\n",
       "    </tr>\n",
       "  </tbody>\n",
       "</table>\n",
       "</div>"
      ],
      "text/plain": [
       "             dbscan_kind                                        dbscan_etag  \\\n",
       "0  youtube#videoCategory  \"m2yskBQFythfE4irbTIeOgYYfBU/Xy1mB4_yLrHy_BmKm...   \n",
       "1  youtube#videoCategory  \"m2yskBQFythfE4irbTIeOgYYfBU/UZ1oLIIz2dxIhO45Z...   \n",
       "2  youtube#videoCategory  \"m2yskBQFythfE4irbTIeOgYYfBU/nqRIq97-xe5XRZTxb...   \n",
       "3  youtube#videoCategory  \"m2yskBQFythfE4irbTIeOgYYfBU/HwXKamM1Q20q9BN-o...   \n",
       "4  youtube#videoCategory  \"m2yskBQFythfE4irbTIeOgYYfBU/9GQMSRjrZdHeb1OEM...   \n",
       "\n",
       "   dbscan_id  dbscan_snippet.channelId dbscan_snippet.title  \\\n",
       "0          1  UCBR8-60-B28hp2BmDPdntcQ     Film & Animation   \n",
       "1          2  UCBR8-60-B28hp2BmDPdntcQ     Autos & Vehicles   \n",
       "2         10  UCBR8-60-B28hp2BmDPdntcQ                Music   \n",
       "3         15  UCBR8-60-B28hp2BmDPdntcQ       Pets & Animals   \n",
       "4         17  UCBR8-60-B28hp2BmDPdntcQ               Sports   \n",
       "\n",
       "   dbscan_snippet.assignable                 config_params_kind  \\\n",
       "0                       True  youtube#videoCategoryListResponse   \n",
       "1                       True  youtube#videoCategoryListResponse   \n",
       "2                       True  youtube#videoCategoryListResponse   \n",
       "3                       True  youtube#videoCategoryListResponse   \n",
       "4                       True  youtube#videoCategoryListResponse   \n",
       "\n",
       "                                  config_params_etag  \n",
       "0  \"m2yskBQFythfE4irbTIeOgYYfBU/S730Ilt-Fi-emsQJv...  \n",
       "1  \"m2yskBQFythfE4irbTIeOgYYfBU/S730Ilt-Fi-emsQJv...  \n",
       "2  \"m2yskBQFythfE4irbTIeOgYYfBU/S730Ilt-Fi-emsQJv...  \n",
       "3  \"m2yskBQFythfE4irbTIeOgYYfBU/S730Ilt-Fi-emsQJv...  \n",
       "4  \"m2yskBQFythfE4irbTIeOgYYfBU/S730Ilt-Fi-emsQJv...  "
      ]
     },
     "execution_count": 7,
     "metadata": {},
     "output_type": "execute_result"
    }
   ],
   "source": [
    "cat.head()"
   ]
  },
  {
   "cell_type": "code",
   "execution_count": 8,
   "metadata": {},
   "outputs": [
    {
     "name": "stdout",
     "output_type": "stream",
     "text": [
      "<class 'pandas.core.frame.DataFrame'>\n",
      "RangeIndex: 32 entries, 0 to 31\n",
      "Data columns (total 8 columns):\n",
      " #   Column                     Non-Null Count  Dtype \n",
      "---  ------                     --------------  ----- \n",
      " 0   dbscan_kind                32 non-null     object\n",
      " 1   dbscan_etag                32 non-null     object\n",
      " 2   dbscan_id                  32 non-null     int64 \n",
      " 3   dbscan_snippet.channelId   32 non-null     object\n",
      " 4   dbscan_snippet.title       32 non-null     object\n",
      " 5   dbscan_snippet.assignable  32 non-null     bool  \n",
      " 6   config_params_kind         32 non-null     object\n",
      " 7   config_params_etag         32 non-null     object\n",
      "dtypes: bool(1), int64(1), object(6)\n",
      "memory usage: 1.9+ KB\n"
     ]
    }
   ],
   "source": [
    "cat.info()"
   ]
  },
  {
   "cell_type": "markdown",
   "metadata": {},
   "source": [
    "Ahora que contamos con el dataset principal de videos de youtube y las categorías, debemos unirlos."
   ]
  },
  {
   "cell_type": "code",
   "execution_count": 9,
   "metadata": {},
   "outputs": [],
   "source": [
    "newUSVideos = usVideos.merge(cat, left_on='category_id',right_on='dbscan_id', how='inner')"
   ]
  },
  {
   "cell_type": "code",
   "execution_count": 10,
   "metadata": {},
   "outputs": [
    {
     "data": {
      "text/html": [
       "<div>\n",
       "<style scoped>\n",
       "    .dataframe tbody tr th:only-of-type {\n",
       "        vertical-align: middle;\n",
       "    }\n",
       "\n",
       "    .dataframe tbody tr th {\n",
       "        vertical-align: top;\n",
       "    }\n",
       "\n",
       "    .dataframe thead th {\n",
       "        text-align: right;\n",
       "    }\n",
       "</style>\n",
       "<table border=\"1\" class=\"dataframe\">\n",
       "  <thead>\n",
       "    <tr style=\"text-align: right;\">\n",
       "      <th></th>\n",
       "      <th>video_id</th>\n",
       "      <th>trending_date</th>\n",
       "      <th>title</th>\n",
       "      <th>channel_title</th>\n",
       "      <th>category_id</th>\n",
       "      <th>publish_time</th>\n",
       "      <th>tags</th>\n",
       "      <th>views</th>\n",
       "      <th>likes</th>\n",
       "      <th>dislikes</th>\n",
       "      <th>...</th>\n",
       "      <th>lon</th>\n",
       "      <th>geometry</th>\n",
       "      <th>dbscan_kind</th>\n",
       "      <th>dbscan_etag</th>\n",
       "      <th>dbscan_id</th>\n",
       "      <th>dbscan_snippet.channelId</th>\n",
       "      <th>dbscan_snippet.title</th>\n",
       "      <th>dbscan_snippet.assignable</th>\n",
       "      <th>config_params_kind</th>\n",
       "      <th>config_params_etag</th>\n",
       "    </tr>\n",
       "  </thead>\n",
       "  <tbody>\n",
       "    <tr>\n",
       "      <th>0</th>\n",
       "      <td>2kyS6SvSYSE</td>\n",
       "      <td>17.14.11</td>\n",
       "      <td>WE WANT TO TALK ABOUT OUR MARRIAGE</td>\n",
       "      <td>CaseyNeistat</td>\n",
       "      <td>22</td>\n",
       "      <td>2017-11-13T17:13:01.000Z</td>\n",
       "      <td>SHANtell martin</td>\n",
       "      <td>748374</td>\n",
       "      <td>57527</td>\n",
       "      <td>2966</td>\n",
       "      <td>...</td>\n",
       "      <td>-111.950684</td>\n",
       "      <td>POINT (-111.950684 39.41922)</td>\n",
       "      <td>youtube#videoCategory</td>\n",
       "      <td>\"m2yskBQFythfE4irbTIeOgYYfBU/xId8RX7vRN8rqkbYZ...</td>\n",
       "      <td>22</td>\n",
       "      <td>UCBR8-60-B28hp2BmDPdntcQ</td>\n",
       "      <td>People &amp; Blogs</td>\n",
       "      <td>True</td>\n",
       "      <td>youtube#videoCategoryListResponse</td>\n",
       "      <td>\"m2yskBQFythfE4irbTIeOgYYfBU/S730Ilt-Fi-emsQJv...</td>\n",
       "    </tr>\n",
       "    <tr>\n",
       "      <th>1</th>\n",
       "      <td>0mlNzVSJrT0</td>\n",
       "      <td>17.14.11</td>\n",
       "      <td>Me-O Cats Commercial</td>\n",
       "      <td>Nobrand</td>\n",
       "      <td>22</td>\n",
       "      <td>2017-04-21T06:47:32.000Z</td>\n",
       "      <td>cute|\"cats\"|\"thai\"|\"eggs\"</td>\n",
       "      <td>98966</td>\n",
       "      <td>2486</td>\n",
       "      <td>184</td>\n",
       "      <td>...</td>\n",
       "      <td>-155.844437</td>\n",
       "      <td>POINT (-155.844437 19.741755)</td>\n",
       "      <td>youtube#videoCategory</td>\n",
       "      <td>\"m2yskBQFythfE4irbTIeOgYYfBU/xId8RX7vRN8rqkbYZ...</td>\n",
       "      <td>22</td>\n",
       "      <td>UCBR8-60-B28hp2BmDPdntcQ</td>\n",
       "      <td>People &amp; Blogs</td>\n",
       "      <td>True</td>\n",
       "      <td>youtube#videoCategoryListResponse</td>\n",
       "      <td>\"m2yskBQFythfE4irbTIeOgYYfBU/S730Ilt-Fi-emsQJv...</td>\n",
       "    </tr>\n",
       "    <tr>\n",
       "      <th>2</th>\n",
       "      <td>STI2fI7sKMo</td>\n",
       "      <td>17.14.11</td>\n",
       "      <td>AFFAIRS, EX BOYFRIENDS, $18MILLION NET WORTH -...</td>\n",
       "      <td>Shawn Johnson East</td>\n",
       "      <td>22</td>\n",
       "      <td>2017-11-11T15:00:03.000Z</td>\n",
       "      <td>shawn johnson|\"andrew east\"|\"shawn east\"|\"shaw...</td>\n",
       "      <td>321053</td>\n",
       "      <td>4451</td>\n",
       "      <td>1772</td>\n",
       "      <td>...</td>\n",
       "      <td>-96.921387</td>\n",
       "      <td>POINT (-96.921387 36.084621)</td>\n",
       "      <td>youtube#videoCategory</td>\n",
       "      <td>\"m2yskBQFythfE4irbTIeOgYYfBU/xId8RX7vRN8rqkbYZ...</td>\n",
       "      <td>22</td>\n",
       "      <td>UCBR8-60-B28hp2BmDPdntcQ</td>\n",
       "      <td>People &amp; Blogs</td>\n",
       "      <td>True</td>\n",
       "      <td>youtube#videoCategoryListResponse</td>\n",
       "      <td>\"m2yskBQFythfE4irbTIeOgYYfBU/S730Ilt-Fi-emsQJv...</td>\n",
       "    </tr>\n",
       "    <tr>\n",
       "      <th>3</th>\n",
       "      <td>KODzih-pYlU</td>\n",
       "      <td>17.14.11</td>\n",
       "      <td>BLIND(folded) CAKE DECORATING CONTEST (with Mo...</td>\n",
       "      <td>Grace Helbig</td>\n",
       "      <td>22</td>\n",
       "      <td>2017-11-11T18:08:04.000Z</td>\n",
       "      <td>itsgrace|\"funny\"|\"comedy\"|\"vlog\"|\"grace\"|\"helb...</td>\n",
       "      <td>197062</td>\n",
       "      <td>7250</td>\n",
       "      <td>217</td>\n",
       "      <td>...</td>\n",
       "      <td>-111.950684</td>\n",
       "      <td>POINT (-111.950684 39.41922)</td>\n",
       "      <td>youtube#videoCategory</td>\n",
       "      <td>\"m2yskBQFythfE4irbTIeOgYYfBU/xId8RX7vRN8rqkbYZ...</td>\n",
       "      <td>22</td>\n",
       "      <td>UCBR8-60-B28hp2BmDPdntcQ</td>\n",
       "      <td>People &amp; Blogs</td>\n",
       "      <td>True</td>\n",
       "      <td>youtube#videoCategoryListResponse</td>\n",
       "      <td>\"m2yskBQFythfE4irbTIeOgYYfBU/S730Ilt-Fi-emsQJv...</td>\n",
       "    </tr>\n",
       "    <tr>\n",
       "      <th>4</th>\n",
       "      <td>8mhTWqWlQzU</td>\n",
       "      <td>17.14.11</td>\n",
       "      <td>Wearing Online Dollar Store Makeup For A Week</td>\n",
       "      <td>Safiya Nygaard</td>\n",
       "      <td>22</td>\n",
       "      <td>2017-11-11T01:19:33.000Z</td>\n",
       "      <td>wearing online dollar store makeup for a week|...</td>\n",
       "      <td>2744430</td>\n",
       "      <td>115426</td>\n",
       "      <td>1110</td>\n",
       "      <td>...</td>\n",
       "      <td>-100.000000</td>\n",
       "      <td>POINT (-100 41.5)</td>\n",
       "      <td>youtube#videoCategory</td>\n",
       "      <td>\"m2yskBQFythfE4irbTIeOgYYfBU/xId8RX7vRN8rqkbYZ...</td>\n",
       "      <td>22</td>\n",
       "      <td>UCBR8-60-B28hp2BmDPdntcQ</td>\n",
       "      <td>People &amp; Blogs</td>\n",
       "      <td>True</td>\n",
       "      <td>youtube#videoCategoryListResponse</td>\n",
       "      <td>\"m2yskBQFythfE4irbTIeOgYYfBU/S730Ilt-Fi-emsQJv...</td>\n",
       "    </tr>\n",
       "  </tbody>\n",
       "</table>\n",
       "<p>5 rows × 28 columns</p>\n",
       "</div>"
      ],
      "text/plain": [
       "      video_id trending_date  \\\n",
       "0  2kyS6SvSYSE      17.14.11   \n",
       "1  0mlNzVSJrT0      17.14.11   \n",
       "2  STI2fI7sKMo      17.14.11   \n",
       "3  KODzih-pYlU      17.14.11   \n",
       "4  8mhTWqWlQzU      17.14.11   \n",
       "\n",
       "                                               title       channel_title  \\\n",
       "0                 WE WANT TO TALK ABOUT OUR MARRIAGE        CaseyNeistat   \n",
       "1                               Me-O Cats Commercial             Nobrand   \n",
       "2  AFFAIRS, EX BOYFRIENDS, $18MILLION NET WORTH -...  Shawn Johnson East   \n",
       "3  BLIND(folded) CAKE DECORATING CONTEST (with Mo...        Grace Helbig   \n",
       "4      Wearing Online Dollar Store Makeup For A Week      Safiya Nygaard   \n",
       "\n",
       "   category_id              publish_time  \\\n",
       "0           22  2017-11-13T17:13:01.000Z   \n",
       "1           22  2017-04-21T06:47:32.000Z   \n",
       "2           22  2017-11-11T15:00:03.000Z   \n",
       "3           22  2017-11-11T18:08:04.000Z   \n",
       "4           22  2017-11-11T01:19:33.000Z   \n",
       "\n",
       "                                                tags    views   likes  \\\n",
       "0                                    SHANtell martin   748374   57527   \n",
       "1                          cute|\"cats\"|\"thai\"|\"eggs\"    98966    2486   \n",
       "2  shawn johnson|\"andrew east\"|\"shawn east\"|\"shaw...   321053    4451   \n",
       "3  itsgrace|\"funny\"|\"comedy\"|\"vlog\"|\"grace\"|\"helb...   197062    7250   \n",
       "4  wearing online dollar store makeup for a week|...  2744430  115426   \n",
       "\n",
       "   dislikes  ...         lon                       geometry  \\\n",
       "0      2966  ... -111.950684   POINT (-111.950684 39.41922)   \n",
       "1       184  ... -155.844437  POINT (-155.844437 19.741755)   \n",
       "2      1772  ...  -96.921387   POINT (-96.921387 36.084621)   \n",
       "3       217  ... -111.950684   POINT (-111.950684 39.41922)   \n",
       "4      1110  ... -100.000000              POINT (-100 41.5)   \n",
       "\n",
       "             dbscan_kind                                        dbscan_etag  \\\n",
       "0  youtube#videoCategory  \"m2yskBQFythfE4irbTIeOgYYfBU/xId8RX7vRN8rqkbYZ...   \n",
       "1  youtube#videoCategory  \"m2yskBQFythfE4irbTIeOgYYfBU/xId8RX7vRN8rqkbYZ...   \n",
       "2  youtube#videoCategory  \"m2yskBQFythfE4irbTIeOgYYfBU/xId8RX7vRN8rqkbYZ...   \n",
       "3  youtube#videoCategory  \"m2yskBQFythfE4irbTIeOgYYfBU/xId8RX7vRN8rqkbYZ...   \n",
       "4  youtube#videoCategory  \"m2yskBQFythfE4irbTIeOgYYfBU/xId8RX7vRN8rqkbYZ...   \n",
       "\n",
       "   dbscan_id  dbscan_snippet.channelId dbscan_snippet.title  \\\n",
       "0         22  UCBR8-60-B28hp2BmDPdntcQ       People & Blogs   \n",
       "1         22  UCBR8-60-B28hp2BmDPdntcQ       People & Blogs   \n",
       "2         22  UCBR8-60-B28hp2BmDPdntcQ       People & Blogs   \n",
       "3         22  UCBR8-60-B28hp2BmDPdntcQ       People & Blogs   \n",
       "4         22  UCBR8-60-B28hp2BmDPdntcQ       People & Blogs   \n",
       "\n",
       "   dbscan_snippet.assignable                 config_params_kind  \\\n",
       "0                       True  youtube#videoCategoryListResponse   \n",
       "1                       True  youtube#videoCategoryListResponse   \n",
       "2                       True  youtube#videoCategoryListResponse   \n",
       "3                       True  youtube#videoCategoryListResponse   \n",
       "4                       True  youtube#videoCategoryListResponse   \n",
       "\n",
       "                                  config_params_etag  \n",
       "0  \"m2yskBQFythfE4irbTIeOgYYfBU/S730Ilt-Fi-emsQJv...  \n",
       "1  \"m2yskBQFythfE4irbTIeOgYYfBU/S730Ilt-Fi-emsQJv...  \n",
       "2  \"m2yskBQFythfE4irbTIeOgYYfBU/S730Ilt-Fi-emsQJv...  \n",
       "3  \"m2yskBQFythfE4irbTIeOgYYfBU/S730Ilt-Fi-emsQJv...  \n",
       "4  \"m2yskBQFythfE4irbTIeOgYYfBU/S730Ilt-Fi-emsQJv...  \n",
       "\n",
       "[5 rows x 28 columns]"
      ]
     },
     "execution_count": 10,
     "metadata": {},
     "output_type": "execute_result"
    }
   ],
   "source": [
    "newUSVideos.head()"
   ]
  },
  {
   "cell_type": "code",
   "execution_count": 11,
   "metadata": {},
   "outputs": [
    {
     "name": "stdout",
     "output_type": "stream",
     "text": [
      "<class 'pandas.core.frame.DataFrame'>\n",
      "Int64Index: 40949 entries, 0 to 40948\n",
      "Data columns (total 28 columns):\n",
      " #   Column                     Non-Null Count  Dtype  \n",
      "---  ------                     --------------  -----  \n",
      " 0   video_id                   40949 non-null  object \n",
      " 1   trending_date              40949 non-null  object \n",
      " 2   title                      40949 non-null  object \n",
      " 3   channel_title              40949 non-null  object \n",
      " 4   category_id                40949 non-null  int64  \n",
      " 5   publish_time               40949 non-null  object \n",
      " 6   tags                       40949 non-null  object \n",
      " 7   views                      40949 non-null  int64  \n",
      " 8   likes                      40949 non-null  int64  \n",
      " 9   dislikes                   40949 non-null  int64  \n",
      " 10  comment_count              40949 non-null  int64  \n",
      " 11  thumbnail_link             40949 non-null  object \n",
      " 12  comments_disabled          40949 non-null  bool   \n",
      " 13  ratings_disabled           40949 non-null  bool   \n",
      " 14  video_error_or_removed     40949 non-null  bool   \n",
      " 15  description                40379 non-null  object \n",
      " 16  state                      40949 non-null  object \n",
      " 17  lat                        40949 non-null  float64\n",
      " 18  lon                        40949 non-null  float64\n",
      " 19  geometry                   40949 non-null  object \n",
      " 20  dbscan_kind                40949 non-null  object \n",
      " 21  dbscan_etag                40949 non-null  object \n",
      " 22  dbscan_id                  40949 non-null  int64  \n",
      " 23  dbscan_snippet.channelId   40949 non-null  object \n",
      " 24  dbscan_snippet.title       40949 non-null  object \n",
      " 25  dbscan_snippet.assignable  40949 non-null  bool   \n",
      " 26  config_params_kind         40949 non-null  object \n",
      " 27  config_params_etag         40949 non-null  object \n",
      "dtypes: bool(4), float64(2), int64(6), object(16)\n",
      "memory usage: 8.0+ MB\n"
     ]
    }
   ],
   "source": [
    "newUSVideos.info()"
   ]
  },
  {
   "cell_type": "markdown",
   "metadata": {},
   "source": [
    "Una vez unidos elminaremos todas las columnas que no necesitamos para el análisis."
   ]
  },
  {
   "cell_type": "code",
   "execution_count": 12,
   "metadata": {},
   "outputs": [],
   "source": [
    "newUSVideos.drop(['dbscan_kind','dbscan_etag','dbscan_id','dbscan_snippet.channelId','dbscan_snippet.assignable',\n",
    "                 'config_params_kind','config_params_etag'],axis=1,inplace=True)"
   ]
  },
  {
   "cell_type": "code",
   "execution_count": 13,
   "metadata": {},
   "outputs": [
    {
     "name": "stdout",
     "output_type": "stream",
     "text": [
      "<class 'pandas.core.frame.DataFrame'>\n",
      "Int64Index: 40949 entries, 0 to 40948\n",
      "Data columns (total 21 columns):\n",
      " #   Column                  Non-Null Count  Dtype  \n",
      "---  ------                  --------------  -----  \n",
      " 0   video_id                40949 non-null  object \n",
      " 1   trending_date           40949 non-null  object \n",
      " 2   title                   40949 non-null  object \n",
      " 3   channel_title           40949 non-null  object \n",
      " 4   category_id             40949 non-null  int64  \n",
      " 5   publish_time            40949 non-null  object \n",
      " 6   tags                    40949 non-null  object \n",
      " 7   views                   40949 non-null  int64  \n",
      " 8   likes                   40949 non-null  int64  \n",
      " 9   dislikes                40949 non-null  int64  \n",
      " 10  comment_count           40949 non-null  int64  \n",
      " 11  thumbnail_link          40949 non-null  object \n",
      " 12  comments_disabled       40949 non-null  bool   \n",
      " 13  ratings_disabled        40949 non-null  bool   \n",
      " 14  video_error_or_removed  40949 non-null  bool   \n",
      " 15  description             40379 non-null  object \n",
      " 16  state                   40949 non-null  object \n",
      " 17  lat                     40949 non-null  float64\n",
      " 18  lon                     40949 non-null  float64\n",
      " 19  geometry                40949 non-null  object \n",
      " 20  dbscan_snippet.title    40949 non-null  object \n",
      "dtypes: bool(3), float64(2), int64(5), object(11)\n",
      "memory usage: 6.1+ MB\n"
     ]
    }
   ],
   "source": [
    "newUSVideos.info()"
   ]
  },
  {
   "cell_type": "code",
   "execution_count": 14,
   "metadata": {},
   "outputs": [
    {
     "data": {
      "text/html": [
       "<div>\n",
       "<style scoped>\n",
       "    .dataframe tbody tr th:only-of-type {\n",
       "        vertical-align: middle;\n",
       "    }\n",
       "\n",
       "    .dataframe tbody tr th {\n",
       "        vertical-align: top;\n",
       "    }\n",
       "\n",
       "    .dataframe thead th {\n",
       "        text-align: right;\n",
       "    }\n",
       "</style>\n",
       "<table border=\"1\" class=\"dataframe\">\n",
       "  <thead>\n",
       "    <tr style=\"text-align: right;\">\n",
       "      <th></th>\n",
       "      <th>video_id</th>\n",
       "      <th>trending_date</th>\n",
       "      <th>title</th>\n",
       "      <th>channel_title</th>\n",
       "      <th>category_id</th>\n",
       "      <th>publish_time</th>\n",
       "      <th>tags</th>\n",
       "      <th>views</th>\n",
       "      <th>likes</th>\n",
       "      <th>dislikes</th>\n",
       "      <th>...</th>\n",
       "      <th>thumbnail_link</th>\n",
       "      <th>comments_disabled</th>\n",
       "      <th>ratings_disabled</th>\n",
       "      <th>video_error_or_removed</th>\n",
       "      <th>description</th>\n",
       "      <th>state</th>\n",
       "      <th>lat</th>\n",
       "      <th>lon</th>\n",
       "      <th>geometry</th>\n",
       "      <th>dbscan_snippet.title</th>\n",
       "    </tr>\n",
       "  </thead>\n",
       "  <tbody>\n",
       "    <tr>\n",
       "      <th>40944</th>\n",
       "      <td>V6ElE2xs48c</td>\n",
       "      <td>18.02.06</td>\n",
       "      <td>Game of Zones - S5:E5: The Isle of Van Gundy</td>\n",
       "      <td>Bleacher Report</td>\n",
       "      <td>43</td>\n",
       "      <td>2018-05-10T21:01:22.000Z</td>\n",
       "      <td>bleacher report|\"br\"|\"nba\"|\"Stan Van Gundy\"|\"J...</td>\n",
       "      <td>1324482</td>\n",
       "      <td>22413</td>\n",
       "      <td>608</td>\n",
       "      <td>...</td>\n",
       "      <td>https://i.ytimg.com/vi/V6ElE2xs48c/default.jpg</td>\n",
       "      <td>False</td>\n",
       "      <td>False</td>\n",
       "      <td>False</td>\n",
       "      <td>On an island full of Van Gundys, Stan gets tal...</td>\n",
       "      <td>Oklahoma</td>\n",
       "      <td>36.084621</td>\n",
       "      <td>-96.921387</td>\n",
       "      <td>POINT (-96.921387 36.084621)</td>\n",
       "      <td>Shows</td>\n",
       "    </tr>\n",
       "    <tr>\n",
       "      <th>40945</th>\n",
       "      <td>V6ElE2xs48c</td>\n",
       "      <td>18.03.06</td>\n",
       "      <td>Game of Zones - S5:E5: The Isle of Van Gundy</td>\n",
       "      <td>Bleacher Report</td>\n",
       "      <td>43</td>\n",
       "      <td>2018-05-10T21:01:22.000Z</td>\n",
       "      <td>bleacher report|\"br\"|\"nba\"|\"Stan Van Gundy\"|\"J...</td>\n",
       "      <td>1332252</td>\n",
       "      <td>22461</td>\n",
       "      <td>610</td>\n",
       "      <td>...</td>\n",
       "      <td>https://i.ytimg.com/vi/V6ElE2xs48c/default.jpg</td>\n",
       "      <td>False</td>\n",
       "      <td>False</td>\n",
       "      <td>False</td>\n",
       "      <td>On an island full of Van Gundys, Stan gets tal...</td>\n",
       "      <td>Michigan</td>\n",
       "      <td>44.182205</td>\n",
       "      <td>-84.506836</td>\n",
       "      <td>POINT (-84.50683600000001 44.182205)</td>\n",
       "      <td>Shows</td>\n",
       "    </tr>\n",
       "    <tr>\n",
       "      <th>40946</th>\n",
       "      <td>V6ElE2xs48c</td>\n",
       "      <td>18.04.06</td>\n",
       "      <td>Game of Zones - S5:E5: The Isle of Van Gundy</td>\n",
       "      <td>Bleacher Report</td>\n",
       "      <td>43</td>\n",
       "      <td>2018-05-10T21:01:22.000Z</td>\n",
       "      <td>bleacher report|\"br\"|\"nba\"|\"Stan Van Gundy\"|\"J...</td>\n",
       "      <td>1340039</td>\n",
       "      <td>22504</td>\n",
       "      <td>615</td>\n",
       "      <td>...</td>\n",
       "      <td>https://i.ytimg.com/vi/V6ElE2xs48c/default.jpg</td>\n",
       "      <td>False</td>\n",
       "      <td>False</td>\n",
       "      <td>False</td>\n",
       "      <td>On an island full of Van Gundys, Stan gets tal...</td>\n",
       "      <td>Vermont</td>\n",
       "      <td>44.000000</td>\n",
       "      <td>-72.699997</td>\n",
       "      <td>POINT (-72.699997 44)</td>\n",
       "      <td>Shows</td>\n",
       "    </tr>\n",
       "    <tr>\n",
       "      <th>40947</th>\n",
       "      <td>V6ElE2xs48c</td>\n",
       "      <td>18.05.06</td>\n",
       "      <td>Game of Zones - S5:E5: The Isle of Van Gundy</td>\n",
       "      <td>Bleacher Report</td>\n",
       "      <td>43</td>\n",
       "      <td>2018-05-10T21:01:22.000Z</td>\n",
       "      <td>bleacher report|\"br\"|\"nba\"|\"Stan Van Gundy\"|\"J...</td>\n",
       "      <td>1345086</td>\n",
       "      <td>22542</td>\n",
       "      <td>615</td>\n",
       "      <td>...</td>\n",
       "      <td>https://i.ytimg.com/vi/V6ElE2xs48c/default.jpg</td>\n",
       "      <td>False</td>\n",
       "      <td>False</td>\n",
       "      <td>False</td>\n",
       "      <td>On an island full of Van Gundys, Stan gets tal...</td>\n",
       "      <td>North Dakota</td>\n",
       "      <td>47.650589</td>\n",
       "      <td>-100.437012</td>\n",
       "      <td>POINT (-100.437012 47.650589)</td>\n",
       "      <td>Shows</td>\n",
       "    </tr>\n",
       "    <tr>\n",
       "      <th>40948</th>\n",
       "      <td>V6ElE2xs48c</td>\n",
       "      <td>18.06.06</td>\n",
       "      <td>Game of Zones - S5:E5: The Isle of Van Gundy</td>\n",
       "      <td>Bleacher Report</td>\n",
       "      <td>43</td>\n",
       "      <td>2018-05-10T21:01:22.000Z</td>\n",
       "      <td>bleacher report|\"br\"|\"nba\"|\"Stan Van Gundy\"|\"J...</td>\n",
       "      <td>1351321</td>\n",
       "      <td>22587</td>\n",
       "      <td>616</td>\n",
       "      <td>...</td>\n",
       "      <td>https://i.ytimg.com/vi/V6ElE2xs48c/default.jpg</td>\n",
       "      <td>False</td>\n",
       "      <td>False</td>\n",
       "      <td>False</td>\n",
       "      <td>On an island full of Van Gundys, Stan gets tal...</td>\n",
       "      <td>Montana</td>\n",
       "      <td>46.965260</td>\n",
       "      <td>-109.533691</td>\n",
       "      <td>POINT (-109.533691 46.96526)</td>\n",
       "      <td>Shows</td>\n",
       "    </tr>\n",
       "  </tbody>\n",
       "</table>\n",
       "<p>5 rows × 21 columns</p>\n",
       "</div>"
      ],
      "text/plain": [
       "          video_id trending_date  \\\n",
       "40944  V6ElE2xs48c      18.02.06   \n",
       "40945  V6ElE2xs48c      18.03.06   \n",
       "40946  V6ElE2xs48c      18.04.06   \n",
       "40947  V6ElE2xs48c      18.05.06   \n",
       "40948  V6ElE2xs48c      18.06.06   \n",
       "\n",
       "                                              title    channel_title  \\\n",
       "40944  Game of Zones - S5:E5: The Isle of Van Gundy  Bleacher Report   \n",
       "40945  Game of Zones - S5:E5: The Isle of Van Gundy  Bleacher Report   \n",
       "40946  Game of Zones - S5:E5: The Isle of Van Gundy  Bleacher Report   \n",
       "40947  Game of Zones - S5:E5: The Isle of Van Gundy  Bleacher Report   \n",
       "40948  Game of Zones - S5:E5: The Isle of Van Gundy  Bleacher Report   \n",
       "\n",
       "       category_id              publish_time  \\\n",
       "40944           43  2018-05-10T21:01:22.000Z   \n",
       "40945           43  2018-05-10T21:01:22.000Z   \n",
       "40946           43  2018-05-10T21:01:22.000Z   \n",
       "40947           43  2018-05-10T21:01:22.000Z   \n",
       "40948           43  2018-05-10T21:01:22.000Z   \n",
       "\n",
       "                                                    tags    views  likes  \\\n",
       "40944  bleacher report|\"br\"|\"nba\"|\"Stan Van Gundy\"|\"J...  1324482  22413   \n",
       "40945  bleacher report|\"br\"|\"nba\"|\"Stan Van Gundy\"|\"J...  1332252  22461   \n",
       "40946  bleacher report|\"br\"|\"nba\"|\"Stan Van Gundy\"|\"J...  1340039  22504   \n",
       "40947  bleacher report|\"br\"|\"nba\"|\"Stan Van Gundy\"|\"J...  1345086  22542   \n",
       "40948  bleacher report|\"br\"|\"nba\"|\"Stan Van Gundy\"|\"J...  1351321  22587   \n",
       "\n",
       "       dislikes  ...                                  thumbnail_link  \\\n",
       "40944       608  ...  https://i.ytimg.com/vi/V6ElE2xs48c/default.jpg   \n",
       "40945       610  ...  https://i.ytimg.com/vi/V6ElE2xs48c/default.jpg   \n",
       "40946       615  ...  https://i.ytimg.com/vi/V6ElE2xs48c/default.jpg   \n",
       "40947       615  ...  https://i.ytimg.com/vi/V6ElE2xs48c/default.jpg   \n",
       "40948       616  ...  https://i.ytimg.com/vi/V6ElE2xs48c/default.jpg   \n",
       "\n",
       "      comments_disabled  ratings_disabled  video_error_or_removed  \\\n",
       "40944             False             False                   False   \n",
       "40945             False             False                   False   \n",
       "40946             False             False                   False   \n",
       "40947             False             False                   False   \n",
       "40948             False             False                   False   \n",
       "\n",
       "                                             description         state  \\\n",
       "40944  On an island full of Van Gundys, Stan gets tal...      Oklahoma   \n",
       "40945  On an island full of Van Gundys, Stan gets tal...      Michigan   \n",
       "40946  On an island full of Van Gundys, Stan gets tal...       Vermont   \n",
       "40947  On an island full of Van Gundys, Stan gets tal...  North Dakota   \n",
       "40948  On an island full of Van Gundys, Stan gets tal...       Montana   \n",
       "\n",
       "             lat         lon                              geometry  \\\n",
       "40944  36.084621  -96.921387          POINT (-96.921387 36.084621)   \n",
       "40945  44.182205  -84.506836  POINT (-84.50683600000001 44.182205)   \n",
       "40946  44.000000  -72.699997                 POINT (-72.699997 44)   \n",
       "40947  47.650589 -100.437012         POINT (-100.437012 47.650589)   \n",
       "40948  46.965260 -109.533691          POINT (-109.533691 46.96526)   \n",
       "\n",
       "      dbscan_snippet.title  \n",
       "40944                Shows  \n",
       "40945                Shows  \n",
       "40946                Shows  \n",
       "40947                Shows  \n",
       "40948                Shows  \n",
       "\n",
       "[5 rows x 21 columns]"
      ]
     },
     "execution_count": 14,
     "metadata": {},
     "output_type": "execute_result"
    }
   ],
   "source": [
    "newUSVideos.tail()"
   ]
  },
  {
   "cell_type": "code",
   "execution_count": 15,
   "metadata": {},
   "outputs": [
    {
     "data": {
      "text/plain": [
       "0        2017-11-13T17:13:01.000Z\n",
       "1        2017-04-21T06:47:32.000Z\n",
       "2        2017-11-11T15:00:03.000Z\n",
       "3        2017-11-11T18:08:04.000Z\n",
       "4        2017-11-11T01:19:33.000Z\n",
       "                   ...           \n",
       "40944    2018-05-10T21:01:22.000Z\n",
       "40945    2018-05-10T21:01:22.000Z\n",
       "40946    2018-05-10T21:01:22.000Z\n",
       "40947    2018-05-10T21:01:22.000Z\n",
       "40948    2018-05-10T21:01:22.000Z\n",
       "Name: publish_time, Length: 40949, dtype: object"
      ]
     },
     "execution_count": 15,
     "metadata": {},
     "output_type": "execute_result"
    }
   ],
   "source": [
    "newUSVideos[\"publish_time\"]"
   ]
  },
  {
   "cell_type": "code",
   "execution_count": 16,
   "metadata": {},
   "outputs": [],
   "source": [
    "#Retornar un objecto de forma yy mm dd para pasarlo a datetime\n",
    "object_publish_time_ymd = pd.to_datetime(newUSVideos[\"publish_time\"]).dt.strftime('%Y-%m-%d')"
   ]
  },
  {
   "cell_type": "code",
   "execution_count": 17,
   "metadata": {},
   "outputs": [],
   "source": [
    "#Retornar un objecto de forma hh mm ss para pasarlo a datetime\n",
    "object_publish_time_hms = pd.to_datetime(newUSVideos[\"publish_time\"]).dt.strftime('%H:%M:%S')"
   ]
  },
  {
   "cell_type": "code",
   "execution_count": 18,
   "metadata": {},
   "outputs": [
    {
     "data": {
      "text/plain": [
       "0        2017-11-13\n",
       "1        2017-04-21\n",
       "2        2017-11-11\n",
       "3        2017-11-11\n",
       "4        2017-11-11\n",
       "            ...    \n",
       "40944    2018-05-10\n",
       "40945    2018-05-10\n",
       "40946    2018-05-10\n",
       "40947    2018-05-10\n",
       "40948    2018-05-10\n",
       "Name: publish_time, Length: 40949, dtype: object"
      ]
     },
     "execution_count": 18,
     "metadata": {},
     "output_type": "execute_result"
    }
   ],
   "source": [
    "object_publish_time_ymd"
   ]
  },
  {
   "cell_type": "code",
   "execution_count": 19,
   "metadata": {},
   "outputs": [
    {
     "data": {
      "text/plain": [
       "0        17:13:01\n",
       "1        06:47:32\n",
       "2        15:00:03\n",
       "3        18:08:04\n",
       "4        01:19:33\n",
       "           ...   \n",
       "40944    21:01:22\n",
       "40945    21:01:22\n",
       "40946    21:01:22\n",
       "40947    21:01:22\n",
       "40948    21:01:22\n",
       "Name: publish_time, Length: 40949, dtype: object"
      ]
     },
     "execution_count": 19,
     "metadata": {},
     "output_type": "execute_result"
    }
   ],
   "source": [
    "object_publish_time_hms"
   ]
  },
  {
   "cell_type": "code",
   "execution_count": 20,
   "metadata": {},
   "outputs": [],
   "source": [
    "#Pasar la columna \"publish_time\" de tipo object a datetime\n",
    "newUSVideos[\"publish_time\"] = pd.to_datetime(object_publish_time_ymd)"
   ]
  },
  {
   "cell_type": "code",
   "execution_count": 21,
   "metadata": {},
   "outputs": [
    {
     "data": {
      "text/plain": [
       "0       2017-11-13\n",
       "1       2017-04-21\n",
       "2       2017-11-11\n",
       "3       2017-11-11\n",
       "4       2017-11-11\n",
       "           ...    \n",
       "40944   2018-05-10\n",
       "40945   2018-05-10\n",
       "40946   2018-05-10\n",
       "40947   2018-05-10\n",
       "40948   2018-05-10\n",
       "Name: publish_time, Length: 40949, dtype: datetime64[ns]"
      ]
     },
     "execution_count": 21,
     "metadata": {},
     "output_type": "execute_result"
    }
   ],
   "source": [
    "newUSVideos[\"publish_time\"]"
   ]
  },
  {
   "cell_type": "code",
   "execution_count": 22,
   "metadata": {},
   "outputs": [],
   "source": [
    "newUSVideos[\"post_time\"] = object_publish_time_hms"
   ]
  },
  {
   "cell_type": "code",
   "execution_count": 23,
   "metadata": {},
   "outputs": [
    {
     "data": {
      "text/plain": [
       "0        17:13:01\n",
       "1        06:47:32\n",
       "2        15:00:03\n",
       "3        18:08:04\n",
       "4        01:19:33\n",
       "           ...   \n",
       "40944    21:01:22\n",
       "40945    21:01:22\n",
       "40946    21:01:22\n",
       "40947    21:01:22\n",
       "40948    21:01:22\n",
       "Name: post_time, Length: 40949, dtype: object"
      ]
     },
     "execution_count": 23,
     "metadata": {},
     "output_type": "execute_result"
    }
   ],
   "source": [
    "newUSVideos[\"post_time\"]"
   ]
  },
  {
   "cell_type": "code",
   "execution_count": 24,
   "metadata": {},
   "outputs": [
    {
     "data": {
      "text/plain": [
       "0        17.14.11\n",
       "1        17.14.11\n",
       "2        17.14.11\n",
       "3        17.14.11\n",
       "4        17.14.11\n",
       "           ...   \n",
       "40944    18.02.06\n",
       "40945    18.03.06\n",
       "40946    18.04.06\n",
       "40947    18.05.06\n",
       "40948    18.06.06\n",
       "Name: trending_date, Length: 40949, dtype: object"
      ]
     },
     "execution_count": 24,
     "metadata": {},
     "output_type": "execute_result"
    }
   ],
   "source": [
    "#Falta transformar el dato atipico mes 14 no deberia existir\n",
    "newUSVideos[\"trending_date\"]"
   ]
  },
  {
   "cell_type": "code",
   "execution_count": 25,
   "metadata": {},
   "outputs": [],
   "source": [
    "#yy dd mm ===> yy mm dd\n",
    "def convertStr(date_str):\n",
    "    arr = list(date_str)\n",
    "    dd = arr[3:5]\n",
    "    mm = arr[6:8]\n",
    "    arr[3:5] = mm\n",
    "    arr[6:8] = dd\n",
    "    return \"\".join(arr)\n",
    "newUSVideos[\"trending_date\"] = newUSVideos[\"trending_date\"].apply(convertStr)"
   ]
  },
  {
   "cell_type": "code",
   "execution_count": 26,
   "metadata": {},
   "outputs": [],
   "source": [
    "newUSVideos[\"trending_date\"] = pd.to_datetime(newUSVideos[\"trending_date\"], yearfirst=True)"
   ]
  },
  {
   "cell_type": "code",
   "execution_count": 27,
   "metadata": {},
   "outputs": [
    {
     "data": {
      "text/plain": [
       "0       2017-11-14\n",
       "1       2017-11-14\n",
       "2       2017-11-14\n",
       "3       2017-11-14\n",
       "4       2017-11-14\n",
       "           ...    \n",
       "40944   2018-06-02\n",
       "40945   2018-06-03\n",
       "40946   2018-06-04\n",
       "40947   2018-06-05\n",
       "40948   2018-06-06\n",
       "Name: trending_date, Length: 40949, dtype: datetime64[ns]"
      ]
     },
     "execution_count": 27,
     "metadata": {},
     "output_type": "execute_result"
    }
   ],
   "source": [
    "newUSVideos[\"trending_date\"]"
   ]
  },
  {
   "cell_type": "code",
   "execution_count": 28,
   "metadata": {},
   "outputs": [
    {
     "data": {
      "text/plain": [
       "video_id                    0\n",
       "trending_date               0\n",
       "title                       0\n",
       "channel_title               0\n",
       "category_id                 0\n",
       "publish_time                0\n",
       "tags                        0\n",
       "views                       0\n",
       "likes                       0\n",
       "dislikes                    0\n",
       "comment_count               0\n",
       "thumbnail_link              0\n",
       "comments_disabled           0\n",
       "ratings_disabled            0\n",
       "video_error_or_removed      0\n",
       "description               570\n",
       "state                       0\n",
       "lat                         0\n",
       "lon                         0\n",
       "geometry                    0\n",
       "dbscan_snippet.title        0\n",
       "post_time                   0\n",
       "dtype: int64"
      ]
     },
     "execution_count": 28,
     "metadata": {},
     "output_type": "execute_result"
    }
   ],
   "source": [
    "newUSVideos.isna().sum()"
   ]
  },
  {
   "cell_type": "markdown",
   "metadata": {},
   "source": [
    "Como podemos observar solo tenemos datos nulos o faltantes en la columna description, debido a que no es un dato muy relevante solo colocaremos \"Without description\" en lugar del null"
   ]
  },
  {
   "cell_type": "code",
   "execution_count": 29,
   "metadata": {},
   "outputs": [],
   "source": [
    "newUSVideos['description'] = newUSVideos['description'].fillna(\"Without description\")"
   ]
  },
  {
   "cell_type": "code",
   "execution_count": 30,
   "metadata": {},
   "outputs": [
    {
     "data": {
      "text/plain": [
       "video_id                  0\n",
       "trending_date             0\n",
       "title                     0\n",
       "channel_title             0\n",
       "category_id               0\n",
       "publish_time              0\n",
       "tags                      0\n",
       "views                     0\n",
       "likes                     0\n",
       "dislikes                  0\n",
       "comment_count             0\n",
       "thumbnail_link            0\n",
       "comments_disabled         0\n",
       "ratings_disabled          0\n",
       "video_error_or_removed    0\n",
       "description               0\n",
       "state                     0\n",
       "lat                       0\n",
       "lon                       0\n",
       "geometry                  0\n",
       "dbscan_snippet.title      0\n",
       "post_time                 0\n",
       "dtype: int64"
      ]
     },
     "execution_count": 30,
     "metadata": {},
     "output_type": "execute_result"
    }
   ],
   "source": [
    "newUSVideos.isna().sum()"
   ]
  },
  {
   "cell_type": "code",
   "execution_count": 31,
   "metadata": {},
   "outputs": [
    {
     "name": "stdout",
     "output_type": "stream",
     "text": [
      "34598\n"
     ]
    }
   ],
   "source": [
    "print(newUSVideos.duplicated(subset='video_id').sum())"
   ]
  },
  {
   "cell_type": "markdown",
   "metadata": {},
   "source": [
    "Luego se hizo una revisión de cuantos \"video_id\" había repetidos y encontramos que eran cerca de un 90% del dataframe, por lo que se tendrá en consideración para un posible análisis posterior."
   ]
  },
  {
   "cell_type": "code",
   "execution_count": 32,
   "metadata": {},
   "outputs": [
    {
     "data": {
      "text/plain": [
       "<AxesSubplot:ylabel='views'>"
      ]
     },
     "execution_count": 32,
     "metadata": {},
     "output_type": "execute_result"
    },
    {
     "data": {
      "image/png": "[encoded data removed]",
      "text/plain": [
       "<Figure size 720x7200 with 1 Axes>"
      ]
     },
     "metadata": {
      "needs_background": "light"
     },
     "output_type": "display_data"
    }
   ],
   "source": [
    "plt.figure(figsize=(10, 100))\n",
    "sns.boxplot(y='views',data=newUSVideos,palette='winter')"
   ]
  },
  {
   "cell_type": "code",
   "execution_count": 33,
   "metadata": {},
   "outputs": [
    {
     "data": {
      "text/plain": [
       "<AxesSubplot:ylabel='likes'>"
      ]
     },
     "execution_count": 33,
     "metadata": {},
     "output_type": "execute_result"
    },
    {
     "data": {
      "image/png": "[encoded data removed]",
      "text/plain": [
       "<Figure size 720x7200 with 1 Axes>"
      ]
     },
     "metadata": {
      "needs_background": "light"
     },
     "output_type": "display_data"
    }
   ],
   "source": [
    "plt.figure(figsize=(10, 100))\n",
    "sns.boxplot(y='likes',data=newUSVideos,palette='winter')"
   ]
  },
  {
   "cell_type": "code",
   "execution_count": 34,
   "metadata": {},
   "outputs": [
    {
     "data": {
      "text/plain": [
       "<AxesSubplot:ylabel='dislikes'>"
      ]
     },
     "execution_count": 34,
     "metadata": {},
     "output_type": "execute_result"
    },
    {
     "data": {
      "image/png": "[encoded data removed]",
      "text/plain": [
       "<Figure size 720x7200 with 1 Axes>"
      ]
     },
     "metadata": {
      "needs_background": "light"
     },
     "output_type": "display_data"
    }
   ],
   "source": [
    "plt.figure(figsize=(10, 100))\n",
    "sns.boxplot(y='dislikes',data=newUSVideos,palette='winter')"
   ]
  },
  {
   "cell_type": "code",
   "execution_count": 35,
   "metadata": {},
   "outputs": [
    {
     "data": {
      "text/plain": [
       "<AxesSubplot:ylabel='comment_count'>"
      ]
     },
     "execution_count": 35,
     "metadata": {},
     "output_type": "execute_result"
    },
    {
     "data": {
      "image/png": "[encoded data removed]",
      "text/plain": [
       "<Figure size 720x7200 with 1 Axes>"
      ]
     },
     "metadata": {
      "needs_background": "light"
     },
     "output_type": "display_data"
    }
   ],
   "source": [
    "plt.figure(figsize=(10, 100))\n",
    "sns.boxplot(y='comment_count',data=newUSVideos,palette='winter')"
   ]
  },
  {
   "cell_type": "markdown",
   "metadata": {},
   "source": [
    "La cantidad de outliers que se pueden observar en los box plot es batante alta pero estos valores no se van a modificar ni reajustar pues se perdería demasiada información. Luego hicimos una verificación si existían valores negativos, estos serían considerados como atípicos."
   ]
  },
  {
   "cell_type": "code",
   "execution_count": 36,
   "metadata": {},
   "outputs": [
    {
     "data": {
      "text/html": [
       "<div>\n",
       "<style scoped>\n",
       "    .dataframe tbody tr th:only-of-type {\n",
       "        vertical-align: middle;\n",
       "    }\n",
       "\n",
       "    .dataframe tbody tr th {\n",
       "        vertical-align: top;\n",
       "    }\n",
       "\n",
       "    .dataframe thead th {\n",
       "        text-align: right;\n",
       "    }\n",
       "</style>\n",
       "<table border=\"1\" class=\"dataframe\">\n",
       "  <thead>\n",
       "    <tr style=\"text-align: right;\">\n",
       "      <th></th>\n",
       "      <th>video_id</th>\n",
       "      <th>trending_date</th>\n",
       "      <th>title</th>\n",
       "      <th>channel_title</th>\n",
       "      <th>category_id</th>\n",
       "      <th>publish_time</th>\n",
       "      <th>tags</th>\n",
       "      <th>views</th>\n",
       "      <th>likes</th>\n",
       "      <th>dislikes</th>\n",
       "      <th>...</th>\n",
       "      <th>comments_disabled</th>\n",
       "      <th>ratings_disabled</th>\n",
       "      <th>video_error_or_removed</th>\n",
       "      <th>description</th>\n",
       "      <th>state</th>\n",
       "      <th>lat</th>\n",
       "      <th>lon</th>\n",
       "      <th>geometry</th>\n",
       "      <th>dbscan_snippet.title</th>\n",
       "      <th>post_time</th>\n",
       "    </tr>\n",
       "  </thead>\n",
       "  <tbody>\n",
       "  </tbody>\n",
       "</table>\n",
       "<p>0 rows × 22 columns</p>\n",
       "</div>"
      ],
      "text/plain": [
       "Empty DataFrame\n",
       "Columns: [video_id, trending_date, title, channel_title, category_id, publish_time, tags, views, likes, dislikes, comment_count, thumbnail_link, comments_disabled, ratings_disabled, video_error_or_removed, description, state, lat, lon, geometry, dbscan_snippet.title, post_time]\n",
       "Index: []\n",
       "\n",
       "[0 rows x 22 columns]"
      ]
     },
     "execution_count": 36,
     "metadata": {},
     "output_type": "execute_result"
    }
   ],
   "source": [
    "newUSVideos[newUSVideos['views'] < 0]"
   ]
  },
  {
   "cell_type": "code",
   "execution_count": 37,
   "metadata": {},
   "outputs": [
    {
     "data": {
      "text/html": [
       "<div>\n",
       "<style scoped>\n",
       "    .dataframe tbody tr th:only-of-type {\n",
       "        vertical-align: middle;\n",
       "    }\n",
       "\n",
       "    .dataframe tbody tr th {\n",
       "        vertical-align: top;\n",
       "    }\n",
       "\n",
       "    .dataframe thead th {\n",
       "        text-align: right;\n",
       "    }\n",
       "</style>\n",
       "<table border=\"1\" class=\"dataframe\">\n",
       "  <thead>\n",
       "    <tr style=\"text-align: right;\">\n",
       "      <th></th>\n",
       "      <th>video_id</th>\n",
       "      <th>trending_date</th>\n",
       "      <th>title</th>\n",
       "      <th>channel_title</th>\n",
       "      <th>category_id</th>\n",
       "      <th>publish_time</th>\n",
       "      <th>tags</th>\n",
       "      <th>views</th>\n",
       "      <th>likes</th>\n",
       "      <th>dislikes</th>\n",
       "      <th>...</th>\n",
       "      <th>comments_disabled</th>\n",
       "      <th>ratings_disabled</th>\n",
       "      <th>video_error_or_removed</th>\n",
       "      <th>description</th>\n",
       "      <th>state</th>\n",
       "      <th>lat</th>\n",
       "      <th>lon</th>\n",
       "      <th>geometry</th>\n",
       "      <th>dbscan_snippet.title</th>\n",
       "      <th>post_time</th>\n",
       "    </tr>\n",
       "  </thead>\n",
       "  <tbody>\n",
       "  </tbody>\n",
       "</table>\n",
       "<p>0 rows × 22 columns</p>\n",
       "</div>"
      ],
      "text/plain": [
       "Empty DataFrame\n",
       "Columns: [video_id, trending_date, title, channel_title, category_id, publish_time, tags, views, likes, dislikes, comment_count, thumbnail_link, comments_disabled, ratings_disabled, video_error_or_removed, description, state, lat, lon, geometry, dbscan_snippet.title, post_time]\n",
       "Index: []\n",
       "\n",
       "[0 rows x 22 columns]"
      ]
     },
     "execution_count": 37,
     "metadata": {},
     "output_type": "execute_result"
    }
   ],
   "source": [
    "newUSVideos[newUSVideos['likes'] < 0]"
   ]
  },
  {
   "cell_type": "code",
   "execution_count": 38,
   "metadata": {},
   "outputs": [
    {
     "data": {
      "text/html": [
       "<div>\n",
       "<style scoped>\n",
       "    .dataframe tbody tr th:only-of-type {\n",
       "        vertical-align: middle;\n",
       "    }\n",
       "\n",
       "    .dataframe tbody tr th {\n",
       "        vertical-align: top;\n",
       "    }\n",
       "\n",
       "    .dataframe thead th {\n",
       "        text-align: right;\n",
       "    }\n",
       "</style>\n",
       "<table border=\"1\" class=\"dataframe\">\n",
       "  <thead>\n",
       "    <tr style=\"text-align: right;\">\n",
       "      <th></th>\n",
       "      <th>video_id</th>\n",
       "      <th>trending_date</th>\n",
       "      <th>title</th>\n",
       "      <th>channel_title</th>\n",
       "      <th>category_id</th>\n",
       "      <th>publish_time</th>\n",
       "      <th>tags</th>\n",
       "      <th>views</th>\n",
       "      <th>likes</th>\n",
       "      <th>dislikes</th>\n",
       "      <th>...</th>\n",
       "      <th>comments_disabled</th>\n",
       "      <th>ratings_disabled</th>\n",
       "      <th>video_error_or_removed</th>\n",
       "      <th>description</th>\n",
       "      <th>state</th>\n",
       "      <th>lat</th>\n",
       "      <th>lon</th>\n",
       "      <th>geometry</th>\n",
       "      <th>dbscan_snippet.title</th>\n",
       "      <th>post_time</th>\n",
       "    </tr>\n",
       "  </thead>\n",
       "  <tbody>\n",
       "  </tbody>\n",
       "</table>\n",
       "<p>0 rows × 22 columns</p>\n",
       "</div>"
      ],
      "text/plain": [
       "Empty DataFrame\n",
       "Columns: [video_id, trending_date, title, channel_title, category_id, publish_time, tags, views, likes, dislikes, comment_count, thumbnail_link, comments_disabled, ratings_disabled, video_error_or_removed, description, state, lat, lon, geometry, dbscan_snippet.title, post_time]\n",
       "Index: []\n",
       "\n",
       "[0 rows x 22 columns]"
      ]
     },
     "execution_count": 38,
     "metadata": {},
     "output_type": "execute_result"
    }
   ],
   "source": [
    "newUSVideos[newUSVideos['dislikes'] < 0]"
   ]
  },
  {
   "cell_type": "code",
   "execution_count": 39,
   "metadata": {},
   "outputs": [
    {
     "data": {
      "text/html": [
       "<div>\n",
       "<style scoped>\n",
       "    .dataframe tbody tr th:only-of-type {\n",
       "        vertical-align: middle;\n",
       "    }\n",
       "\n",
       "    .dataframe tbody tr th {\n",
       "        vertical-align: top;\n",
       "    }\n",
       "\n",
       "    .dataframe thead th {\n",
       "        text-align: right;\n",
       "    }\n",
       "</style>\n",
       "<table border=\"1\" class=\"dataframe\">\n",
       "  <thead>\n",
       "    <tr style=\"text-align: right;\">\n",
       "      <th></th>\n",
       "      <th>video_id</th>\n",
       "      <th>trending_date</th>\n",
       "      <th>title</th>\n",
       "      <th>channel_title</th>\n",
       "      <th>category_id</th>\n",
       "      <th>publish_time</th>\n",
       "      <th>tags</th>\n",
       "      <th>views</th>\n",
       "      <th>likes</th>\n",
       "      <th>dislikes</th>\n",
       "      <th>...</th>\n",
       "      <th>comments_disabled</th>\n",
       "      <th>ratings_disabled</th>\n",
       "      <th>video_error_or_removed</th>\n",
       "      <th>description</th>\n",
       "      <th>state</th>\n",
       "      <th>lat</th>\n",
       "      <th>lon</th>\n",
       "      <th>geometry</th>\n",
       "      <th>dbscan_snippet.title</th>\n",
       "      <th>post_time</th>\n",
       "    </tr>\n",
       "  </thead>\n",
       "  <tbody>\n",
       "  </tbody>\n",
       "</table>\n",
       "<p>0 rows × 22 columns</p>\n",
       "</div>"
      ],
      "text/plain": [
       "Empty DataFrame\n",
       "Columns: [video_id, trending_date, title, channel_title, category_id, publish_time, tags, views, likes, dislikes, comment_count, thumbnail_link, comments_disabled, ratings_disabled, video_error_or_removed, description, state, lat, lon, geometry, dbscan_snippet.title, post_time]\n",
       "Index: []\n",
       "\n",
       "[0 rows x 22 columns]"
      ]
     },
     "execution_count": 39,
     "metadata": {},
     "output_type": "execute_result"
    }
   ],
   "source": [
    "newUSVideos[newUSVideos['comment_count'] < 0]"
   ]
  },
  {
   "cell_type": "code",
   "execution_count": 40,
   "metadata": {},
   "outputs": [
    {
     "data": {
      "text/html": [
       "<div>\n",
       "<style scoped>\n",
       "    .dataframe tbody tr th:only-of-type {\n",
       "        vertical-align: middle;\n",
       "    }\n",
       "\n",
       "    .dataframe tbody tr th {\n",
       "        vertical-align: top;\n",
       "    }\n",
       "\n",
       "    .dataframe thead th {\n",
       "        text-align: right;\n",
       "    }\n",
       "</style>\n",
       "<table border=\"1\" class=\"dataframe\">\n",
       "  <thead>\n",
       "    <tr style=\"text-align: right;\">\n",
       "      <th></th>\n",
       "      <th>video_id</th>\n",
       "      <th>trending_date</th>\n",
       "      <th>title</th>\n",
       "      <th>channel_title</th>\n",
       "      <th>category_id</th>\n",
       "      <th>publish_time</th>\n",
       "      <th>tags</th>\n",
       "      <th>views</th>\n",
       "      <th>likes</th>\n",
       "      <th>dislikes</th>\n",
       "      <th>...</th>\n",
       "      <th>comments_disabled</th>\n",
       "      <th>ratings_disabled</th>\n",
       "      <th>video_error_or_removed</th>\n",
       "      <th>description</th>\n",
       "      <th>state</th>\n",
       "      <th>lat</th>\n",
       "      <th>lon</th>\n",
       "      <th>geometry</th>\n",
       "      <th>dbscan_snippet.title</th>\n",
       "      <th>post_time</th>\n",
       "    </tr>\n",
       "  </thead>\n",
       "  <tbody>\n",
       "    <tr>\n",
       "      <th>40849</th>\n",
       "      <td>Pc1Obe1BWhc</td>\n",
       "      <td>2018-01-05</td>\n",
       "      <td>Nina Dobrev wants to Save Sharks (30s)</td>\n",
       "      <td>Oceana</td>\n",
       "      <td>29</td>\n",
       "      <td>2018-01-03</td>\n",
       "      <td>Sharks|\"Nina Dobrev\"|\"Shark finning\"|\"PSA\"</td>\n",
       "      <td>4178</td>\n",
       "      <td>16</td>\n",
       "      <td>1</td>\n",
       "      <td>...</td>\n",
       "      <td>False</td>\n",
       "      <td>False</td>\n",
       "      <td>False</td>\n",
       "      <td>While shark finning is illegal in U.S. waters,...</td>\n",
       "      <td>Pennsylvania</td>\n",
       "      <td>41.203323</td>\n",
       "      <td>-77.194527</td>\n",
       "      <td>POINT (-77.19452699999999 41.203323)</td>\n",
       "      <td>Nonprofits &amp; Activism</td>\n",
       "      <td>16:01:48</td>\n",
       "    </tr>\n",
       "    <tr>\n",
       "      <th>40850</th>\n",
       "      <td>Pc1Obe1BWhc</td>\n",
       "      <td>2018-01-06</td>\n",
       "      <td>Nina Dobrev wants to Save Sharks (30s)</td>\n",
       "      <td>Oceana</td>\n",
       "      <td>29</td>\n",
       "      <td>2018-01-03</td>\n",
       "      <td>Sharks|\"Nina Dobrev\"|\"Shark finning\"|\"PSA\"</td>\n",
       "      <td>7406</td>\n",
       "      <td>26</td>\n",
       "      <td>1</td>\n",
       "      <td>...</td>\n",
       "      <td>False</td>\n",
       "      <td>False</td>\n",
       "      <td>False</td>\n",
       "      <td>While shark finning is illegal in U.S. waters,...</td>\n",
       "      <td>Florida</td>\n",
       "      <td>27.994402</td>\n",
       "      <td>-81.760254</td>\n",
       "      <td>POINT (-81.760254 27.994402)</td>\n",
       "      <td>Nonprofits &amp; Activism</td>\n",
       "      <td>16:01:48</td>\n",
       "    </tr>\n",
       "    <tr>\n",
       "      <th>40851</th>\n",
       "      <td>Pc1Obe1BWhc</td>\n",
       "      <td>2018-01-07</td>\n",
       "      <td>Nina Dobrev wants to Save Sharks (30s)</td>\n",
       "      <td>Oceana</td>\n",
       "      <td>29</td>\n",
       "      <td>2018-01-03</td>\n",
       "      <td>Sharks|\"Nina Dobrev\"|\"Shark finning\"|\"PSA\"</td>\n",
       "      <td>8025</td>\n",
       "      <td>29</td>\n",
       "      <td>1</td>\n",
       "      <td>...</td>\n",
       "      <td>False</td>\n",
       "      <td>False</td>\n",
       "      <td>False</td>\n",
       "      <td>While shark finning is illegal in U.S. waters,...</td>\n",
       "      <td>Wyoming</td>\n",
       "      <td>43.075970</td>\n",
       "      <td>-107.290283</td>\n",
       "      <td>POINT (-107.290283 43.07597)</td>\n",
       "      <td>Nonprofits &amp; Activism</td>\n",
       "      <td>16:01:48</td>\n",
       "    </tr>\n",
       "    <tr>\n",
       "      <th>40852</th>\n",
       "      <td>Pc1Obe1BWhc</td>\n",
       "      <td>2018-01-08</td>\n",
       "      <td>Nina Dobrev wants to Save Sharks (30s)</td>\n",
       "      <td>Oceana</td>\n",
       "      <td>29</td>\n",
       "      <td>2018-01-03</td>\n",
       "      <td>Sharks|\"Nina Dobrev\"|\"Shark finning\"|\"PSA\"</td>\n",
       "      <td>8318</td>\n",
       "      <td>30</td>\n",
       "      <td>1</td>\n",
       "      <td>...</td>\n",
       "      <td>False</td>\n",
       "      <td>False</td>\n",
       "      <td>False</td>\n",
       "      <td>While shark finning is illegal in U.S. waters,...</td>\n",
       "      <td>Vermont</td>\n",
       "      <td>44.000000</td>\n",
       "      <td>-72.699997</td>\n",
       "      <td>POINT (-72.699997 44)</td>\n",
       "      <td>Nonprofits &amp; Activism</td>\n",
       "      <td>16:01:48</td>\n",
       "    </tr>\n",
       "    <tr>\n",
       "      <th>40853</th>\n",
       "      <td>Pc1Obe1BWhc</td>\n",
       "      <td>2018-01-09</td>\n",
       "      <td>Nina Dobrev Wants to Save Sharks (30s)</td>\n",
       "      <td>Oceana</td>\n",
       "      <td>29</td>\n",
       "      <td>2018-01-03</td>\n",
       "      <td>Sharks|\"Nina Dobrev\"|\"Shark finning\"|\"PSA\"</td>\n",
       "      <td>8493</td>\n",
       "      <td>31</td>\n",
       "      <td>1</td>\n",
       "      <td>...</td>\n",
       "      <td>False</td>\n",
       "      <td>False</td>\n",
       "      <td>False</td>\n",
       "      <td>While shark finning is illegal in U.S. waters,...</td>\n",
       "      <td>Maryland</td>\n",
       "      <td>39.045753</td>\n",
       "      <td>-76.641273</td>\n",
       "      <td>POINT (-76.641273 39.045753)</td>\n",
       "      <td>Nonprofits &amp; Activism</td>\n",
       "      <td>16:01:48</td>\n",
       "    </tr>\n",
       "    <tr>\n",
       "      <th>...</th>\n",
       "      <td>...</td>\n",
       "      <td>...</td>\n",
       "      <td>...</td>\n",
       "      <td>...</td>\n",
       "      <td>...</td>\n",
       "      <td>...</td>\n",
       "      <td>...</td>\n",
       "      <td>...</td>\n",
       "      <td>...</td>\n",
       "      <td>...</td>\n",
       "      <td>...</td>\n",
       "      <td>...</td>\n",
       "      <td>...</td>\n",
       "      <td>...</td>\n",
       "      <td>...</td>\n",
       "      <td>...</td>\n",
       "      <td>...</td>\n",
       "      <td>...</td>\n",
       "      <td>...</td>\n",
       "      <td>...</td>\n",
       "      <td>...</td>\n",
       "    </tr>\n",
       "    <tr>\n",
       "      <th>40944</th>\n",
       "      <td>V6ElE2xs48c</td>\n",
       "      <td>2018-06-02</td>\n",
       "      <td>Game of Zones - S5:E5: The Isle of Van Gundy</td>\n",
       "      <td>Bleacher Report</td>\n",
       "      <td>43</td>\n",
       "      <td>2018-05-10</td>\n",
       "      <td>bleacher report|\"br\"|\"nba\"|\"Stan Van Gundy\"|\"J...</td>\n",
       "      <td>1324482</td>\n",
       "      <td>22413</td>\n",
       "      <td>608</td>\n",
       "      <td>...</td>\n",
       "      <td>False</td>\n",
       "      <td>False</td>\n",
       "      <td>False</td>\n",
       "      <td>On an island full of Van Gundys, Stan gets tal...</td>\n",
       "      <td>Oklahoma</td>\n",
       "      <td>36.084621</td>\n",
       "      <td>-96.921387</td>\n",
       "      <td>POINT (-96.921387 36.084621)</td>\n",
       "      <td>Shows</td>\n",
       "      <td>21:01:22</td>\n",
       "    </tr>\n",
       "    <tr>\n",
       "      <th>40945</th>\n",
       "      <td>V6ElE2xs48c</td>\n",
       "      <td>2018-06-03</td>\n",
       "      <td>Game of Zones - S5:E5: The Isle of Van Gundy</td>\n",
       "      <td>Bleacher Report</td>\n",
       "      <td>43</td>\n",
       "      <td>2018-05-10</td>\n",
       "      <td>bleacher report|\"br\"|\"nba\"|\"Stan Van Gundy\"|\"J...</td>\n",
       "      <td>1332252</td>\n",
       "      <td>22461</td>\n",
       "      <td>610</td>\n",
       "      <td>...</td>\n",
       "      <td>False</td>\n",
       "      <td>False</td>\n",
       "      <td>False</td>\n",
       "      <td>On an island full of Van Gundys, Stan gets tal...</td>\n",
       "      <td>Michigan</td>\n",
       "      <td>44.182205</td>\n",
       "      <td>-84.506836</td>\n",
       "      <td>POINT (-84.50683600000001 44.182205)</td>\n",
       "      <td>Shows</td>\n",
       "      <td>21:01:22</td>\n",
       "    </tr>\n",
       "    <tr>\n",
       "      <th>40946</th>\n",
       "      <td>V6ElE2xs48c</td>\n",
       "      <td>2018-06-04</td>\n",
       "      <td>Game of Zones - S5:E5: The Isle of Van Gundy</td>\n",
       "      <td>Bleacher Report</td>\n",
       "      <td>43</td>\n",
       "      <td>2018-05-10</td>\n",
       "      <td>bleacher report|\"br\"|\"nba\"|\"Stan Van Gundy\"|\"J...</td>\n",
       "      <td>1340039</td>\n",
       "      <td>22504</td>\n",
       "      <td>615</td>\n",
       "      <td>...</td>\n",
       "      <td>False</td>\n",
       "      <td>False</td>\n",
       "      <td>False</td>\n",
       "      <td>On an island full of Van Gundys, Stan gets tal...</td>\n",
       "      <td>Vermont</td>\n",
       "      <td>44.000000</td>\n",
       "      <td>-72.699997</td>\n",
       "      <td>POINT (-72.699997 44)</td>\n",
       "      <td>Shows</td>\n",
       "      <td>21:01:22</td>\n",
       "    </tr>\n",
       "    <tr>\n",
       "      <th>40947</th>\n",
       "      <td>V6ElE2xs48c</td>\n",
       "      <td>2018-06-05</td>\n",
       "      <td>Game of Zones - S5:E5: The Isle of Van Gundy</td>\n",
       "      <td>Bleacher Report</td>\n",
       "      <td>43</td>\n",
       "      <td>2018-05-10</td>\n",
       "      <td>bleacher report|\"br\"|\"nba\"|\"Stan Van Gundy\"|\"J...</td>\n",
       "      <td>1345086</td>\n",
       "      <td>22542</td>\n",
       "      <td>615</td>\n",
       "      <td>...</td>\n",
       "      <td>False</td>\n",
       "      <td>False</td>\n",
       "      <td>False</td>\n",
       "      <td>On an island full of Van Gundys, Stan gets tal...</td>\n",
       "      <td>North Dakota</td>\n",
       "      <td>47.650589</td>\n",
       "      <td>-100.437012</td>\n",
       "      <td>POINT (-100.437012 47.650589)</td>\n",
       "      <td>Shows</td>\n",
       "      <td>21:01:22</td>\n",
       "    </tr>\n",
       "    <tr>\n",
       "      <th>40948</th>\n",
       "      <td>V6ElE2xs48c</td>\n",
       "      <td>2018-06-06</td>\n",
       "      <td>Game of Zones - S5:E5: The Isle of Van Gundy</td>\n",
       "      <td>Bleacher Report</td>\n",
       "      <td>43</td>\n",
       "      <td>2018-05-10</td>\n",
       "      <td>bleacher report|\"br\"|\"nba\"|\"Stan Van Gundy\"|\"J...</td>\n",
       "      <td>1351321</td>\n",
       "      <td>22587</td>\n",
       "      <td>616</td>\n",
       "      <td>...</td>\n",
       "      <td>False</td>\n",
       "      <td>False</td>\n",
       "      <td>False</td>\n",
       "      <td>On an island full of Van Gundys, Stan gets tal...</td>\n",
       "      <td>Montana</td>\n",
       "      <td>46.965260</td>\n",
       "      <td>-109.533691</td>\n",
       "      <td>POINT (-109.533691 46.96526)</td>\n",
       "      <td>Shows</td>\n",
       "      <td>21:01:22</td>\n",
       "    </tr>\n",
       "  </tbody>\n",
       "</table>\n",
       "<p>100 rows × 22 columns</p>\n",
       "</div>"
      ],
      "text/plain": [
       "          video_id trending_date  \\\n",
       "40849  Pc1Obe1BWhc    2018-01-05   \n",
       "40850  Pc1Obe1BWhc    2018-01-06   \n",
       "40851  Pc1Obe1BWhc    2018-01-07   \n",
       "40852  Pc1Obe1BWhc    2018-01-08   \n",
       "40853  Pc1Obe1BWhc    2018-01-09   \n",
       "...            ...           ...   \n",
       "40944  V6ElE2xs48c    2018-06-02   \n",
       "40945  V6ElE2xs48c    2018-06-03   \n",
       "40946  V6ElE2xs48c    2018-06-04   \n",
       "40947  V6ElE2xs48c    2018-06-05   \n",
       "40948  V6ElE2xs48c    2018-06-06   \n",
       "\n",
       "                                              title    channel_title  \\\n",
       "40849        Nina Dobrev wants to Save Sharks (30s)           Oceana   \n",
       "40850        Nina Dobrev wants to Save Sharks (30s)           Oceana   \n",
       "40851        Nina Dobrev wants to Save Sharks (30s)           Oceana   \n",
       "40852        Nina Dobrev wants to Save Sharks (30s)           Oceana   \n",
       "40853        Nina Dobrev Wants to Save Sharks (30s)           Oceana   \n",
       "...                                             ...              ...   \n",
       "40944  Game of Zones - S5:E5: The Isle of Van Gundy  Bleacher Report   \n",
       "40945  Game of Zones - S5:E5: The Isle of Van Gundy  Bleacher Report   \n",
       "40946  Game of Zones - S5:E5: The Isle of Van Gundy  Bleacher Report   \n",
       "40947  Game of Zones - S5:E5: The Isle of Van Gundy  Bleacher Report   \n",
       "40948  Game of Zones - S5:E5: The Isle of Van Gundy  Bleacher Report   \n",
       "\n",
       "       category_id publish_time  \\\n",
       "40849           29   2018-01-03   \n",
       "40850           29   2018-01-03   \n",
       "40851           29   2018-01-03   \n",
       "40852           29   2018-01-03   \n",
       "40853           29   2018-01-03   \n",
       "...            ...          ...   \n",
       "40944           43   2018-05-10   \n",
       "40945           43   2018-05-10   \n",
       "40946           43   2018-05-10   \n",
       "40947           43   2018-05-10   \n",
       "40948           43   2018-05-10   \n",
       "\n",
       "                                                    tags    views  likes  \\\n",
       "40849         Sharks|\"Nina Dobrev\"|\"Shark finning\"|\"PSA\"     4178     16   \n",
       "40850         Sharks|\"Nina Dobrev\"|\"Shark finning\"|\"PSA\"     7406     26   \n",
       "40851         Sharks|\"Nina Dobrev\"|\"Shark finning\"|\"PSA\"     8025     29   \n",
       "40852         Sharks|\"Nina Dobrev\"|\"Shark finning\"|\"PSA\"     8318     30   \n",
       "40853         Sharks|\"Nina Dobrev\"|\"Shark finning\"|\"PSA\"     8493     31   \n",
       "...                                                  ...      ...    ...   \n",
       "40944  bleacher report|\"br\"|\"nba\"|\"Stan Van Gundy\"|\"J...  1324482  22413   \n",
       "40945  bleacher report|\"br\"|\"nba\"|\"Stan Van Gundy\"|\"J...  1332252  22461   \n",
       "40946  bleacher report|\"br\"|\"nba\"|\"Stan Van Gundy\"|\"J...  1340039  22504   \n",
       "40947  bleacher report|\"br\"|\"nba\"|\"Stan Van Gundy\"|\"J...  1345086  22542   \n",
       "40948  bleacher report|\"br\"|\"nba\"|\"Stan Van Gundy\"|\"J...  1351321  22587   \n",
       "\n",
       "       dislikes  ...  comments_disabled ratings_disabled  \\\n",
       "40849         1  ...              False            False   \n",
       "40850         1  ...              False            False   \n",
       "40851         1  ...              False            False   \n",
       "40852         1  ...              False            False   \n",
       "40853         1  ...              False            False   \n",
       "...         ...  ...                ...              ...   \n",
       "40944       608  ...              False            False   \n",
       "40945       610  ...              False            False   \n",
       "40946       615  ...              False            False   \n",
       "40947       615  ...              False            False   \n",
       "40948       616  ...              False            False   \n",
       "\n",
       "       video_error_or_removed  \\\n",
       "40849                   False   \n",
       "40850                   False   \n",
       "40851                   False   \n",
       "40852                   False   \n",
       "40853                   False   \n",
       "...                       ...   \n",
       "40944                   False   \n",
       "40945                   False   \n",
       "40946                   False   \n",
       "40947                   False   \n",
       "40948                   False   \n",
       "\n",
       "                                             description         state  \\\n",
       "40849  While shark finning is illegal in U.S. waters,...  Pennsylvania   \n",
       "40850  While shark finning is illegal in U.S. waters,...       Florida   \n",
       "40851  While shark finning is illegal in U.S. waters,...       Wyoming   \n",
       "40852  While shark finning is illegal in U.S. waters,...       Vermont   \n",
       "40853  While shark finning is illegal in U.S. waters,...      Maryland   \n",
       "...                                                  ...           ...   \n",
       "40944  On an island full of Van Gundys, Stan gets tal...      Oklahoma   \n",
       "40945  On an island full of Van Gundys, Stan gets tal...      Michigan   \n",
       "40946  On an island full of Van Gundys, Stan gets tal...       Vermont   \n",
       "40947  On an island full of Van Gundys, Stan gets tal...  North Dakota   \n",
       "40948  On an island full of Van Gundys, Stan gets tal...       Montana   \n",
       "\n",
       "             lat         lon                              geometry  \\\n",
       "40849  41.203323  -77.194527  POINT (-77.19452699999999 41.203323)   \n",
       "40850  27.994402  -81.760254          POINT (-81.760254 27.994402)   \n",
       "40851  43.075970 -107.290283          POINT (-107.290283 43.07597)   \n",
       "40852  44.000000  -72.699997                 POINT (-72.699997 44)   \n",
       "40853  39.045753  -76.641273          POINT (-76.641273 39.045753)   \n",
       "...          ...         ...                                   ...   \n",
       "40944  36.084621  -96.921387          POINT (-96.921387 36.084621)   \n",
       "40945  44.182205  -84.506836  POINT (-84.50683600000001 44.182205)   \n",
       "40946  44.000000  -72.699997                 POINT (-72.699997 44)   \n",
       "40947  47.650589 -100.437012         POINT (-100.437012 47.650589)   \n",
       "40948  46.965260 -109.533691          POINT (-109.533691 46.96526)   \n",
       "\n",
       "        dbscan_snippet.title post_time  \n",
       "40849  Nonprofits & Activism  16:01:48  \n",
       "40850  Nonprofits & Activism  16:01:48  \n",
       "40851  Nonprofits & Activism  16:01:48  \n",
       "40852  Nonprofits & Activism  16:01:48  \n",
       "40853  Nonprofits & Activism  16:01:48  \n",
       "...                      ...       ...  \n",
       "40944                  Shows  21:01:22  \n",
       "40945                  Shows  21:01:22  \n",
       "40946                  Shows  21:01:22  \n",
       "40947                  Shows  21:01:22  \n",
       "40948                  Shows  21:01:22  \n",
       "\n",
       "[100 rows x 22 columns]"
      ]
     },
     "execution_count": 40,
     "metadata": {},
     "output_type": "execute_result"
    }
   ],
   "source": [
    "newUSVideos.tail(100)"
   ]
  },
  {
   "cell_type": "code",
   "execution_count": 41,
   "metadata": {},
   "outputs": [
    {
     "data": {
      "text/html": [
       "<div>\n",
       "<style scoped>\n",
       "    .dataframe tbody tr th:only-of-type {\n",
       "        vertical-align: middle;\n",
       "    }\n",
       "\n",
       "    .dataframe tbody tr th {\n",
       "        vertical-align: top;\n",
       "    }\n",
       "\n",
       "    .dataframe thead th {\n",
       "        text-align: right;\n",
       "    }\n",
       "</style>\n",
       "<table border=\"1\" class=\"dataframe\">\n",
       "  <thead>\n",
       "    <tr style=\"text-align: right;\">\n",
       "      <th></th>\n",
       "      <th>counts</th>\n",
       "    </tr>\n",
       "    <tr>\n",
       "      <th>video_id</th>\n",
       "      <th></th>\n",
       "    </tr>\n",
       "  </thead>\n",
       "  <tbody>\n",
       "    <tr>\n",
       "      <th>j4KvrAUjn6c</th>\n",
       "      <td>30</td>\n",
       "    </tr>\n",
       "    <tr>\n",
       "      <th>MAjY8mCTXWk</th>\n",
       "      <td>29</td>\n",
       "    </tr>\n",
       "    <tr>\n",
       "      <th>QBL8IRJ5yHU</th>\n",
       "      <td>29</td>\n",
       "    </tr>\n",
       "    <tr>\n",
       "      <th>r-3iathMo7o</th>\n",
       "      <td>29</td>\n",
       "    </tr>\n",
       "    <tr>\n",
       "      <th>NBSAQenU2Bk</th>\n",
       "      <td>29</td>\n",
       "    </tr>\n",
       "    <tr>\n",
       "      <th>...</th>\n",
       "      <td>...</td>\n",
       "    </tr>\n",
       "    <tr>\n",
       "      <th>JR4oPuV3CWg</th>\n",
       "      <td>1</td>\n",
       "    </tr>\n",
       "    <tr>\n",
       "      <th>pT5XvFLmzMU</th>\n",
       "      <td>1</td>\n",
       "    </tr>\n",
       "    <tr>\n",
       "      <th>unX4FQqM6vI</th>\n",
       "      <td>1</td>\n",
       "    </tr>\n",
       "    <tr>\n",
       "      <th>QS8bma7LRX4</th>\n",
       "      <td>1</td>\n",
       "    </tr>\n",
       "    <tr>\n",
       "      <th>czX0j3L2ZzQ</th>\n",
       "      <td>1</td>\n",
       "    </tr>\n",
       "  </tbody>\n",
       "</table>\n",
       "<p>6351 rows × 1 columns</p>\n",
       "</div>"
      ],
      "text/plain": [
       "             counts\n",
       "video_id           \n",
       "j4KvrAUjn6c      30\n",
       "MAjY8mCTXWk      29\n",
       "QBL8IRJ5yHU      29\n",
       "r-3iathMo7o      29\n",
       "NBSAQenU2Bk      29\n",
       "...             ...\n",
       "JR4oPuV3CWg       1\n",
       "pT5XvFLmzMU       1\n",
       "unX4FQqM6vI       1\n",
       "QS8bma7LRX4       1\n",
       "czX0j3L2ZzQ       1\n",
       "\n",
       "[6351 rows x 1 columns]"
      ]
     },
     "execution_count": 41,
     "metadata": {},
     "output_type": "execute_result"
    }
   ],
   "source": [
    "conteo = newUSVideos['video_id'].value_counts().rename_axis('video_id').to_frame('counts')\n",
    "conteo"
   ]
  },
  {
   "cell_type": "code",
   "execution_count": 42,
   "metadata": {},
   "outputs": [
    {
     "data": {
      "text/html": [
       "<div>\n",
       "<style scoped>\n",
       "    .dataframe tbody tr th:only-of-type {\n",
       "        vertical-align: middle;\n",
       "    }\n",
       "\n",
       "    .dataframe tbody tr th {\n",
       "        vertical-align: top;\n",
       "    }\n",
       "\n",
       "    .dataframe thead th {\n",
       "        text-align: right;\n",
       "    }\n",
       "</style>\n",
       "<table border=\"1\" class=\"dataframe\">\n",
       "  <thead>\n",
       "    <tr style=\"text-align: right;\">\n",
       "      <th></th>\n",
       "      <th>video_id</th>\n",
       "      <th>trending_date</th>\n",
       "      <th>title</th>\n",
       "      <th>channel_title</th>\n",
       "      <th>category_id</th>\n",
       "      <th>publish_time</th>\n",
       "      <th>tags</th>\n",
       "      <th>views</th>\n",
       "      <th>likes</th>\n",
       "      <th>dislikes</th>\n",
       "      <th>...</th>\n",
       "      <th>comments_disabled</th>\n",
       "      <th>ratings_disabled</th>\n",
       "      <th>video_error_or_removed</th>\n",
       "      <th>description</th>\n",
       "      <th>state</th>\n",
       "      <th>lat</th>\n",
       "      <th>lon</th>\n",
       "      <th>geometry</th>\n",
       "      <th>dbscan_snippet.title</th>\n",
       "      <th>post_time</th>\n",
       "    </tr>\n",
       "  </thead>\n",
       "  <tbody>\n",
       "    <tr>\n",
       "      <th>11</th>\n",
       "      <td>P4YJwy_T9pM</td>\n",
       "      <td>2017-11-14</td>\n",
       "      <td>I Picked My Girlfriend's Outfit Blindfolded</td>\n",
       "      <td>Tyler Williams</td>\n",
       "      <td>22</td>\n",
       "      <td>2017-11-09</td>\n",
       "      <td>i picked my girlfriend's outfit blindfolded|\"b...</td>\n",
       "      <td>691229</td>\n",
       "      <td>31892</td>\n",
       "      <td>197</td>\n",
       "      <td>...</td>\n",
       "      <td>False</td>\n",
       "      <td>False</td>\n",
       "      <td>False</td>\n",
       "      <td>Link to our pinterest recipes shopping room: h...</td>\n",
       "      <td>South Dakota</td>\n",
       "      <td>44.500000</td>\n",
       "      <td>-100.000000</td>\n",
       "      <td>POINT (-100 44.5)</td>\n",
       "      <td>People &amp; Blogs</td>\n",
       "      <td>03:16:36</td>\n",
       "    </tr>\n",
       "    <tr>\n",
       "      <th>12</th>\n",
       "      <td>1640fZpYBSY</td>\n",
       "      <td>2017-11-14</td>\n",
       "      <td>I love the Price is Right! Wooo! -Kevin</td>\n",
       "      <td>Anaki Abo</td>\n",
       "      <td>22</td>\n",
       "      <td>2017-11-07</td>\n",
       "      <td>[none]</td>\n",
       "      <td>358597</td>\n",
       "      <td>1211</td>\n",
       "      <td>72</td>\n",
       "      <td>...</td>\n",
       "      <td>False</td>\n",
       "      <td>False</td>\n",
       "      <td>False</td>\n",
       "      <td>Price is Right contestant plays for a car.</td>\n",
       "      <td>West Virginia</td>\n",
       "      <td>39.000000</td>\n",
       "      <td>-80.500000</td>\n",
       "      <td>POINT (-80.5 39)</td>\n",
       "      <td>People &amp; Blogs</td>\n",
       "      <td>18:54:39</td>\n",
       "    </tr>\n",
       "    <tr>\n",
       "      <th>13</th>\n",
       "      <td>7m630xvAJtA</td>\n",
       "      <td>2017-11-14</td>\n",
       "      <td>I'm With Her - See You Around [Official Audio]</td>\n",
       "      <td>I'm With Her</td>\n",
       "      <td>22</td>\n",
       "      <td>2017-11-09</td>\n",
       "      <td>im with her|\"i'm with her\"|\"folk music\"|\"indie...</td>\n",
       "      <td>6148</td>\n",
       "      <td>121</td>\n",
       "      <td>3</td>\n",
       "      <td>...</td>\n",
       "      <td>False</td>\n",
       "      <td>False</td>\n",
       "      <td>False</td>\n",
       "      <td>See You Around is the title track and first so...</td>\n",
       "      <td>Virginia</td>\n",
       "      <td>37.926868</td>\n",
       "      <td>-78.024902</td>\n",
       "      <td>POINT (-78.024902 37.926868)</td>\n",
       "      <td>People &amp; Blogs</td>\n",
       "      <td>16:33:02</td>\n",
       "    </tr>\n",
       "    <tr>\n",
       "      <th>14</th>\n",
       "      <td>6ixU_vdE0Es</td>\n",
       "      <td>2017-11-14</td>\n",
       "      <td>BOYFRIEND DOES MY MAKEUP | Madelaine Petsch</td>\n",
       "      <td>Madelaine Petsch</td>\n",
       "      <td>22</td>\n",
       "      <td>2017-11-08</td>\n",
       "      <td>madelaine|\"madelainepetsch\"|\"madelaine petsch\"...</td>\n",
       "      <td>280065</td>\n",
       "      <td>20289</td>\n",
       "      <td>38</td>\n",
       "      <td>...</td>\n",
       "      <td>False</td>\n",
       "      <td>False</td>\n",
       "      <td>False</td>\n",
       "      <td>I asked Travis to replicate my everyday makeup...</td>\n",
       "      <td>Wisconsin</td>\n",
       "      <td>44.500000</td>\n",
       "      <td>-89.500000</td>\n",
       "      <td>POINT (-89.5 44.5)</td>\n",
       "      <td>People &amp; Blogs</td>\n",
       "      <td>22:13:18</td>\n",
       "    </tr>\n",
       "    <tr>\n",
       "      <th>15</th>\n",
       "      <td>wRGldR_SQAA</td>\n",
       "      <td>2017-11-14</td>\n",
       "      <td>Apple Clips sample</td>\n",
       "      <td>Steve Kovach</td>\n",
       "      <td>22</td>\n",
       "      <td>2017-11-09</td>\n",
       "      <td>[none]</td>\n",
       "      <td>2259</td>\n",
       "      <td>0</td>\n",
       "      <td>0</td>\n",
       "      <td>...</td>\n",
       "      <td>False</td>\n",
       "      <td>False</td>\n",
       "      <td>False</td>\n",
       "      <td>Clips 2.0 lets you use augmented reality and s...</td>\n",
       "      <td>California</td>\n",
       "      <td>36.778259</td>\n",
       "      <td>-119.417931</td>\n",
       "      <td>POINT (-119.417931 36.778259)</td>\n",
       "      <td>People &amp; Blogs</td>\n",
       "      <td>18:01:04</td>\n",
       "    </tr>\n",
       "    <tr>\n",
       "      <th>...</th>\n",
       "      <td>...</td>\n",
       "      <td>...</td>\n",
       "      <td>...</td>\n",
       "      <td>...</td>\n",
       "      <td>...</td>\n",
       "      <td>...</td>\n",
       "      <td>...</td>\n",
       "      <td>...</td>\n",
       "      <td>...</td>\n",
       "      <td>...</td>\n",
       "      <td>...</td>\n",
       "      <td>...</td>\n",
       "      <td>...</td>\n",
       "      <td>...</td>\n",
       "      <td>...</td>\n",
       "      <td>...</td>\n",
       "      <td>...</td>\n",
       "      <td>...</td>\n",
       "      <td>...</td>\n",
       "      <td>...</td>\n",
       "      <td>...</td>\n",
       "    </tr>\n",
       "    <tr>\n",
       "      <th>40891</th>\n",
       "      <td>pwGbwYAfSmg</td>\n",
       "      <td>2018-06-04</td>\n",
       "      <td>5 books worth reading this summer</td>\n",
       "      <td>Bill Gates</td>\n",
       "      <td>29</td>\n",
       "      <td>2018-05-21</td>\n",
       "      <td>Bill|\"Gates\"</td>\n",
       "      <td>333587</td>\n",
       "      <td>10918</td>\n",
       "      <td>161</td>\n",
       "      <td>...</td>\n",
       "      <td>False</td>\n",
       "      <td>False</td>\n",
       "      <td>False</td>\n",
       "      <td>If you’re looking for something to read over t...</td>\n",
       "      <td>South Carolina</td>\n",
       "      <td>33.836082</td>\n",
       "      <td>-81.163727</td>\n",
       "      <td>POINT (-81.16372699999999 33.836082)</td>\n",
       "      <td>Nonprofits &amp; Activism</td>\n",
       "      <td>13:30:33</td>\n",
       "    </tr>\n",
       "    <tr>\n",
       "      <th>40902</th>\n",
       "      <td>lM0yu7c6lQk</td>\n",
       "      <td>2018-01-02</td>\n",
       "      <td>You're not crazy. Apple is slowing down older ...</td>\n",
       "      <td>CNET</td>\n",
       "      <td>43</td>\n",
       "      <td>2017-12-22</td>\n",
       "      <td>Apple|\"iPhone Slowdown\"|\"Apple Battery\"|\"Cultu...</td>\n",
       "      <td>179723</td>\n",
       "      <td>4763</td>\n",
       "      <td>247</td>\n",
       "      <td>...</td>\n",
       "      <td>False</td>\n",
       "      <td>False</td>\n",
       "      <td>False</td>\n",
       "      <td>Apple comes clean after overwhelming evidence ...</td>\n",
       "      <td>Kentucky</td>\n",
       "      <td>37.839333</td>\n",
       "      <td>-84.270020</td>\n",
       "      <td>POINT (-84.27002 37.839333)</td>\n",
       "      <td>Shows</td>\n",
       "      <td>01:16:16</td>\n",
       "    </tr>\n",
       "    <tr>\n",
       "      <th>40907</th>\n",
       "      <td>Q1CFfU2gXHw</td>\n",
       "      <td>2018-01-30</td>\n",
       "      <td>Apple HomePod: Everything to know before you b...</td>\n",
       "      <td>CNET</td>\n",
       "      <td>43</td>\n",
       "      <td>2018-01-24</td>\n",
       "      <td>Apple|\"Homepod\"|\"smart home\"|\"Google Home\"|\"Am...</td>\n",
       "      <td>72607</td>\n",
       "      <td>1130</td>\n",
       "      <td>113</td>\n",
       "      <td>...</td>\n",
       "      <td>False</td>\n",
       "      <td>False</td>\n",
       "      <td>False</td>\n",
       "      <td>We'll break down all the new Apple HomePod det...</td>\n",
       "      <td>Delaware</td>\n",
       "      <td>39.000000</td>\n",
       "      <td>-75.500000</td>\n",
       "      <td>POINT (-75.5 39)</td>\n",
       "      <td>Shows</td>\n",
       "      <td>20:08:16</td>\n",
       "    </tr>\n",
       "    <tr>\n",
       "      <th>40923</th>\n",
       "      <td>7_FJUSBFbJM</td>\n",
       "      <td>2018-04-29</td>\n",
       "      <td>Game of Zones - Game of Zones - S5:E1: 'A Gold...</td>\n",
       "      <td>Bleacher Report</td>\n",
       "      <td>43</td>\n",
       "      <td>2018-04-12</td>\n",
       "      <td>bleacher report|\"br\"|\"nba\"|\"game of zones\"|\"go...</td>\n",
       "      <td>1445949</td>\n",
       "      <td>33261</td>\n",
       "      <td>475</td>\n",
       "      <td>...</td>\n",
       "      <td>False</td>\n",
       "      <td>False</td>\n",
       "      <td>False</td>\n",
       "      <td>In the season 5 premiere of Game of Zones, the...</td>\n",
       "      <td>Virginia</td>\n",
       "      <td>37.926868</td>\n",
       "      <td>-78.024902</td>\n",
       "      <td>POINT (-78.024902 37.926868)</td>\n",
       "      <td>Shows</td>\n",
       "      <td>21:00:12</td>\n",
       "    </tr>\n",
       "    <tr>\n",
       "      <th>40948</th>\n",
       "      <td>V6ElE2xs48c</td>\n",
       "      <td>2018-06-06</td>\n",
       "      <td>Game of Zones - S5:E5: The Isle of Van Gundy</td>\n",
       "      <td>Bleacher Report</td>\n",
       "      <td>43</td>\n",
       "      <td>2018-05-10</td>\n",
       "      <td>bleacher report|\"br\"|\"nba\"|\"Stan Van Gundy\"|\"J...</td>\n",
       "      <td>1351321</td>\n",
       "      <td>22587</td>\n",
       "      <td>616</td>\n",
       "      <td>...</td>\n",
       "      <td>False</td>\n",
       "      <td>False</td>\n",
       "      <td>False</td>\n",
       "      <td>On an island full of Van Gundys, Stan gets tal...</td>\n",
       "      <td>Montana</td>\n",
       "      <td>46.965260</td>\n",
       "      <td>-109.533691</td>\n",
       "      <td>POINT (-109.533691 46.96526)</td>\n",
       "      <td>Shows</td>\n",
       "      <td>21:01:22</td>\n",
       "    </tr>\n",
       "  </tbody>\n",
       "</table>\n",
       "<p>6351 rows × 22 columns</p>\n",
       "</div>"
      ],
      "text/plain": [
       "          video_id trending_date  \\\n",
       "11     P4YJwy_T9pM    2017-11-14   \n",
       "12     1640fZpYBSY    2017-11-14   \n",
       "13     7m630xvAJtA    2017-11-14   \n",
       "14     6ixU_vdE0Es    2017-11-14   \n",
       "15     wRGldR_SQAA    2017-11-14   \n",
       "...            ...           ...   \n",
       "40891  pwGbwYAfSmg    2018-06-04   \n",
       "40902  lM0yu7c6lQk    2018-01-02   \n",
       "40907  Q1CFfU2gXHw    2018-01-30   \n",
       "40923  7_FJUSBFbJM    2018-04-29   \n",
       "40948  V6ElE2xs48c    2018-06-06   \n",
       "\n",
       "                                                   title     channel_title  \\\n",
       "11           I Picked My Girlfriend's Outfit Blindfolded    Tyler Williams   \n",
       "12               I love the Price is Right! Wooo! -Kevin         Anaki Abo   \n",
       "13        I'm With Her - See You Around [Official Audio]      I'm With Her   \n",
       "14           BOYFRIEND DOES MY MAKEUP | Madelaine Petsch  Madelaine Petsch   \n",
       "15                                    Apple Clips sample      Steve Kovach   \n",
       "...                                                  ...               ...   \n",
       "40891                  5 books worth reading this summer        Bill Gates   \n",
       "40902  You're not crazy. Apple is slowing down older ...              CNET   \n",
       "40907  Apple HomePod: Everything to know before you b...              CNET   \n",
       "40923  Game of Zones - Game of Zones - S5:E1: 'A Gold...   Bleacher Report   \n",
       "40948       Game of Zones - S5:E5: The Isle of Van Gundy   Bleacher Report   \n",
       "\n",
       "       category_id publish_time  \\\n",
       "11              22   2017-11-09   \n",
       "12              22   2017-11-07   \n",
       "13              22   2017-11-09   \n",
       "14              22   2017-11-08   \n",
       "15              22   2017-11-09   \n",
       "...            ...          ...   \n",
       "40891           29   2018-05-21   \n",
       "40902           43   2017-12-22   \n",
       "40907           43   2018-01-24   \n",
       "40923           43   2018-04-12   \n",
       "40948           43   2018-05-10   \n",
       "\n",
       "                                                    tags    views  likes  \\\n",
       "11     i picked my girlfriend's outfit blindfolded|\"b...   691229  31892   \n",
       "12                                                [none]   358597   1211   \n",
       "13     im with her|\"i'm with her\"|\"folk music\"|\"indie...     6148    121   \n",
       "14     madelaine|\"madelainepetsch\"|\"madelaine petsch\"...   280065  20289   \n",
       "15                                                [none]     2259      0   \n",
       "...                                                  ...      ...    ...   \n",
       "40891                                       Bill|\"Gates\"   333587  10918   \n",
       "40902  Apple|\"iPhone Slowdown\"|\"Apple Battery\"|\"Cultu...   179723   4763   \n",
       "40907  Apple|\"Homepod\"|\"smart home\"|\"Google Home\"|\"Am...    72607   1130   \n",
       "40923  bleacher report|\"br\"|\"nba\"|\"game of zones\"|\"go...  1445949  33261   \n",
       "40948  bleacher report|\"br\"|\"nba\"|\"Stan Van Gundy\"|\"J...  1351321  22587   \n",
       "\n",
       "       dislikes  ...  comments_disabled ratings_disabled  \\\n",
       "11          197  ...              False            False   \n",
       "12           72  ...              False            False   \n",
       "13            3  ...              False            False   \n",
       "14           38  ...              False            False   \n",
       "15            0  ...              False            False   \n",
       "...         ...  ...                ...              ...   \n",
       "40891       161  ...              False            False   \n",
       "40902       247  ...              False            False   \n",
       "40907       113  ...              False            False   \n",
       "40923       475  ...              False            False   \n",
       "40948       616  ...              False            False   \n",
       "\n",
       "       video_error_or_removed  \\\n",
       "11                      False   \n",
       "12                      False   \n",
       "13                      False   \n",
       "14                      False   \n",
       "15                      False   \n",
       "...                       ...   \n",
       "40891                   False   \n",
       "40902                   False   \n",
       "40907                   False   \n",
       "40923                   False   \n",
       "40948                   False   \n",
       "\n",
       "                                             description           state  \\\n",
       "11     Link to our pinterest recipes shopping room: h...    South Dakota   \n",
       "12            Price is Right contestant plays for a car.   West Virginia   \n",
       "13     See You Around is the title track and first so...        Virginia   \n",
       "14     I asked Travis to replicate my everyday makeup...       Wisconsin   \n",
       "15     Clips 2.0 lets you use augmented reality and s...      California   \n",
       "...                                                  ...             ...   \n",
       "40891  If you’re looking for something to read over t...  South Carolina   \n",
       "40902  Apple comes clean after overwhelming evidence ...        Kentucky   \n",
       "40907  We'll break down all the new Apple HomePod det...        Delaware   \n",
       "40923  In the season 5 premiere of Game of Zones, the...        Virginia   \n",
       "40948  On an island full of Van Gundys, Stan gets tal...         Montana   \n",
       "\n",
       "             lat         lon                              geometry  \\\n",
       "11     44.500000 -100.000000                     POINT (-100 44.5)   \n",
       "12     39.000000  -80.500000                      POINT (-80.5 39)   \n",
       "13     37.926868  -78.024902          POINT (-78.024902 37.926868)   \n",
       "14     44.500000  -89.500000                    POINT (-89.5 44.5)   \n",
       "15     36.778259 -119.417931         POINT (-119.417931 36.778259)   \n",
       "...          ...         ...                                   ...   \n",
       "40891  33.836082  -81.163727  POINT (-81.16372699999999 33.836082)   \n",
       "40902  37.839333  -84.270020           POINT (-84.27002 37.839333)   \n",
       "40907  39.000000  -75.500000                      POINT (-75.5 39)   \n",
       "40923  37.926868  -78.024902          POINT (-78.024902 37.926868)   \n",
       "40948  46.965260 -109.533691          POINT (-109.533691 46.96526)   \n",
       "\n",
       "        dbscan_snippet.title post_time  \n",
       "11            People & Blogs  03:16:36  \n",
       "12            People & Blogs  18:54:39  \n",
       "13            People & Blogs  16:33:02  \n",
       "14            People & Blogs  22:13:18  \n",
       "15            People & Blogs  18:01:04  \n",
       "...                      ...       ...  \n",
       "40891  Nonprofits & Activism  13:30:33  \n",
       "40902                  Shows  01:16:16  \n",
       "40907                  Shows  20:08:16  \n",
       "40923                  Shows  21:00:12  \n",
       "40948                  Shows  21:01:22  \n",
       "\n",
       "[6351 rows x 22 columns]"
      ]
     },
     "execution_count": 42,
     "metadata": {},
     "output_type": "execute_result"
    }
   ],
   "source": [
    "groupUSVideos = newUSVideos\n",
    "groupUSVideos = groupUSVideos.drop_duplicates(subset='video_id', keep=\"last\")\n",
    "groupUSVideos"
   ]
  },
  {
   "cell_type": "code",
   "execution_count": 43,
   "metadata": {},
   "outputs": [
    {
     "data": {
      "text/html": [
       "<div>\n",
       "<style scoped>\n",
       "    .dataframe tbody tr th:only-of-type {\n",
       "        vertical-align: middle;\n",
       "    }\n",
       "\n",
       "    .dataframe tbody tr th {\n",
       "        vertical-align: top;\n",
       "    }\n",
       "\n",
       "    .dataframe thead th {\n",
       "        text-align: right;\n",
       "    }\n",
       "</style>\n",
       "<table border=\"1\" class=\"dataframe\">\n",
       "  <thead>\n",
       "    <tr style=\"text-align: right;\">\n",
       "      <th></th>\n",
       "      <th>video_id</th>\n",
       "      <th>trending_date</th>\n",
       "      <th>title</th>\n",
       "      <th>channel_title</th>\n",
       "      <th>category_id</th>\n",
       "      <th>publish_time</th>\n",
       "      <th>tags</th>\n",
       "      <th>views</th>\n",
       "      <th>likes</th>\n",
       "      <th>dislikes</th>\n",
       "      <th>...</th>\n",
       "      <th>ratings_disabled</th>\n",
       "      <th>video_error_or_removed</th>\n",
       "      <th>description</th>\n",
       "      <th>state</th>\n",
       "      <th>lat</th>\n",
       "      <th>lon</th>\n",
       "      <th>geometry</th>\n",
       "      <th>dbscan_snippet.title</th>\n",
       "      <th>post_time</th>\n",
       "      <th>counts</th>\n",
       "    </tr>\n",
       "  </thead>\n",
       "  <tbody>\n",
       "    <tr>\n",
       "      <th>0</th>\n",
       "      <td>P4YJwy_T9pM</td>\n",
       "      <td>2017-11-14</td>\n",
       "      <td>I Picked My Girlfriend's Outfit Blindfolded</td>\n",
       "      <td>Tyler Williams</td>\n",
       "      <td>22</td>\n",
       "      <td>2017-11-09</td>\n",
       "      <td>i picked my girlfriend's outfit blindfolded|\"b...</td>\n",
       "      <td>691229</td>\n",
       "      <td>31892</td>\n",
       "      <td>197</td>\n",
       "      <td>...</td>\n",
       "      <td>False</td>\n",
       "      <td>False</td>\n",
       "      <td>Link to our pinterest recipes shopping room: h...</td>\n",
       "      <td>South Dakota</td>\n",
       "      <td>44.500000</td>\n",
       "      <td>-100.000000</td>\n",
       "      <td>POINT (-100 44.5)</td>\n",
       "      <td>People &amp; Blogs</td>\n",
       "      <td>03:16:36</td>\n",
       "      <td>1</td>\n",
       "    </tr>\n",
       "    <tr>\n",
       "      <th>1</th>\n",
       "      <td>1640fZpYBSY</td>\n",
       "      <td>2017-11-14</td>\n",
       "      <td>I love the Price is Right! Wooo! -Kevin</td>\n",
       "      <td>Anaki Abo</td>\n",
       "      <td>22</td>\n",
       "      <td>2017-11-07</td>\n",
       "      <td>[none]</td>\n",
       "      <td>358597</td>\n",
       "      <td>1211</td>\n",
       "      <td>72</td>\n",
       "      <td>...</td>\n",
       "      <td>False</td>\n",
       "      <td>False</td>\n",
       "      <td>Price is Right contestant plays for a car.</td>\n",
       "      <td>West Virginia</td>\n",
       "      <td>39.000000</td>\n",
       "      <td>-80.500000</td>\n",
       "      <td>POINT (-80.5 39)</td>\n",
       "      <td>People &amp; Blogs</td>\n",
       "      <td>18:54:39</td>\n",
       "      <td>1</td>\n",
       "    </tr>\n",
       "    <tr>\n",
       "      <th>2</th>\n",
       "      <td>7m630xvAJtA</td>\n",
       "      <td>2017-11-14</td>\n",
       "      <td>I'm With Her - See You Around [Official Audio]</td>\n",
       "      <td>I'm With Her</td>\n",
       "      <td>22</td>\n",
       "      <td>2017-11-09</td>\n",
       "      <td>im with her|\"i'm with her\"|\"folk music\"|\"indie...</td>\n",
       "      <td>6148</td>\n",
       "      <td>121</td>\n",
       "      <td>3</td>\n",
       "      <td>...</td>\n",
       "      <td>False</td>\n",
       "      <td>False</td>\n",
       "      <td>See You Around is the title track and first so...</td>\n",
       "      <td>Virginia</td>\n",
       "      <td>37.926868</td>\n",
       "      <td>-78.024902</td>\n",
       "      <td>POINT (-78.024902 37.926868)</td>\n",
       "      <td>People &amp; Blogs</td>\n",
       "      <td>16:33:02</td>\n",
       "      <td>1</td>\n",
       "    </tr>\n",
       "    <tr>\n",
       "      <th>3</th>\n",
       "      <td>6ixU_vdE0Es</td>\n",
       "      <td>2017-11-14</td>\n",
       "      <td>BOYFRIEND DOES MY MAKEUP | Madelaine Petsch</td>\n",
       "      <td>Madelaine Petsch</td>\n",
       "      <td>22</td>\n",
       "      <td>2017-11-08</td>\n",
       "      <td>madelaine|\"madelainepetsch\"|\"madelaine petsch\"...</td>\n",
       "      <td>280065</td>\n",
       "      <td>20289</td>\n",
       "      <td>38</td>\n",
       "      <td>...</td>\n",
       "      <td>False</td>\n",
       "      <td>False</td>\n",
       "      <td>I asked Travis to replicate my everyday makeup...</td>\n",
       "      <td>Wisconsin</td>\n",
       "      <td>44.500000</td>\n",
       "      <td>-89.500000</td>\n",
       "      <td>POINT (-89.5 44.5)</td>\n",
       "      <td>People &amp; Blogs</td>\n",
       "      <td>22:13:18</td>\n",
       "      <td>1</td>\n",
       "    </tr>\n",
       "    <tr>\n",
       "      <th>4</th>\n",
       "      <td>wRGldR_SQAA</td>\n",
       "      <td>2017-11-14</td>\n",
       "      <td>Apple Clips sample</td>\n",
       "      <td>Steve Kovach</td>\n",
       "      <td>22</td>\n",
       "      <td>2017-11-09</td>\n",
       "      <td>[none]</td>\n",
       "      <td>2259</td>\n",
       "      <td>0</td>\n",
       "      <td>0</td>\n",
       "      <td>...</td>\n",
       "      <td>False</td>\n",
       "      <td>False</td>\n",
       "      <td>Clips 2.0 lets you use augmented reality and s...</td>\n",
       "      <td>California</td>\n",
       "      <td>36.778259</td>\n",
       "      <td>-119.417931</td>\n",
       "      <td>POINT (-119.417931 36.778259)</td>\n",
       "      <td>People &amp; Blogs</td>\n",
       "      <td>18:01:04</td>\n",
       "      <td>1</td>\n",
       "    </tr>\n",
       "    <tr>\n",
       "      <th>...</th>\n",
       "      <td>...</td>\n",
       "      <td>...</td>\n",
       "      <td>...</td>\n",
       "      <td>...</td>\n",
       "      <td>...</td>\n",
       "      <td>...</td>\n",
       "      <td>...</td>\n",
       "      <td>...</td>\n",
       "      <td>...</td>\n",
       "      <td>...</td>\n",
       "      <td>...</td>\n",
       "      <td>...</td>\n",
       "      <td>...</td>\n",
       "      <td>...</td>\n",
       "      <td>...</td>\n",
       "      <td>...</td>\n",
       "      <td>...</td>\n",
       "      <td>...</td>\n",
       "      <td>...</td>\n",
       "      <td>...</td>\n",
       "      <td>...</td>\n",
       "    </tr>\n",
       "    <tr>\n",
       "      <th>6346</th>\n",
       "      <td>pwGbwYAfSmg</td>\n",
       "      <td>2018-06-04</td>\n",
       "      <td>5 books worth reading this summer</td>\n",
       "      <td>Bill Gates</td>\n",
       "      <td>29</td>\n",
       "      <td>2018-05-21</td>\n",
       "      <td>Bill|\"Gates\"</td>\n",
       "      <td>333587</td>\n",
       "      <td>10918</td>\n",
       "      <td>161</td>\n",
       "      <td>...</td>\n",
       "      <td>False</td>\n",
       "      <td>False</td>\n",
       "      <td>If you’re looking for something to read over t...</td>\n",
       "      <td>South Carolina</td>\n",
       "      <td>33.836082</td>\n",
       "      <td>-81.163727</td>\n",
       "      <td>POINT (-81.16372699999999 33.836082)</td>\n",
       "      <td>Nonprofits &amp; Activism</td>\n",
       "      <td>13:30:33</td>\n",
       "      <td>9</td>\n",
       "    </tr>\n",
       "    <tr>\n",
       "      <th>6347</th>\n",
       "      <td>lM0yu7c6lQk</td>\n",
       "      <td>2018-01-02</td>\n",
       "      <td>You're not crazy. Apple is slowing down older ...</td>\n",
       "      <td>CNET</td>\n",
       "      <td>43</td>\n",
       "      <td>2017-12-22</td>\n",
       "      <td>Apple|\"iPhone Slowdown\"|\"Apple Battery\"|\"Cultu...</td>\n",
       "      <td>179723</td>\n",
       "      <td>4763</td>\n",
       "      <td>247</td>\n",
       "      <td>...</td>\n",
       "      <td>False</td>\n",
       "      <td>False</td>\n",
       "      <td>Apple comes clean after overwhelming evidence ...</td>\n",
       "      <td>Kentucky</td>\n",
       "      <td>37.839333</td>\n",
       "      <td>-84.270020</td>\n",
       "      <td>POINT (-84.27002 37.839333)</td>\n",
       "      <td>Shows</td>\n",
       "      <td>01:16:16</td>\n",
       "      <td>11</td>\n",
       "    </tr>\n",
       "    <tr>\n",
       "      <th>6348</th>\n",
       "      <td>Q1CFfU2gXHw</td>\n",
       "      <td>2018-01-30</td>\n",
       "      <td>Apple HomePod: Everything to know before you b...</td>\n",
       "      <td>CNET</td>\n",
       "      <td>43</td>\n",
       "      <td>2018-01-24</td>\n",
       "      <td>Apple|\"Homepod\"|\"smart home\"|\"Google Home\"|\"Am...</td>\n",
       "      <td>72607</td>\n",
       "      <td>1130</td>\n",
       "      <td>113</td>\n",
       "      <td>...</td>\n",
       "      <td>False</td>\n",
       "      <td>False</td>\n",
       "      <td>We'll break down all the new Apple HomePod det...</td>\n",
       "      <td>Delaware</td>\n",
       "      <td>39.000000</td>\n",
       "      <td>-75.500000</td>\n",
       "      <td>POINT (-75.5 39)</td>\n",
       "      <td>Shows</td>\n",
       "      <td>20:08:16</td>\n",
       "      <td>5</td>\n",
       "    </tr>\n",
       "    <tr>\n",
       "      <th>6349</th>\n",
       "      <td>7_FJUSBFbJM</td>\n",
       "      <td>2018-04-29</td>\n",
       "      <td>Game of Zones - Game of Zones - S5:E1: 'A Gold...</td>\n",
       "      <td>Bleacher Report</td>\n",
       "      <td>43</td>\n",
       "      <td>2018-04-12</td>\n",
       "      <td>bleacher report|\"br\"|\"nba\"|\"game of zones\"|\"go...</td>\n",
       "      <td>1445949</td>\n",
       "      <td>33261</td>\n",
       "      <td>475</td>\n",
       "      <td>...</td>\n",
       "      <td>False</td>\n",
       "      <td>False</td>\n",
       "      <td>In the season 5 premiere of Game of Zones, the...</td>\n",
       "      <td>Virginia</td>\n",
       "      <td>37.926868</td>\n",
       "      <td>-78.024902</td>\n",
       "      <td>POINT (-78.024902 37.926868)</td>\n",
       "      <td>Shows</td>\n",
       "      <td>21:00:12</td>\n",
       "      <td>16</td>\n",
       "    </tr>\n",
       "    <tr>\n",
       "      <th>6350</th>\n",
       "      <td>V6ElE2xs48c</td>\n",
       "      <td>2018-06-06</td>\n",
       "      <td>Game of Zones - S5:E5: The Isle of Van Gundy</td>\n",
       "      <td>Bleacher Report</td>\n",
       "      <td>43</td>\n",
       "      <td>2018-05-10</td>\n",
       "      <td>bleacher report|\"br\"|\"nba\"|\"Stan Van Gundy\"|\"J...</td>\n",
       "      <td>1351321</td>\n",
       "      <td>22587</td>\n",
       "      <td>616</td>\n",
       "      <td>...</td>\n",
       "      <td>False</td>\n",
       "      <td>False</td>\n",
       "      <td>On an island full of Van Gundys, Stan gets tal...</td>\n",
       "      <td>Montana</td>\n",
       "      <td>46.965260</td>\n",
       "      <td>-109.533691</td>\n",
       "      <td>POINT (-109.533691 46.96526)</td>\n",
       "      <td>Shows</td>\n",
       "      <td>21:01:22</td>\n",
       "      <td>25</td>\n",
       "    </tr>\n",
       "  </tbody>\n",
       "</table>\n",
       "<p>6351 rows × 23 columns</p>\n",
       "</div>"
      ],
      "text/plain": [
       "         video_id trending_date  \\\n",
       "0     P4YJwy_T9pM    2017-11-14   \n",
       "1     1640fZpYBSY    2017-11-14   \n",
       "2     7m630xvAJtA    2017-11-14   \n",
       "3     6ixU_vdE0Es    2017-11-14   \n",
       "4     wRGldR_SQAA    2017-11-14   \n",
       "...           ...           ...   \n",
       "6346  pwGbwYAfSmg    2018-06-04   \n",
       "6347  lM0yu7c6lQk    2018-01-02   \n",
       "6348  Q1CFfU2gXHw    2018-01-30   \n",
       "6349  7_FJUSBFbJM    2018-04-29   \n",
       "6350  V6ElE2xs48c    2018-06-06   \n",
       "\n",
       "                                                  title     channel_title  \\\n",
       "0           I Picked My Girlfriend's Outfit Blindfolded    Tyler Williams   \n",
       "1               I love the Price is Right! Wooo! -Kevin         Anaki Abo   \n",
       "2        I'm With Her - See You Around [Official Audio]      I'm With Her   \n",
       "3           BOYFRIEND DOES MY MAKEUP | Madelaine Petsch  Madelaine Petsch   \n",
       "4                                    Apple Clips sample      Steve Kovach   \n",
       "...                                                 ...               ...   \n",
       "6346                  5 books worth reading this summer        Bill Gates   \n",
       "6347  You're not crazy. Apple is slowing down older ...              CNET   \n",
       "6348  Apple HomePod: Everything to know before you b...              CNET   \n",
       "6349  Game of Zones - Game of Zones - S5:E1: 'A Gold...   Bleacher Report   \n",
       "6350       Game of Zones - S5:E5: The Isle of Van Gundy   Bleacher Report   \n",
       "\n",
       "      category_id publish_time  \\\n",
       "0              22   2017-11-09   \n",
       "1              22   2017-11-07   \n",
       "2              22   2017-11-09   \n",
       "3              22   2017-11-08   \n",
       "4              22   2017-11-09   \n",
       "...           ...          ...   \n",
       "6346           29   2018-05-21   \n",
       "6347           43   2017-12-22   \n",
       "6348           43   2018-01-24   \n",
       "6349           43   2018-04-12   \n",
       "6350           43   2018-05-10   \n",
       "\n",
       "                                                   tags    views  likes  \\\n",
       "0     i picked my girlfriend's outfit blindfolded|\"b...   691229  31892   \n",
       "1                                                [none]   358597   1211   \n",
       "2     im with her|\"i'm with her\"|\"folk music\"|\"indie...     6148    121   \n",
       "3     madelaine|\"madelainepetsch\"|\"madelaine petsch\"...   280065  20289   \n",
       "4                                                [none]     2259      0   \n",
       "...                                                 ...      ...    ...   \n",
       "6346                                       Bill|\"Gates\"   333587  10918   \n",
       "6347  Apple|\"iPhone Slowdown\"|\"Apple Battery\"|\"Cultu...   179723   4763   \n",
       "6348  Apple|\"Homepod\"|\"smart home\"|\"Google Home\"|\"Am...    72607   1130   \n",
       "6349  bleacher report|\"br\"|\"nba\"|\"game of zones\"|\"go...  1445949  33261   \n",
       "6350  bleacher report|\"br\"|\"nba\"|\"Stan Van Gundy\"|\"J...  1351321  22587   \n",
       "\n",
       "      dislikes  ...  ratings_disabled video_error_or_removed  \\\n",
       "0          197  ...             False                  False   \n",
       "1           72  ...             False                  False   \n",
       "2            3  ...             False                  False   \n",
       "3           38  ...             False                  False   \n",
       "4            0  ...             False                  False   \n",
       "...        ...  ...               ...                    ...   \n",
       "6346       161  ...             False                  False   \n",
       "6347       247  ...             False                  False   \n",
       "6348       113  ...             False                  False   \n",
       "6349       475  ...             False                  False   \n",
       "6350       616  ...             False                  False   \n",
       "\n",
       "                                            description           state  \\\n",
       "0     Link to our pinterest recipes shopping room: h...    South Dakota   \n",
       "1            Price is Right contestant plays for a car.   West Virginia   \n",
       "2     See You Around is the title track and first so...        Virginia   \n",
       "3     I asked Travis to replicate my everyday makeup...       Wisconsin   \n",
       "4     Clips 2.0 lets you use augmented reality and s...      California   \n",
       "...                                                 ...             ...   \n",
       "6346  If you’re looking for something to read over t...  South Carolina   \n",
       "6347  Apple comes clean after overwhelming evidence ...        Kentucky   \n",
       "6348  We'll break down all the new Apple HomePod det...        Delaware   \n",
       "6349  In the season 5 premiere of Game of Zones, the...        Virginia   \n",
       "6350  On an island full of Van Gundys, Stan gets tal...         Montana   \n",
       "\n",
       "            lat         lon                              geometry  \\\n",
       "0     44.500000 -100.000000                     POINT (-100 44.5)   \n",
       "1     39.000000  -80.500000                      POINT (-80.5 39)   \n",
       "2     37.926868  -78.024902          POINT (-78.024902 37.926868)   \n",
       "3     44.500000  -89.500000                    POINT (-89.5 44.5)   \n",
       "4     36.778259 -119.417931         POINT (-119.417931 36.778259)   \n",
       "...         ...         ...                                   ...   \n",
       "6346  33.836082  -81.163727  POINT (-81.16372699999999 33.836082)   \n",
       "6347  37.839333  -84.270020           POINT (-84.27002 37.839333)   \n",
       "6348  39.000000  -75.500000                      POINT (-75.5 39)   \n",
       "6349  37.926868  -78.024902          POINT (-78.024902 37.926868)   \n",
       "6350  46.965260 -109.533691          POINT (-109.533691 46.96526)   \n",
       "\n",
       "       dbscan_snippet.title  post_time counts  \n",
       "0            People & Blogs   03:16:36      1  \n",
       "1            People & Blogs   18:54:39      1  \n",
       "2            People & Blogs   16:33:02      1  \n",
       "3            People & Blogs   22:13:18      1  \n",
       "4            People & Blogs   18:01:04      1  \n",
       "...                     ...        ...    ...  \n",
       "6346  Nonprofits & Activism   13:30:33      9  \n",
       "6347                  Shows   01:16:16     11  \n",
       "6348                  Shows   20:08:16      5  \n",
       "6349                  Shows   21:00:12     16  \n",
       "6350                  Shows   21:01:22     25  \n",
       "\n",
       "[6351 rows x 23 columns]"
      ]
     },
     "execution_count": 43,
     "metadata": {},
     "output_type": "execute_result"
    }
   ],
   "source": [
    "groupUSVideos = groupUSVideos.merge(conteo, how='inner', on='video_id')\n",
    "groupUSVideos"
   ]
  },
  {
   "cell_type": "markdown",
   "metadata": {},
   "source": [
    "¿Qué categorías de videos son las de mayor tendencia?"
   ]
  },
  {
   "cell_type": "code",
   "execution_count": 44,
   "metadata": {},
   "outputs": [
    {
     "name": "stdout",
     "output_type": "stream",
     "text": [
      "category_id  dbscan_snippet.title \n",
      "24           Entertainment            9964\n",
      "10           Music                    6472\n",
      "26           Howto & Style            4146\n",
      "23           Comedy                   3457\n",
      "22           People & Blogs           3210\n",
      "25           News & Politics          2487\n",
      "28           Science & Technology     2401\n",
      "1            Film & Animation         2345\n",
      "17           Sports                   2174\n",
      "27           Education                1656\n",
      "15           Pets & Animals            920\n",
      "20           Gaming                    817\n",
      "19           Travel & Events           402\n",
      "2            Autos & Vehicles          384\n",
      "43           Shows                      57\n",
      "29           Nonprofits & Activism      57\n",
      "dtype: int64\n"
     ]
    },
    {
     "data": {
      "text/plain": [
       "<AxesSubplot:xlabel='count', ylabel='dbscan_snippet.title'>"
      ]
     },
     "execution_count": 44,
     "metadata": {},
     "output_type": "execute_result"
    },
    {
     "data": {
      "image/png": "[encoded data removed]",
      "text/plain": [
       "<Figure size 432x288 with 1 Axes>"
      ]
     },
     "metadata": {
      "needs_background": "light"
     },
     "output_type": "display_data"
    }
   ],
   "source": [
    "print(newUSVideos[['category_id','dbscan_snippet.title']].value_counts())\n",
    "sns.countplot(y='dbscan_snippet.title',data=newUSVideos)"
   ]
  },
  {
   "cell_type": "code",
   "execution_count": 45,
   "metadata": {},
   "outputs": [
    {
     "name": "stdout",
     "output_type": "stream",
     "text": [
      "category_id  dbscan_snippet.title \n",
      "24           Entertainment            1617\n",
      "10           Music                     801\n",
      "26           Howto & Style             595\n",
      "23           Comedy                    544\n",
      "25           News & Politics           506\n",
      "22           People & Blogs            495\n",
      "17           Sports                    450\n",
      "28           Science & Technology      380\n",
      "1            Film & Animation          319\n",
      "27           Education                 251\n",
      "15           Pets & Animals            141\n",
      "20           Gaming                    103\n",
      "2            Autos & Vehicles           71\n",
      "19           Travel & Events            60\n",
      "29           Nonprofits & Activism      14\n",
      "43           Shows                       4\n",
      "dtype: int64\n"
     ]
    },
    {
     "data": {
      "text/plain": [
       "<AxesSubplot:xlabel='count', ylabel='dbscan_snippet.title'>"
      ]
     },
     "execution_count": 45,
     "metadata": {},
     "output_type": "execute_result"
    },
    {
     "data": {
      "image/png": "[encoded data removed]",
      "text/plain": [
       "<Figure size 432x288 with 1 Axes>"
      ]
     },
     "metadata": {
      "needs_background": "light"
     },
     "output_type": "display_data"
    }
   ],
   "source": [
    "print(groupUSVideos[['category_id','dbscan_snippet.title']].value_counts())\n",
    "sns.countplot(y='dbscan_snippet.title',data=groupUSVideos)"
   ]
  },
  {
   "cell_type": "markdown",
   "metadata": {},
   "source": [
    "¿Qué categorías de videos son los que más gustan? ¿Y las que menos gustan?"
   ]
  },
  {
   "cell_type": "code",
   "execution_count": 46,
   "metadata": {},
   "outputs": [
    {
     "name": "stdout",
     "output_type": "stream",
     "text": [
      "    category_id   dbscan_snippet.title      likes\n",
      "2            10                  Music  150641673\n",
      "9            24          Entertainment   67406896\n",
      "8            23                 Comedy   29960684\n",
      "7            22         People & Blogs   23000163\n",
      "11           26          Howto & Style   20646615\n",
      "0             1       Film & Animation   16679391\n",
      "4            17                 Sports   12586047\n",
      "13           28   Science & Technology   10165758\n",
      "6            20                 Gaming    6991366\n",
      "12           27              Education    5402061\n",
      "10           25        News & Politics    3025637\n",
      "3            15         Pets & Animals    2670957\n",
      "14           29  Nonprofits & Activism    2388624\n",
      "1             2       Autos & Vehicles     730306\n",
      "5            19        Travel & Events     587696\n",
      "15           43                  Shows      61741\n"
     ]
    },
    {
     "data": {
      "text/plain": [
       "<AxesSubplot:xlabel='likes', ylabel='dbscan_snippet.title'>"
      ]
     },
     "execution_count": 46,
     "metadata": {},
     "output_type": "execute_result"
    },
    {
     "data": {
      "image/png": "[encoded data removed]",
      "text/plain": [
       "<Figure size 432x288 with 1 Axes>"
      ]
     },
     "metadata": {
      "needs_background": "light"
     },
     "output_type": "display_data"
    }
   ],
   "source": [
    "pregunta2 = groupUSVideos.groupby(['category_id', 'dbscan_snippet.title'])['likes'].sum().reset_index()\n",
    "pregunta2 = pregunta2.sort_values(by=['likes'], ascending=False)\n",
    "print(pregunta2)\n",
    "sns.barplot(y = 'dbscan_snippet.title', x = 'likes', data = pregunta2)"
   ]
  },
  {
   "cell_type": "markdown",
   "metadata": {},
   "source": [
    "¿Qué categorías de videos tienen la mejor proporción(ratio)de “Megusta” /“No me gusta”?"
   ]
  },
  {
   "cell_type": "code",
   "execution_count": 47,
   "metadata": {},
   "outputs": [
    {
     "name": "stdout",
     "output_type": "stream",
     "text": [
      "    category_id   dbscan_snippet.title      likes  dislikes    ratioLD\n",
      "15           43                  Shows      61741      1451  42.550655\n",
      "3            15         Pets & Animals    2670957     67902  39.335469\n",
      "11           26          Howto & Style   20646615    705387  29.269911\n",
      "2            10                  Music  150641673   5264504  28.614599\n",
      "12           27              Education    5402061    189946  28.439983\n",
      "8            23                 Comedy   29960684   1067507  28.066030\n",
      "0             1       Film & Animation   16679391    686054  24.312067\n",
      "13           28   Science & Technology   10165758    547822  18.556681\n",
      "7            22         People & Blogs   23000163   1377442  16.697736\n",
      "4            17                 Sports   12586047    797463  15.782609\n",
      "1             2       Autos & Vehicles     730306     46397  15.740371\n",
      "5            19        Travel & Events     587696     39341  14.938512\n",
      "6            20                 Gaming    6991366    624992  11.186329\n",
      "9            24          Entertainment   67406896   6726924  10.020463\n",
      "14           29  Nonprofits & Activism    2388624    563262   4.240698\n",
      "10           25        News & Politics    3025637    772282   3.917788\n"
     ]
    },
    {
     "name": "stderr",
     "output_type": "stream",
     "text": [
      "<ipython-input-47-3b8a6b6909a4>:1: FutureWarning:\n",
      "\n",
      "Indexing with multiple keys (implicitly converted to a tuple of keys) will be deprecated, use a list instead.\n",
      "\n"
     ]
    },
    {
     "data": {
      "text/plain": [
       "<AxesSubplot:xlabel='ratioLD', ylabel='dbscan_snippet.title'>"
      ]
     },
     "execution_count": 47,
     "metadata": {},
     "output_type": "execute_result"
    },
    {
     "data": {
      "image/png": "[encoded data removed]",
      "text/plain": [
       "<Figure size 432x288 with 1 Axes>"
      ]
     },
     "metadata": {
      "needs_background": "light"
     },
     "output_type": "display_data"
    }
   ],
   "source": [
    "pregunta3 = groupUSVideos.groupby(['category_id', 'dbscan_snippet.title'])['likes','dislikes'].sum().reset_index()\n",
    "pregunta3['ratioLD'] = pregunta3['likes']/pregunta3['dislikes']\n",
    "pregunta3 = pregunta3.sort_values(by=['ratioLD'], ascending=False)\n",
    "print(pregunta3)\n",
    "sns.barplot(y = 'dbscan_snippet.title', x = 'ratioLD', data = pregunta3)"
   ]
  },
  {
   "cell_type": "markdown",
   "metadata": {},
   "source": [
    "¿Qué categorías de videos tienen la mejor proporción(ratio)de “Vistas”/ “Comentarios”?"
   ]
  },
  {
   "cell_type": "code",
   "execution_count": 48,
   "metadata": {},
   "outputs": [
    {
     "name": "stdout",
     "output_type": "stream",
     "text": [
      "    category_id   dbscan_snippet.title       views  comment_count     ratioVC\n",
      "1             2       Autos & Vehicles   102913586         123347  834.342027\n",
      "5            19        Travel & Events    58840828         105703  556.661854\n",
      "15           43                  Shows     3049600           6085  501.166804\n",
      "4            17                 Sports   639639728        1490685  429.091141\n",
      "0             1       Film & Animation   814511292        1955475  416.528614\n",
      "2            10                  Music  4828174140       12865088  375.292741\n",
      "13           28   Science & Technology   428278754        1390701  307.958903\n",
      "3            15         Pets & Animals   104212968         359329  290.021034\n",
      "9            24          Entertainment  2825385430        9887101  285.764799\n",
      "8            23                 Comedy   773843693        2986525  259.111741\n",
      "12           27              Education   152579019         634097  240.624099\n",
      "7            22         People & Blogs   667660689        3052960  218.692904\n",
      "10           25        News & Politics   233976493        1087314  215.187603\n",
      "11           26          Howto & Style   557195961        2894804  192.481412\n",
      "6            20                 Gaming   239483937        1386717  172.698494\n",
      "14           29  Nonprofits & Activism    31064609         740432   41.954709\n"
     ]
    },
    {
     "name": "stderr",
     "output_type": "stream",
     "text": [
      "<ipython-input-48-61a83aac2831>:1: FutureWarning:\n",
      "\n",
      "Indexing with multiple keys (implicitly converted to a tuple of keys) will be deprecated, use a list instead.\n",
      "\n"
     ]
    },
    {
     "data": {
      "text/plain": [
       "<AxesSubplot:xlabel='ratioVC', ylabel='dbscan_snippet.title'>"
      ]
     },
     "execution_count": 48,
     "metadata": {},
     "output_type": "execute_result"
    },
    {
     "data": {
      "image/png": "[encoded data removed]",
      "text/plain": [
       "<Figure size 432x288 with 1 Axes>"
      ]
     },
     "metadata": {
      "needs_background": "light"
     },
     "output_type": "display_data"
    }
   ],
   "source": [
    "pregunta4 = groupUSVideos.groupby(['category_id', 'dbscan_snippet.title'])['views','comment_count'].sum().reset_index()\n",
    "pregunta4['ratioVC'] = pregunta4['views']/pregunta4['comment_count']\n",
    "pregunta4 = pregunta4.sort_values(by=['ratioVC'], ascending=False)\n",
    "print(pregunta4)\n",
    "sns.barplot(y = 'dbscan_snippet.title', x = 'ratioVC', data = pregunta4)"
   ]
  },
  {
   "cell_type": "markdown",
   "metadata": {},
   "source": [
    "¿Cómo ha cambiado el volumen de los videos entendencia a lo largo del tiempo?"
   ]
  },
  {
   "cell_type": "code",
   "execution_count": 53,
   "metadata": {},
   "outputs": [
    {
     "data": {
      "text/html": [
       "<div>\n",
       "<style scoped>\n",
       "    .dataframe tbody tr th:only-of-type {\n",
       "        vertical-align: middle;\n",
       "    }\n",
       "\n",
       "    .dataframe tbody tr th {\n",
       "        vertical-align: top;\n",
       "    }\n",
       "\n",
       "    .dataframe thead th {\n",
       "        text-align: right;\n",
       "    }\n",
       "</style>\n",
       "<table border=\"1\" class=\"dataframe\">\n",
       "  <thead>\n",
       "    <tr style=\"text-align: right;\">\n",
       "      <th></th>\n",
       "      <th>counts</th>\n",
       "    </tr>\n",
       "    <tr>\n",
       "      <th>trending_date</th>\n",
       "      <th></th>\n",
       "    </tr>\n",
       "  </thead>\n",
       "  <tbody>\n",
       "    <tr>\n",
       "      <th>2017-12-27</th>\n",
       "      <td>200</td>\n",
       "    </tr>\n",
       "    <tr>\n",
       "      <th>2018-04-19</th>\n",
       "      <td>200</td>\n",
       "    </tr>\n",
       "    <tr>\n",
       "      <th>2017-11-14</th>\n",
       "      <td>200</td>\n",
       "    </tr>\n",
       "    <tr>\n",
       "      <th>2017-11-27</th>\n",
       "      <td>200</td>\n",
       "    </tr>\n",
       "    <tr>\n",
       "      <th>2017-12-10</th>\n",
       "      <td>200</td>\n",
       "    </tr>\n",
       "    <tr>\n",
       "      <th>...</th>\n",
       "      <td>...</td>\n",
       "    </tr>\n",
       "    <tr>\n",
       "      <th>2018-01-31</th>\n",
       "      <td>197</td>\n",
       "    </tr>\n",
       "    <tr>\n",
       "      <th>2018-02-01</th>\n",
       "      <td>197</td>\n",
       "    </tr>\n",
       "    <tr>\n",
       "      <th>2018-02-03</th>\n",
       "      <td>196</td>\n",
       "    </tr>\n",
       "    <tr>\n",
       "      <th>2018-02-02</th>\n",
       "      <td>196</td>\n",
       "    </tr>\n",
       "    <tr>\n",
       "      <th>2018-02-04</th>\n",
       "      <td>196</td>\n",
       "    </tr>\n",
       "  </tbody>\n",
       "</table>\n",
       "<p>205 rows × 1 columns</p>\n",
       "</div>"
      ],
      "text/plain": [
       "               counts\n",
       "trending_date        \n",
       "2017-12-27        200\n",
       "2018-04-19        200\n",
       "2017-11-14        200\n",
       "2017-11-27        200\n",
       "2017-12-10        200\n",
       "...               ...\n",
       "2018-01-31        197\n",
       "2018-02-01        197\n",
       "2018-02-03        196\n",
       "2018-02-02        196\n",
       "2018-02-04        196\n",
       "\n",
       "[205 rows x 1 columns]"
      ]
     },
     "execution_count": 53,
     "metadata": {},
     "output_type": "execute_result"
    }
   ],
   "source": [
    "conteo2 = newUSVideos['trending_date'].value_counts().rename_axis('trending_date').to_frame('counts')\n",
    "conteo2"
   ]
  },
  {
   "cell_type": "code",
   "execution_count": 55,
   "metadata": {},
   "outputs": [
    {
     "data": {
      "text/html": [
       "<div>\n",
       "<style scoped>\n",
       "    .dataframe tbody tr th:only-of-type {\n",
       "        vertical-align: middle;\n",
       "    }\n",
       "\n",
       "    .dataframe tbody tr th {\n",
       "        vertical-align: top;\n",
       "    }\n",
       "\n",
       "    .dataframe thead th {\n",
       "        text-align: right;\n",
       "    }\n",
       "</style>\n",
       "<table border=\"1\" class=\"dataframe\">\n",
       "  <thead>\n",
       "    <tr style=\"text-align: right;\">\n",
       "      <th></th>\n",
       "      <th>trending_date</th>\n",
       "    </tr>\n",
       "  </thead>\n",
       "  <tbody>\n",
       "    <tr>\n",
       "      <th>39839</th>\n",
       "      <td>2018-02-26</td>\n",
       "    </tr>\n",
       "    <tr>\n",
       "      <th>39842</th>\n",
       "      <td>2018-02-27</td>\n",
       "    </tr>\n",
       "    <tr>\n",
       "      <th>40018</th>\n",
       "      <td>2017-11-14</td>\n",
       "    </tr>\n",
       "    <tr>\n",
       "      <th>40019</th>\n",
       "      <td>2017-11-15</td>\n",
       "    </tr>\n",
       "    <tr>\n",
       "      <th>40020</th>\n",
       "      <td>2017-11-16</td>\n",
       "    </tr>\n",
       "    <tr>\n",
       "      <th>...</th>\n",
       "      <td>...</td>\n",
       "    </tr>\n",
       "    <tr>\n",
       "      <th>40944</th>\n",
       "      <td>2018-06-02</td>\n",
       "    </tr>\n",
       "    <tr>\n",
       "      <th>40945</th>\n",
       "      <td>2018-06-03</td>\n",
       "    </tr>\n",
       "    <tr>\n",
       "      <th>40946</th>\n",
       "      <td>2018-06-04</td>\n",
       "    </tr>\n",
       "    <tr>\n",
       "      <th>40947</th>\n",
       "      <td>2018-06-05</td>\n",
       "    </tr>\n",
       "    <tr>\n",
       "      <th>40948</th>\n",
       "      <td>2018-06-06</td>\n",
       "    </tr>\n",
       "  </tbody>\n",
       "</table>\n",
       "<p>205 rows × 1 columns</p>\n",
       "</div>"
      ],
      "text/plain": [
       "      trending_date\n",
       "39839    2018-02-26\n",
       "39842    2018-02-27\n",
       "40018    2017-11-14\n",
       "40019    2017-11-15\n",
       "40020    2017-11-16\n",
       "...             ...\n",
       "40944    2018-06-02\n",
       "40945    2018-06-03\n",
       "40946    2018-06-04\n",
       "40947    2018-06-05\n",
       "40948    2018-06-06\n",
       "\n",
       "[205 rows x 1 columns]"
      ]
     },
     "execution_count": 55,
     "metadata": {},
     "output_type": "execute_result"
    }
   ],
   "source": [
    "groupUSVideosbyDate = newUSVideos\n",
    "groupUSVideosbyDate = groupUSVideosbyDate[['trending_date']].drop_duplicates(subset='trending_date', keep=\"last\")\n",
    "groupUSVideosbyDate"
   ]
  },
  {
   "cell_type": "code",
   "execution_count": 56,
   "metadata": {},
   "outputs": [
    {
     "data": {
      "text/html": [
       "<div>\n",
       "<style scoped>\n",
       "    .dataframe tbody tr th:only-of-type {\n",
       "        vertical-align: middle;\n",
       "    }\n",
       "\n",
       "    .dataframe tbody tr th {\n",
       "        vertical-align: top;\n",
       "    }\n",
       "\n",
       "    .dataframe thead th {\n",
       "        text-align: right;\n",
       "    }\n",
       "</style>\n",
       "<table border=\"1\" class=\"dataframe\">\n",
       "  <thead>\n",
       "    <tr style=\"text-align: right;\">\n",
       "      <th></th>\n",
       "      <th>trending_date</th>\n",
       "      <th>counts</th>\n",
       "    </tr>\n",
       "  </thead>\n",
       "  <tbody>\n",
       "    <tr>\n",
       "      <th>0</th>\n",
       "      <td>2018-02-26</td>\n",
       "      <td>199</td>\n",
       "    </tr>\n",
       "    <tr>\n",
       "      <th>1</th>\n",
       "      <td>2018-02-27</td>\n",
       "      <td>198</td>\n",
       "    </tr>\n",
       "    <tr>\n",
       "      <th>2</th>\n",
       "      <td>2017-11-14</td>\n",
       "      <td>200</td>\n",
       "    </tr>\n",
       "    <tr>\n",
       "      <th>3</th>\n",
       "      <td>2017-11-15</td>\n",
       "      <td>200</td>\n",
       "    </tr>\n",
       "    <tr>\n",
       "      <th>4</th>\n",
       "      <td>2017-11-16</td>\n",
       "      <td>200</td>\n",
       "    </tr>\n",
       "    <tr>\n",
       "      <th>...</th>\n",
       "      <td>...</td>\n",
       "      <td>...</td>\n",
       "    </tr>\n",
       "    <tr>\n",
       "      <th>200</th>\n",
       "      <td>2018-06-02</td>\n",
       "      <td>200</td>\n",
       "    </tr>\n",
       "    <tr>\n",
       "      <th>201</th>\n",
       "      <td>2018-06-03</td>\n",
       "      <td>200</td>\n",
       "    </tr>\n",
       "    <tr>\n",
       "      <th>202</th>\n",
       "      <td>2018-06-04</td>\n",
       "      <td>200</td>\n",
       "    </tr>\n",
       "    <tr>\n",
       "      <th>203</th>\n",
       "      <td>2018-06-05</td>\n",
       "      <td>200</td>\n",
       "    </tr>\n",
       "    <tr>\n",
       "      <th>204</th>\n",
       "      <td>2018-06-06</td>\n",
       "      <td>200</td>\n",
       "    </tr>\n",
       "  </tbody>\n",
       "</table>\n",
       "<p>205 rows × 2 columns</p>\n",
       "</div>"
      ],
      "text/plain": [
       "    trending_date  counts\n",
       "0      2018-02-26     199\n",
       "1      2018-02-27     198\n",
       "2      2017-11-14     200\n",
       "3      2017-11-15     200\n",
       "4      2017-11-16     200\n",
       "..            ...     ...\n",
       "200    2018-06-02     200\n",
       "201    2018-06-03     200\n",
       "202    2018-06-04     200\n",
       "203    2018-06-05     200\n",
       "204    2018-06-06     200\n",
       "\n",
       "[205 rows x 2 columns]"
      ]
     },
     "execution_count": 56,
     "metadata": {},
     "output_type": "execute_result"
    }
   ],
   "source": [
    "groupUSVideosbyDate = groupUSVideosbyDate.merge(conteo2, how='inner', on='trending_date')\n",
    "groupUSVideosbyDate"
   ]
  },
  {
   "cell_type": "code",
   "execution_count": 57,
   "metadata": {},
   "outputs": [
    {
     "data": {
      "image/png": "[encoded data removed]",
      "text/plain": [
       "<Figure size 1152x288 with 1 Axes>"
      ]
     },
     "metadata": {
      "needs_background": "light"
     },
     "output_type": "display_data"
    }
   ],
   "source": [
    "pregunta5 = pd.Series(data=groupUSVideosbyDate['counts'].values, index=groupUSVideosbyDate['trending_date'])\n",
    "\n",
    "pregunta5.plot(figsize=(16,4), color='r');"
   ]
  },
  {
   "cell_type": "markdown",
   "metadata": {},
   "source": [
    "¿Qué Canales de YouTube son tendencia más frecuentemente? ¿Y cuáles con menos frecuencia?"
   ]
  },
  {
   "cell_type": "code",
   "execution_count": 223,
   "metadata": {},
   "outputs": [
    {
     "name": "stdout",
     "output_type": "stream",
     "text": [
      "                            channel_title    0\n",
      "0                                    ESPN  203\n",
      "1  The Tonight Show Starring Jimmy Fallon  197\n",
      "2                                     Vox  193\n",
      "3                            TheEllenShow  193\n",
      "4                                 Netflix  193\n"
     ]
    },
    {
     "data": {
      "text/plain": [
       "<AxesSubplot:xlabel='0', ylabel='channel_title'>"
      ]
     },
     "execution_count": 223,
     "metadata": {},
     "output_type": "execute_result"
    },
    {
     "data": {
      "image/png": "[encoded data removed]",
      "text/plain": [
       "<Figure size 432x288 with 1 Axes>"
      ]
     },
     "metadata": {
      "needs_background": "light"
     },
     "output_type": "display_data"
    }
   ],
   "source": [
    "pregunta6 = newUSVideos[['channel_title']].value_counts().head().reset_index()\n",
    "print(pregunta6)\n",
    "sns.barplot(y='channel_title', x=0,data=pregunta6)"
   ]
  },
  {
   "cell_type": "code",
   "execution_count": 224,
   "metadata": {},
   "outputs": [
    {
     "name": "stdout",
     "output_type": "stream",
     "text": [
      "       channel_title  0\n",
      "0          chris lee  1\n",
      "1      David Seymour  1\n",
      "2       David Steuer  1\n",
      "3      Dean Anderson  1\n",
      "4  Science vs Cinema  1\n"
     ]
    },
    {
     "data": {
      "text/plain": [
       "<AxesSubplot:xlabel='0', ylabel='channel_title'>"
      ]
     },
     "execution_count": 224,
     "metadata": {},
     "output_type": "execute_result"
    },
    {
     "data": {
      "image/png": "[encoded data removed]",
      "text/plain": [
       "<Figure size 432x288 with 1 Axes>"
      ]
     },
     "metadata": {
      "needs_background": "light"
     },
     "output_type": "display_data"
    }
   ],
   "source": [
    "pregunta6 = newUSVideos[['channel_title']].value_counts().tail().reset_index()\n",
    "print(pregunta6)\n",
    "sns.barplot(y='channel_title', x=0,data=pregunta6)"
   ]
  },
  {
   "cell_type": "markdown",
   "metadata": {},
   "source": [
    "¿En qué Estados se presenta el mayor número de “Vistas”, “Me gusta” y “No me gusta”? "
   ]
  },
  {
   "cell_type": "code",
   "execution_count": 230,
   "metadata": {},
   "outputs": [
    {
     "name": "stderr",
     "output_type": "stream",
     "text": [
      "<ipython-input-230-1a1692d6e089>:1: FutureWarning:\n",
      "\n",
      "Indexing with multiple keys (implicitly converted to a tuple of keys) will be deprecated, use a list instead.\n",
      "\n"
     ]
    }
   ],
   "source": [
    "pregunta7 = groupUSVideos.groupby(['state', 'lat', 'lon', 'geometry'])['views','likes','dislikes'].sum().reset_index()"
   ]
  },
  {
   "cell_type": "code",
   "execution_count": 260,
   "metadata": {},
   "outputs": [
    {
     "data": {
      "application/vnd.plotly.v1+json": {
       "config": {
        "plotlyServerURL": "https://plot.ly"
       },
       "data": [
        {
         "lat": [
          32.31823,
          66.160507,
          34.048927,
          34.799999,
          36.778259000000006,
          39.113014,
          41.599998,
          39,
          27.994402,
          33.247875,
          19.741754999999998,
          44.068203000000004,
          40,
          40.273502,
          42.032973999999996,
          38.5,
          37.839333,
          30.39183,
          45.367584,
          39.045753000000005,
          42.407211,
          44.182204999999996,
          46.39241,
          33,
          38.573935999999996,
          46.96526,
          41.5,
          39.876019,
          44,
          39.833851,
          34.307144,
          43,
          35.782169,
          47.650589000000004,
          40.367474,
          36.084621000000006,
          44,
          41.203323,
          41.700001,
          33.836082,
          44.5,
          35.860119,
          31,
          39.41922,
          44,
          37.926868,
          47.751076,
          39,
          44.5,
          43.07597
         ],
         "locationmode": "USA-states",
         "lon": [
          -86.902298,
          -153.36914099999998,
          -111.09373500000001,
          -92.199997,
          -119.41793100000001,
          -105.35888700000001,
          -72.699997,
          -75.5,
          -81.760254,
          -83.441162,
          -155.844437,
          -114.742043,
          -89,
          -86.126976,
          -93.58154300000001,
          -98,
          -84.27002,
          -92.329102,
          -68.97216800000001,
          -76.641273,
          -71.382439,
          -84.50683599999999,
          -94.63623,
          -90,
          -92.60376,
          -109.53369099999999,
          -100,
          -117.224121,
          -71.5,
          -74.871826,
          -106.01806599999999,
          -75,
          -80.79345699999999,
          -100.437012,
          -82.996216,
          -96.921387,
          -120.5,
          -77.19452700000001,
          -71.5,
          -81.16372700000001,
          -100,
          -86.660156,
          -100,
          -111.95068400000001,
          -72.699997,
          -78.024902,
          -120.74013500000001,
          -80.5,
          -89.5,
          -107.290283
         ],
         "marker": {
          "autocolorscale": false,
          "cmax": 486050190,
          "cmin": 0,
          "color": [
           240996698,
           288964741,
           190487154,
           311223065,
           187306101,
           192470956,
           149353575,
           290392441,
           412582412,
           199891888,
           219313894,
           155815713,
           190882977,
           163668390,
           164945762,
           226062652,
           191910119,
           430219188,
           328271567,
           486050190,
           215240041,
           261491791,
           337695615,
           257953517,
           214797746,
           391669210,
           138666597,
           182642993,
           236079963,
           216883160,
           222622879,
           335037583,
           374309514,
           125213372,
           174401767,
           281991778,
           286107232,
           238361052,
           312292289,
           325498272,
           381240227,
           131904466,
           170955804,
           321553997,
           163603641,
           344982368,
           164191897,
           286060614,
           190106943,
           156444916
          ],
          "colorbar": {
           "title": {
            "text": "Cantidad de vistas"
           }
          },
          "colorscale": [
           [
            0,
            "rgb(247,251,255)"
           ],
           [
            0.125,
            "rgb(222,235,247)"
           ],
           [
            0.25,
            "rgb(198,219,239)"
           ],
           [
            0.375,
            "rgb(158,202,225)"
           ],
           [
            0.5,
            "rgb(107,174,214)"
           ],
           [
            0.625,
            "rgb(66,146,198)"
           ],
           [
            0.75,
            "rgb(33,113,181)"
           ],
           [
            0.875,
            "rgb(8,81,156)"
           ],
           [
            1,
            "rgb(8,48,107)"
           ]
          ],
          "line": {
           "color": "rgba(102, 102, 102)",
           "width": 1
          },
          "opacity": 0.8,
          "reversescale": true,
          "size": 8,
          "symbol": "square"
         },
         "mode": "markers",
         "text": [
          "Alabama Vistas: 240996698",
          "Alaska Vistas: 288964741",
          "Arizona Vistas: 190487154",
          "Arkansas Vistas: 311223065",
          "California Vistas: 187306101",
          "Colorado Vistas: 192470956",
          "Connecticut Vistas: 149353575",
          "Delaware Vistas: 290392441",
          "Florida Vistas: 412582412",
          "Georgia Vistas: 199891888",
          "Hawaii Vistas: 219313894",
          "Idaho Vistas: 155815713",
          "Illinois Vistas: 190882977",
          "Indiana Vistas: 163668390",
          "Iowa Vistas: 164945762",
          "Kansas Vistas: 226062652",
          "Kentucky Vistas: 191910119",
          "Louisiana Vistas: 430219188",
          "Maine Vistas: 328271567",
          "Maryland Vistas: 486050190",
          "Massachusetts Vistas: 215240041",
          "Michigan Vistas: 261491791",
          "Minnesota Vistas: 337695615",
          "Mississippi Vistas: 257953517",
          "Missouri Vistas: 214797746",
          "Montana Vistas: 391669210",
          "Nebraska Vistas: 138666597",
          "Nevada Vistas: 182642993",
          "New Hampshire Vistas: 236079963",
          "New Jersey Vistas: 216883160",
          "New Mexico Vistas: 222622879",
          "New York Vistas: 335037583",
          "North Carolina Vistas: 374309514",
          "North Dakota Vistas: 125213372",
          "Ohio Vistas: 174401767",
          "Oklahoma Vistas: 281991778",
          "Oregon Vistas: 286107232",
          "Pennsylvania Vistas: 238361052",
          "Rhode Island Vistas: 312292289",
          "South Carolina Vistas: 325498272",
          "South Dakota Vistas: 381240227",
          "Tennessee Vistas: 131904466",
          "Texas Vistas: 170955804",
          "Utah Vistas: 321553997",
          "Vermont Vistas: 163603641",
          "Virginia Vistas: 344982368",
          "Washington State Vistas: 164191897",
          "West Virginia Vistas: 286060614",
          "Wisconsin Vistas: 190106943",
          "Wyoming Vistas: 156444916"
         ],
         "type": "scattergeo"
        }
       ],
       "layout": {
        "geo": {
         "countrycolor": "rgb(217, 217, 217)",
         "countrywidth": 0.5,
         "landcolor": "rgb(250, 250, 250)",
         "projection": {
          "type": "albers usa"
         },
         "scope": "usa",
         "showland": true,
         "subunitcolor": "rgb(217, 217, 217)",
         "subunitwidth": 0.5
        },
        "template": {
         "data": {
          "bar": [
           {
            "error_x": {
             "color": "#2a3f5f"
            },
            "error_y": {
             "color": "#2a3f5f"
            },
            "marker": {
             "line": {
              "color": "#E5ECF6",
              "width": 0.5
             }
            },
            "type": "bar"
           }
          ],
          "barpolar": [
           {
            "marker": {
             "line": {
              "color": "#E5ECF6",
              "width": 0.5
             }
            },
            "type": "barpolar"
           }
          ],
          "carpet": [
           {
            "aaxis": {
             "endlinecolor": "#2a3f5f",
             "gridcolor": "white",
             "linecolor": "white",
             "minorgridcolor": "white",
             "startlinecolor": "#2a3f5f"
            },
            "baxis": {
             "endlinecolor": "#2a3f5f",
             "gridcolor": "white",
             "linecolor": "white",
             "minorgridcolor": "white",
             "startlinecolor": "#2a3f5f"
            },
            "type": "carpet"
           }
          ],
          "choropleth": [
           {
            "colorbar": {
             "outlinewidth": 0,
             "ticks": ""
            },
            "type": "choropleth"
           }
          ],
          "contour": [
           {
            "colorbar": {
             "outlinewidth": 0,
             "ticks": ""
            },
            "colorscale": [
             [
              0,
              "#0d0887"
             ],
             [
              0.1111111111111111,
              "#46039f"
             ],
             [
              0.2222222222222222,
              "#7201a8"
             ],
             [
              0.3333333333333333,
              "#9c179e"
             ],
             [
              0.4444444444444444,
              "#bd3786"
             ],
             [
              0.5555555555555556,
              "#d8576b"
             ],
             [
              0.6666666666666666,
              "#ed7953"
             ],
             [
              0.7777777777777778,
              "#fb9f3a"
             ],
             [
              0.8888888888888888,
              "#fdca26"
             ],
             [
              1,
              "#f0f921"
             ]
            ],
            "type": "contour"
           }
          ],
          "contourcarpet": [
           {
            "colorbar": {
             "outlinewidth": 0,
             "ticks": ""
            },
            "type": "contourcarpet"
           }
          ],
          "heatmap": [
           {
            "colorbar": {
             "outlinewidth": 0,
             "ticks": ""
            },
            "colorscale": [
             [
              0,
              "#0d0887"
             ],
             [
              0.1111111111111111,
              "#46039f"
             ],
             [
              0.2222222222222222,
              "#7201a8"
             ],
             [
              0.3333333333333333,
              "#9c179e"
             ],
             [
              0.4444444444444444,
              "#bd3786"
             ],
             [
              0.5555555555555556,
              "#d8576b"
             ],
             [
              0.6666666666666666,
              "#ed7953"
             ],
             [
              0.7777777777777778,
              "#fb9f3a"
             ],
             [
              0.8888888888888888,
              "#fdca26"
             ],
             [
              1,
              "#f0f921"
             ]
            ],
            "type": "heatmap"
           }
          ],
          "heatmapgl": [
           {
            "colorbar": {
             "outlinewidth": 0,
             "ticks": ""
            },
            "colorscale": [
             [
              0,
              "#0d0887"
             ],
             [
              0.1111111111111111,
              "#46039f"
             ],
             [
              0.2222222222222222,
              "#7201a8"
             ],
             [
              0.3333333333333333,
              "#9c179e"
             ],
             [
              0.4444444444444444,
              "#bd3786"
             ],
             [
              0.5555555555555556,
              "#d8576b"
             ],
             [
              0.6666666666666666,
              "#ed7953"
             ],
             [
              0.7777777777777778,
              "#fb9f3a"
             ],
             [
              0.8888888888888888,
              "#fdca26"
             ],
             [
              1,
              "#f0f921"
             ]
            ],
            "type": "heatmapgl"
           }
          ],
          "histogram": [
           {
            "marker": {
             "colorbar": {
              "outlinewidth": 0,
              "ticks": ""
             }
            },
            "type": "histogram"
           }
          ],
          "histogram2d": [
           {
            "colorbar": {
             "outlinewidth": 0,
             "ticks": ""
            },
            "colorscale": [
             [
              0,
              "#0d0887"
             ],
             [
              0.1111111111111111,
              "#46039f"
             ],
             [
              0.2222222222222222,
              "#7201a8"
             ],
             [
              0.3333333333333333,
              "#9c179e"
             ],
             [
              0.4444444444444444,
              "#bd3786"
             ],
             [
              0.5555555555555556,
              "#d8576b"
             ],
             [
              0.6666666666666666,
              "#ed7953"
             ],
             [
              0.7777777777777778,
              "#fb9f3a"
             ],
             [
              0.8888888888888888,
              "#fdca26"
             ],
             [
              1,
              "#f0f921"
             ]
            ],
            "type": "histogram2d"
           }
          ],
          "histogram2dcontour": [
           {
            "colorbar": {
             "outlinewidth": 0,
             "ticks": ""
            },
            "colorscale": [
             [
              0,
              "#0d0887"
             ],
             [
              0.1111111111111111,
              "#46039f"
             ],
             [
              0.2222222222222222,
              "#7201a8"
             ],
             [
              0.3333333333333333,
              "#9c179e"
             ],
             [
              0.4444444444444444,
              "#bd3786"
             ],
             [
              0.5555555555555556,
              "#d8576b"
             ],
             [
              0.6666666666666666,
              "#ed7953"
             ],
             [
              0.7777777777777778,
              "#fb9f3a"
             ],
             [
              0.8888888888888888,
              "#fdca26"
             ],
             [
              1,
              "#f0f921"
             ]
            ],
            "type": "histogram2dcontour"
           }
          ],
          "mesh3d": [
           {
            "colorbar": {
             "outlinewidth": 0,
             "ticks": ""
            },
            "type": "mesh3d"
           }
          ],
          "parcoords": [
           {
            "line": {
             "colorbar": {
              "outlinewidth": 0,
              "ticks": ""
             }
            },
            "type": "parcoords"
           }
          ],
          "pie": [
           {
            "automargin": true,
            "type": "pie"
           }
          ],
          "scatter": [
           {
            "marker": {
             "colorbar": {
              "outlinewidth": 0,
              "ticks": ""
             }
            },
            "type": "scatter"
           }
          ],
          "scatter3d": [
           {
            "line": {
             "colorbar": {
              "outlinewidth": 0,
              "ticks": ""
             }
            },
            "marker": {
             "colorbar": {
              "outlinewidth": 0,
              "ticks": ""
             }
            },
            "type": "scatter3d"
           }
          ],
          "scattercarpet": [
           {
            "marker": {
             "colorbar": {
              "outlinewidth": 0,
              "ticks": ""
             }
            },
            "type": "scattercarpet"
           }
          ],
          "scattergeo": [
           {
            "marker": {
             "colorbar": {
              "outlinewidth": 0,
              "ticks": ""
             }
            },
            "type": "scattergeo"
           }
          ],
          "scattergl": [
           {
            "marker": {
             "colorbar": {
              "outlinewidth": 0,
              "ticks": ""
             }
            },
            "type": "scattergl"
           }
          ],
          "scattermapbox": [
           {
            "marker": {
             "colorbar": {
              "outlinewidth": 0,
              "ticks": ""
             }
            },
            "type": "scattermapbox"
           }
          ],
          "scatterpolar": [
           {
            "marker": {
             "colorbar": {
              "outlinewidth": 0,
              "ticks": ""
             }
            },
            "type": "scatterpolar"
           }
          ],
          "scatterpolargl": [
           {
            "marker": {
             "colorbar": {
              "outlinewidth": 0,
              "ticks": ""
             }
            },
            "type": "scatterpolargl"
           }
          ],
          "scatterternary": [
           {
            "marker": {
             "colorbar": {
              "outlinewidth": 0,
              "ticks": ""
             }
            },
            "type": "scatterternary"
           }
          ],
          "surface": [
           {
            "colorbar": {
             "outlinewidth": 0,
             "ticks": ""
            },
            "colorscale": [
             [
              0,
              "#0d0887"
             ],
             [
              0.1111111111111111,
              "#46039f"
             ],
             [
              0.2222222222222222,
              "#7201a8"
             ],
             [
              0.3333333333333333,
              "#9c179e"
             ],
             [
              0.4444444444444444,
              "#bd3786"
             ],
             [
              0.5555555555555556,
              "#d8576b"
             ],
             [
              0.6666666666666666,
              "#ed7953"
             ],
             [
              0.7777777777777778,
              "#fb9f3a"
             ],
             [
              0.8888888888888888,
              "#fdca26"
             ],
             [
              1,
              "#f0f921"
             ]
            ],
            "type": "surface"
           }
          ],
          "table": [
           {
            "cells": {
             "fill": {
              "color": "#EBF0F8"
             },
             "line": {
              "color": "white"
             }
            },
            "header": {
             "fill": {
              "color": "#C8D4E3"
             },
             "line": {
              "color": "white"
             }
            },
            "type": "table"
           }
          ]
         },
         "layout": {
          "annotationdefaults": {
           "arrowcolor": "#2a3f5f",
           "arrowhead": 0,
           "arrowwidth": 1
          },
          "autotypenumbers": "strict",
          "coloraxis": {
           "colorbar": {
            "outlinewidth": 0,
            "ticks": ""
           }
          },
          "colorscale": {
           "diverging": [
            [
             0,
             "#8e0152"
            ],
            [
             0.1,
             "#c51b7d"
            ],
            [
             0.2,
             "#de77ae"
            ],
            [
             0.3,
             "#f1b6da"
            ],
            [
             0.4,
             "#fde0ef"
            ],
            [
             0.5,
             "#f7f7f7"
            ],
            [
             0.6,
             "#e6f5d0"
            ],
            [
             0.7,
             "#b8e186"
            ],
            [
             0.8,
             "#7fbc41"
            ],
            [
             0.9,
             "#4d9221"
            ],
            [
             1,
             "#276419"
            ]
           ],
           "sequential": [
            [
             0,
             "#0d0887"
            ],
            [
             0.1111111111111111,
             "#46039f"
            ],
            [
             0.2222222222222222,
             "#7201a8"
            ],
            [
             0.3333333333333333,
             "#9c179e"
            ],
            [
             0.4444444444444444,
             "#bd3786"
            ],
            [
             0.5555555555555556,
             "#d8576b"
            ],
            [
             0.6666666666666666,
             "#ed7953"
            ],
            [
             0.7777777777777778,
             "#fb9f3a"
            ],
            [
             0.8888888888888888,
             "#fdca26"
            ],
            [
             1,
             "#f0f921"
            ]
           ],
           "sequentialminus": [
            [
             0,
             "#0d0887"
            ],
            [
             0.1111111111111111,
             "#46039f"
            ],
            [
             0.2222222222222222,
             "#7201a8"
            ],
            [
             0.3333333333333333,
             "#9c179e"
            ],
            [
             0.4444444444444444,
             "#bd3786"
            ],
            [
             0.5555555555555556,
             "#d8576b"
            ],
            [
             0.6666666666666666,
             "#ed7953"
            ],
            [
             0.7777777777777778,
             "#fb9f3a"
            ],
            [
             0.8888888888888888,
             "#fdca26"
            ],
            [
             1,
             "#f0f921"
            ]
           ]
          },
          "colorway": [
           "#636efa",
           "#EF553B",
           "#00cc96",
           "#ab63fa",
           "#FFA15A",
           "#19d3f3",
           "#FF6692",
           "#B6E880",
           "#FF97FF",
           "#FECB52"
          ],
          "font": {
           "color": "#2a3f5f"
          },
          "geo": {
           "bgcolor": "white",
           "lakecolor": "white",
           "landcolor": "#E5ECF6",
           "showlakes": true,
           "showland": true,
           "subunitcolor": "white"
          },
          "hoverlabel": {
           "align": "left"
          },
          "hovermode": "closest",
          "mapbox": {
           "style": "light"
          },
          "paper_bgcolor": "white",
          "plot_bgcolor": "#E5ECF6",
          "polar": {
           "angularaxis": {
            "gridcolor": "white",
            "linecolor": "white",
            "ticks": ""
           },
           "bgcolor": "#E5ECF6",
           "radialaxis": {
            "gridcolor": "white",
            "linecolor": "white",
            "ticks": ""
           }
          },
          "scene": {
           "xaxis": {
            "backgroundcolor": "#E5ECF6",
            "gridcolor": "white",
            "gridwidth": 2,
            "linecolor": "white",
            "showbackground": true,
            "ticks": "",
            "zerolinecolor": "white"
           },
           "yaxis": {
            "backgroundcolor": "#E5ECF6",
            "gridcolor": "white",
            "gridwidth": 2,
            "linecolor": "white",
            "showbackground": true,
            "ticks": "",
            "zerolinecolor": "white"
           },
           "zaxis": {
            "backgroundcolor": "#E5ECF6",
            "gridcolor": "white",
            "gridwidth": 2,
            "linecolor": "white",
            "showbackground": true,
            "ticks": "",
            "zerolinecolor": "white"
           }
          },
          "shapedefaults": {
           "line": {
            "color": "#2a3f5f"
           }
          },
          "ternary": {
           "aaxis": {
            "gridcolor": "white",
            "linecolor": "white",
            "ticks": ""
           },
           "baxis": {
            "gridcolor": "white",
            "linecolor": "white",
            "ticks": ""
           },
           "bgcolor": "#E5ECF6",
           "caxis": {
            "gridcolor": "white",
            "linecolor": "white",
            "ticks": ""
           }
          },
          "title": {
           "x": 0.05
          },
          "xaxis": {
           "automargin": true,
           "gridcolor": "white",
           "linecolor": "white",
           "ticks": "",
           "title": {
            "standoff": 15
           },
           "zerolinecolor": "white",
           "zerolinewidth": 2
          },
          "yaxis": {
           "automargin": true,
           "gridcolor": "white",
           "linecolor": "white",
           "ticks": "",
           "title": {
            "standoff": 15
           },
           "zerolinecolor": "white",
           "zerolinewidth": 2
          }
         }
        },
        "title": {
         "text": "Vistas de videos de Youtube"
        }
       }
      },
      "text/html": [
       "<div>                            <div id=\"079e3116-385f-4f10-9086-9e1ef2f73292\" class=\"plotly-graph-div\" style=\"height:525px; width:100%;\"></div>            <script type=\"text/javascript\">                require([\"plotly\"], function(Plotly) {                    window.PLOTLYENV=window.PLOTLYENV || {};                                    if (document.getElementById(\"079e3116-385f-4f10-9086-9e1ef2f73292\")) {                    Plotly.newPlot(                        \"079e3116-385f-4f10-9086-9e1ef2f73292\",                        [{\"lat\": [32.31823, 66.160507, 34.048927, 34.799999, 36.778259000000006, 39.113014, 41.599998, 39.0, 27.994402, 33.247875, 19.741754999999998, 44.068203000000004, 40.0, 40.273502, 42.032973999999996, 38.5, 37.839333, 30.39183, 45.367584, 39.045753000000005, 42.407211, 44.182204999999996, 46.39241, 33.0, 38.573935999999996, 46.96526, 41.5, 39.876019, 44.0, 39.833851, 34.307144, 43.0, 35.782169, 47.650589000000004, 40.367474, 36.084621000000006, 44.0, 41.203323, 41.700001, 33.836082, 44.5, 35.860119, 31.0, 39.41922, 44.0, 37.926868, 47.751076, 39.0, 44.5, 43.07597], \"locationmode\": \"USA-states\", \"lon\": [-86.902298, -153.36914099999998, -111.09373500000001, -92.199997, -119.41793100000001, -105.35888700000001, -72.699997, -75.5, -81.760254, -83.441162, -155.844437, -114.742043, -89.0, -86.126976, -93.58154300000001, -98.0, -84.27002, -92.329102, -68.97216800000001, -76.641273, -71.382439, -84.50683599999999, -94.63623, -90.0, -92.60376, -109.53369099999999, -100.0, -117.224121, -71.5, -74.871826, -106.01806599999999, -75.0, -80.79345699999999, -100.437012, -82.996216, -96.921387, -120.5, -77.19452700000001, -71.5, -81.16372700000001, -100.0, -86.660156, -100.0, -111.95068400000001, -72.699997, -78.024902, -120.74013500000001, -80.5, -89.5, -107.290283], \"marker\": {\"autocolorscale\": false, \"cmax\": 486050190, \"cmin\": 0, \"color\": [240996698, 288964741, 190487154, 311223065, 187306101, 192470956, 149353575, 290392441, 412582412, 199891888, 219313894, 155815713, 190882977, 163668390, 164945762, 226062652, 191910119, 430219188, 328271567, 486050190, 215240041, 261491791, 337695615, 257953517, 214797746, 391669210, 138666597, 182642993, 236079963, 216883160, 222622879, 335037583, 374309514, 125213372, 174401767, 281991778, 286107232, 238361052, 312292289, 325498272, 381240227, 131904466, 170955804, 321553997, 163603641, 344982368, 164191897, 286060614, 190106943, 156444916], \"colorbar\": {\"title\": {\"text\": \"Cantidad de vistas\"}}, \"colorscale\": [[0.0, \"rgb(247,251,255)\"], [0.125, \"rgb(222,235,247)\"], [0.25, \"rgb(198,219,239)\"], [0.375, \"rgb(158,202,225)\"], [0.5, \"rgb(107,174,214)\"], [0.625, \"rgb(66,146,198)\"], [0.75, \"rgb(33,113,181)\"], [0.875, \"rgb(8,81,156)\"], [1.0, \"rgb(8,48,107)\"]], \"line\": {\"color\": \"rgba(102, 102, 102)\", \"width\": 1}, \"opacity\": 0.8, \"reversescale\": true, \"size\": 8, \"symbol\": \"square\"}, \"mode\": \"markers\", \"text\": [\"Alabama Vistas: 240996698\", \"Alaska Vistas: 288964741\", \"Arizona Vistas: 190487154\", \"Arkansas Vistas: 311223065\", \"California Vistas: 187306101\", \"Colorado Vistas: 192470956\", \"Connecticut Vistas: 149353575\", \"Delaware Vistas: 290392441\", \"Florida Vistas: 412582412\", \"Georgia Vistas: 199891888\", \"Hawaii Vistas: 219313894\", \"Idaho Vistas: 155815713\", \"Illinois Vistas: 190882977\", \"Indiana Vistas: 163668390\", \"Iowa Vistas: 164945762\", \"Kansas Vistas: 226062652\", \"Kentucky Vistas: 191910119\", \"Louisiana Vistas: 430219188\", \"Maine Vistas: 328271567\", \"Maryland Vistas: 486050190\", \"Massachusetts Vistas: 215240041\", \"Michigan Vistas: 261491791\", \"Minnesota Vistas: 337695615\", \"Mississippi Vistas: 257953517\", \"Missouri Vistas: 214797746\", \"Montana Vistas: 391669210\", \"Nebraska Vistas: 138666597\", \"Nevada Vistas: 182642993\", \"New Hampshire Vistas: 236079963\", \"New Jersey Vistas: 216883160\", \"New Mexico Vistas: 222622879\", \"New York Vistas: 335037583\", \"North Carolina Vistas: 374309514\", \"North Dakota Vistas: 125213372\", \"Ohio Vistas: 174401767\", \"Oklahoma Vistas: 281991778\", \"Oregon Vistas: 286107232\", \"Pennsylvania Vistas: 238361052\", \"Rhode Island Vistas: 312292289\", \"South Carolina Vistas: 325498272\", \"South Dakota Vistas: 381240227\", \"Tennessee Vistas: 131904466\", \"Texas Vistas: 170955804\", \"Utah Vistas: 321553997\", \"Vermont Vistas: 163603641\", \"Virginia Vistas: 344982368\", \"Washington State Vistas: 164191897\", \"West Virginia Vistas: 286060614\", \"Wisconsin Vistas: 190106943\", \"Wyoming Vistas: 156444916\"], \"type\": \"scattergeo\"}],                        {\"geo\": {\"countrycolor\": \"rgb(217, 217, 217)\", \"countrywidth\": 0.5, \"landcolor\": \"rgb(250, 250, 250)\", \"projection\": {\"type\": \"albers usa\"}, \"scope\": \"usa\", \"showland\": true, \"subunitcolor\": \"rgb(217, 217, 217)\", \"subunitwidth\": 0.5}, \"template\": {\"data\": {\"bar\": [{\"error_x\": {\"color\": \"#2a3f5f\"}, \"error_y\": {\"color\": \"#2a3f5f\"}, \"marker\": {\"line\": {\"color\": \"#E5ECF6\", \"width\": 0.5}}, \"type\": \"bar\"}], \"barpolar\": [{\"marker\": {\"line\": {\"color\": \"#E5ECF6\", \"width\": 0.5}}, \"type\": \"barpolar\"}], \"carpet\": [{\"aaxis\": {\"endlinecolor\": \"#2a3f5f\", \"gridcolor\": \"white\", \"linecolor\": \"white\", \"minorgridcolor\": \"white\", \"startlinecolor\": \"#2a3f5f\"}, \"baxis\": {\"endlinecolor\": \"#2a3f5f\", \"gridcolor\": \"white\", \"linecolor\": \"white\", \"minorgridcolor\": \"white\", \"startlinecolor\": \"#2a3f5f\"}, \"type\": \"carpet\"}], \"choropleth\": [{\"colorbar\": {\"outlinewidth\": 0, \"ticks\": \"\"}, \"type\": \"choropleth\"}], \"contour\": [{\"colorbar\": {\"outlinewidth\": 0, \"ticks\": \"\"}, \"colorscale\": [[0.0, \"#0d0887\"], [0.1111111111111111, \"#46039f\"], [0.2222222222222222, \"#7201a8\"], [0.3333333333333333, \"#9c179e\"], [0.4444444444444444, \"#bd3786\"], [0.5555555555555556, \"#d8576b\"], [0.6666666666666666, \"#ed7953\"], [0.7777777777777778, \"#fb9f3a\"], [0.8888888888888888, \"#fdca26\"], [1.0, \"#f0f921\"]], \"type\": \"contour\"}], \"contourcarpet\": [{\"colorbar\": {\"outlinewidth\": 0, \"ticks\": \"\"}, \"type\": \"contourcarpet\"}], \"heatmap\": [{\"colorbar\": {\"outlinewidth\": 0, \"ticks\": \"\"}, \"colorscale\": [[0.0, \"#0d0887\"], [0.1111111111111111, \"#46039f\"], [0.2222222222222222, \"#7201a8\"], [0.3333333333333333, \"#9c179e\"], [0.4444444444444444, \"#bd3786\"], [0.5555555555555556, \"#d8576b\"], [0.6666666666666666, \"#ed7953\"], [0.7777777777777778, \"#fb9f3a\"], [0.8888888888888888, \"#fdca26\"], [1.0, \"#f0f921\"]], \"type\": \"heatmap\"}], \"heatmapgl\": [{\"colorbar\": {\"outlinewidth\": 0, \"ticks\": \"\"}, \"colorscale\": [[0.0, \"#0d0887\"], [0.1111111111111111, \"#46039f\"], [0.2222222222222222, \"#7201a8\"], [0.3333333333333333, \"#9c179e\"], [0.4444444444444444, \"#bd3786\"], [0.5555555555555556, \"#d8576b\"], [0.6666666666666666, \"#ed7953\"], [0.7777777777777778, \"#fb9f3a\"], [0.8888888888888888, \"#fdca26\"], [1.0, \"#f0f921\"]], \"type\": \"heatmapgl\"}], \"histogram\": [{\"marker\": {\"colorbar\": {\"outlinewidth\": 0, \"ticks\": \"\"}}, \"type\": \"histogram\"}], \"histogram2d\": [{\"colorbar\": {\"outlinewidth\": 0, \"ticks\": \"\"}, \"colorscale\": [[0.0, \"#0d0887\"], [0.1111111111111111, \"#46039f\"], [0.2222222222222222, \"#7201a8\"], [0.3333333333333333, \"#9c179e\"], [0.4444444444444444, \"#bd3786\"], [0.5555555555555556, \"#d8576b\"], [0.6666666666666666, \"#ed7953\"], [0.7777777777777778, \"#fb9f3a\"], [0.8888888888888888, \"#fdca26\"], [1.0, \"#f0f921\"]], \"type\": \"histogram2d\"}], \"histogram2dcontour\": [{\"colorbar\": {\"outlinewidth\": 0, \"ticks\": \"\"}, \"colorscale\": [[0.0, \"#0d0887\"], [0.1111111111111111, \"#46039f\"], [0.2222222222222222, \"#7201a8\"], [0.3333333333333333, \"#9c179e\"], [0.4444444444444444, \"#bd3786\"], [0.5555555555555556, \"#d8576b\"], [0.6666666666666666, \"#ed7953\"], [0.7777777777777778, \"#fb9f3a\"], [0.8888888888888888, \"#fdca26\"], [1.0, \"#f0f921\"]], \"type\": \"histogram2dcontour\"}], \"mesh3d\": [{\"colorbar\": {\"outlinewidth\": 0, \"ticks\": \"\"}, \"type\": \"mesh3d\"}], \"parcoords\": [{\"line\": {\"colorbar\": {\"outlinewidth\": 0, \"ticks\": \"\"}}, \"type\": \"parcoords\"}], \"pie\": [{\"automargin\": true, \"type\": \"pie\"}], \"scatter\": [{\"marker\": {\"colorbar\": {\"outlinewidth\": 0, \"ticks\": \"\"}}, \"type\": \"scatter\"}], \"scatter3d\": [{\"line\": {\"colorbar\": {\"outlinewidth\": 0, \"ticks\": \"\"}}, \"marker\": {\"colorbar\": {\"outlinewidth\": 0, \"ticks\": \"\"}}, \"type\": \"scatter3d\"}], \"scattercarpet\": [{\"marker\": {\"colorbar\": {\"outlinewidth\": 0, \"ticks\": \"\"}}, \"type\": \"scattercarpet\"}], \"scattergeo\": [{\"marker\": {\"colorbar\": {\"outlinewidth\": 0, \"ticks\": \"\"}}, \"type\": \"scattergeo\"}], \"scattergl\": [{\"marker\": {\"colorbar\": {\"outlinewidth\": 0, \"ticks\": \"\"}}, \"type\": \"scattergl\"}], \"scattermapbox\": [{\"marker\": {\"colorbar\": {\"outlinewidth\": 0, \"ticks\": \"\"}}, \"type\": \"scattermapbox\"}], \"scatterpolar\": [{\"marker\": {\"colorbar\": {\"outlinewidth\": 0, \"ticks\": \"\"}}, \"type\": \"scatterpolar\"}], \"scatterpolargl\": [{\"marker\": {\"colorbar\": {\"outlinewidth\": 0, \"ticks\": \"\"}}, \"type\": \"scatterpolargl\"}], \"scatterternary\": [{\"marker\": {\"colorbar\": {\"outlinewidth\": 0, \"ticks\": \"\"}}, \"type\": \"scatterternary\"}], \"surface\": [{\"colorbar\": {\"outlinewidth\": 0, \"ticks\": \"\"}, \"colorscale\": [[0.0, \"#0d0887\"], [0.1111111111111111, \"#46039f\"], [0.2222222222222222, \"#7201a8\"], [0.3333333333333333, \"#9c179e\"], [0.4444444444444444, \"#bd3786\"], [0.5555555555555556, \"#d8576b\"], [0.6666666666666666, \"#ed7953\"], [0.7777777777777778, \"#fb9f3a\"], [0.8888888888888888, \"#fdca26\"], [1.0, \"#f0f921\"]], \"type\": \"surface\"}], \"table\": [{\"cells\": {\"fill\": {\"color\": \"#EBF0F8\"}, \"line\": {\"color\": \"white\"}}, \"header\": {\"fill\": {\"color\": \"#C8D4E3\"}, \"line\": {\"color\": \"white\"}}, \"type\": \"table\"}]}, \"layout\": {\"annotationdefaults\": {\"arrowcolor\": \"#2a3f5f\", \"arrowhead\": 0, \"arrowwidth\": 1}, \"autotypenumbers\": \"strict\", \"coloraxis\": {\"colorbar\": {\"outlinewidth\": 0, \"ticks\": \"\"}}, \"colorscale\": {\"diverging\": [[0, \"#8e0152\"], [0.1, \"#c51b7d\"], [0.2, \"#de77ae\"], [0.3, \"#f1b6da\"], [0.4, \"#fde0ef\"], [0.5, \"#f7f7f7\"], [0.6, \"#e6f5d0\"], [0.7, \"#b8e186\"], [0.8, \"#7fbc41\"], [0.9, \"#4d9221\"], [1, \"#276419\"]], \"sequential\": [[0.0, \"#0d0887\"], [0.1111111111111111, \"#46039f\"], [0.2222222222222222, \"#7201a8\"], [0.3333333333333333, \"#9c179e\"], [0.4444444444444444, \"#bd3786\"], [0.5555555555555556, \"#d8576b\"], [0.6666666666666666, \"#ed7953\"], [0.7777777777777778, \"#fb9f3a\"], [0.8888888888888888, \"#fdca26\"], [1.0, \"#f0f921\"]], \"sequentialminus\": [[0.0, \"#0d0887\"], [0.1111111111111111, \"#46039f\"], [0.2222222222222222, \"#7201a8\"], [0.3333333333333333, \"#9c179e\"], [0.4444444444444444, \"#bd3786\"], [0.5555555555555556, \"#d8576b\"], [0.6666666666666666, \"#ed7953\"], [0.7777777777777778, \"#fb9f3a\"], [0.8888888888888888, \"#fdca26\"], [1.0, \"#f0f921\"]]}, \"colorway\": [\"#636efa\", \"#EF553B\", \"#00cc96\", \"#ab63fa\", \"#FFA15A\", \"#19d3f3\", \"#FF6692\", \"#B6E880\", \"#FF97FF\", \"#FECB52\"], \"font\": {\"color\": \"#2a3f5f\"}, \"geo\": {\"bgcolor\": \"white\", \"lakecolor\": \"white\", \"landcolor\": \"#E5ECF6\", \"showlakes\": true, \"showland\": true, \"subunitcolor\": \"white\"}, \"hoverlabel\": {\"align\": \"left\"}, \"hovermode\": \"closest\", \"mapbox\": {\"style\": \"light\"}, \"paper_bgcolor\": \"white\", \"plot_bgcolor\": \"#E5ECF6\", \"polar\": {\"angularaxis\": {\"gridcolor\": \"white\", \"linecolor\": \"white\", \"ticks\": \"\"}, \"bgcolor\": \"#E5ECF6\", \"radialaxis\": {\"gridcolor\": \"white\", \"linecolor\": \"white\", \"ticks\": \"\"}}, \"scene\": {\"xaxis\": {\"backgroundcolor\": \"#E5ECF6\", \"gridcolor\": \"white\", \"gridwidth\": 2, \"linecolor\": \"white\", \"showbackground\": true, \"ticks\": \"\", \"zerolinecolor\": \"white\"}, \"yaxis\": {\"backgroundcolor\": \"#E5ECF6\", \"gridcolor\": \"white\", \"gridwidth\": 2, \"linecolor\": \"white\", \"showbackground\": true, \"ticks\": \"\", \"zerolinecolor\": \"white\"}, \"zaxis\": {\"backgroundcolor\": \"#E5ECF6\", \"gridcolor\": \"white\", \"gridwidth\": 2, \"linecolor\": \"white\", \"showbackground\": true, \"ticks\": \"\", \"zerolinecolor\": \"white\"}}, \"shapedefaults\": {\"line\": {\"color\": \"#2a3f5f\"}}, \"ternary\": {\"aaxis\": {\"gridcolor\": \"white\", \"linecolor\": \"white\", \"ticks\": \"\"}, \"baxis\": {\"gridcolor\": \"white\", \"linecolor\": \"white\", \"ticks\": \"\"}, \"bgcolor\": \"#E5ECF6\", \"caxis\": {\"gridcolor\": \"white\", \"linecolor\": \"white\", \"ticks\": \"\"}}, \"title\": {\"x\": 0.05}, \"xaxis\": {\"automargin\": true, \"gridcolor\": \"white\", \"linecolor\": \"white\", \"ticks\": \"\", \"title\": {\"standoff\": 15}, \"zerolinecolor\": \"white\", \"zerolinewidth\": 2}, \"yaxis\": {\"automargin\": true, \"gridcolor\": \"white\", \"linecolor\": \"white\", \"ticks\": \"\", \"title\": {\"standoff\": 15}, \"zerolinecolor\": \"white\", \"zerolinewidth\": 2}}}, \"title\": {\"text\": \"Vistas de videos de Youtube\"}},                        {\"responsive\": true}                    ).then(function(){\n",
       "                            \n",
       "var gd = document.getElementById('079e3116-385f-4f10-9086-9e1ef2f73292');\n",
       "var x = new MutationObserver(function (mutations, observer) {{\n",
       "        var display = window.getComputedStyle(gd).display;\n",
       "        if (!display || display === 'none') {{\n",
       "            console.log([gd, 'removed!']);\n",
       "            Plotly.purge(gd);\n",
       "            observer.disconnect();\n",
       "        }}\n",
       "}});\n",
       "\n",
       "// Listen for the removal of the full notebook cells\n",
       "var notebookContainer = gd.closest('#notebook-container');\n",
       "if (notebookContainer) {{\n",
       "    x.observe(notebookContainer, {childList: true});\n",
       "}}\n",
       "\n",
       "// Listen for the clearing of the current output cell\n",
       "var outputEl = gd.closest('.output');\n",
       "if (outputEl) {{\n",
       "    x.observe(outputEl, {childList: true});\n",
       "}}\n",
       "\n",
       "                        })                };                });            </script>        </div>"
      ]
     },
     "metadata": {},
     "output_type": "display_data"
    }
   ],
   "source": [
    "fig = go.Figure(data=go.Scattergeo(\n",
    "        locationmode = 'USA-states',\n",
    "        lat = pregunta7['lat'],\n",
    "        lon = pregunta7['lon'],\n",
    "        text = pregunta7['state'] + ' Vistas: ' + pregunta7['views'].astype(str),\n",
    "        mode = 'markers',\n",
    "        marker = dict(\n",
    "            size = 8,\n",
    "            opacity = 0.8,\n",
    "            reversescale = True,\n",
    "            autocolorscale = False,\n",
    "            symbol = 'square',\n",
    "            line = dict(\n",
    "                width=1,\n",
    "                color='rgba(102, 102, 102)'\n",
    "            ),\n",
    "            colorscale = 'Blues',\n",
    "            cmin = 0,\n",
    "            color = pregunta7['views'],\n",
    "            cmax = pregunta7['views'].max(),\n",
    "            colorbar_title=\"Cantidad de vistas\"\n",
    "        )))\n",
    "\n",
    "fig.update_layout(\n",
    "        title = 'Vistas de videos de Youtube',\n",
    "        geo = dict(\n",
    "            scope='usa',\n",
    "            projection_type='albers usa',\n",
    "            showland = True,\n",
    "            landcolor = \"rgb(250, 250, 250)\",\n",
    "            subunitcolor = \"rgb(217, 217, 217)\",\n",
    "            countrycolor = \"rgb(217, 217, 217)\",\n",
    "            countrywidth = 0.5,\n",
    "            subunitwidth = 0.5\n",
    "        ),\n",
    "    )\n",
    "fig.show()"
   ]
  },
  {
   "cell_type": "code",
   "execution_count": 261,
   "metadata": {},
   "outputs": [
    {
     "data": {
      "application/vnd.plotly.v1+json": {
       "config": {
        "plotlyServerURL": "https://plot.ly"
       },
       "data": [
        {
         "lat": [
          32.31823,
          66.160507,
          34.048927,
          34.799999,
          36.778259000000006,
          39.113014,
          41.599998,
          39,
          27.994402,
          33.247875,
          19.741754999999998,
          44.068203000000004,
          40,
          40.273502,
          42.032973999999996,
          38.5,
          37.839333,
          30.39183,
          45.367584,
          39.045753000000005,
          42.407211,
          44.182204999999996,
          46.39241,
          33,
          38.573935999999996,
          46.96526,
          41.5,
          39.876019,
          44,
          39.833851,
          34.307144,
          43,
          35.782169,
          47.650589000000004,
          40.367474,
          36.084621000000006,
          44,
          41.203323,
          41.700001,
          33.836082,
          44.5,
          35.860119,
          31,
          39.41922,
          44,
          37.926868,
          47.751076,
          39,
          44.5,
          43.07597
         ],
         "locationmode": "USA-states",
         "lon": [
          -86.902298,
          -153.36914099999998,
          -111.09373500000001,
          -92.199997,
          -119.41793100000001,
          -105.35888700000001,
          -72.699997,
          -75.5,
          -81.760254,
          -83.441162,
          -155.844437,
          -114.742043,
          -89,
          -86.126976,
          -93.58154300000001,
          -98,
          -84.27002,
          -92.329102,
          -68.97216800000001,
          -76.641273,
          -71.382439,
          -84.50683599999999,
          -94.63623,
          -90,
          -92.60376,
          -109.53369099999999,
          -100,
          -117.224121,
          -71.5,
          -74.871826,
          -106.01806599999999,
          -75,
          -80.79345699999999,
          -100.437012,
          -82.996216,
          -96.921387,
          -120.5,
          -77.19452700000001,
          -71.5,
          -81.16372700000001,
          -100,
          -86.660156,
          -100,
          -111.95068400000001,
          -72.699997,
          -78.024902,
          -120.74013500000001,
          -80.5,
          -89.5,
          -107.290283
         ],
         "marker": {
          "autocolorscale": false,
          "cmax": 486050190,
          "cmin": 0,
          "color": [
           240996698,
           288964741,
           190487154,
           311223065,
           187306101,
           192470956,
           149353575,
           290392441,
           412582412,
           199891888,
           219313894,
           155815713,
           190882977,
           163668390,
           164945762,
           226062652,
           191910119,
           430219188,
           328271567,
           486050190,
           215240041,
           261491791,
           337695615,
           257953517,
           214797746,
           391669210,
           138666597,
           182642993,
           236079963,
           216883160,
           222622879,
           335037583,
           374309514,
           125213372,
           174401767,
           281991778,
           286107232,
           238361052,
           312292289,
           325498272,
           381240227,
           131904466,
           170955804,
           321553997,
           163603641,
           344982368,
           164191897,
           286060614,
           190106943,
           156444916
          ],
          "colorbar": {
           "title": {
            "text": "Cantidad de likes"
           }
          },
          "colorscale": [
           [
            0,
            "rgb(255,245,240)"
           ],
           [
            0.125,
            "rgb(254,224,210)"
           ],
           [
            0.25,
            "rgb(252,187,161)"
           ],
           [
            0.375,
            "rgb(252,146,114)"
           ],
           [
            0.5,
            "rgb(251,106,74)"
           ],
           [
            0.625,
            "rgb(239,59,44)"
           ],
           [
            0.75,
            "rgb(203,24,29)"
           ],
           [
            0.875,
            "rgb(165,15,21)"
           ],
           [
            1,
            "rgb(103,0,13)"
           ]
          ],
          "line": {
           "color": "rgba(102, 102, 102)",
           "width": 1
          },
          "opacity": 0.8,
          "reversescale": true,
          "size": 8,
          "symbol": "square"
         },
         "mode": "markers",
         "text": [
          "Alabama Likes: 8140357",
          "Alaska Likes: 11013520",
          "Arizona Likes: 5370267",
          "Arkansas Likes: 6906096",
          "California Likes: 5188660",
          "Colorado Likes: 5576594",
          "Connecticut Likes: 6101494",
          "Delaware Likes: 7564159",
          "Florida Likes: 13506492",
          "Georgia Likes: 5122264",
          "Hawaii Likes: 6529690",
          "Idaho Likes: 4014068",
          "Illinois Likes: 4875381",
          "Indiana Likes: 3384821",
          "Iowa Likes: 3865309",
          "Kansas Likes: 6304458",
          "Kentucky Likes: 7134640",
          "Louisiana Likes: 11015769",
          "Maine Likes: 8688700",
          "Maryland Likes: 12333056",
          "Massachusetts Likes: 5215174",
          "Michigan Likes: 7903242",
          "Minnesota Likes: 9268875",
          "Mississippi Likes: 7445065",
          "Missouri Likes: 6096343",
          "Montana Likes: 8247623",
          "Nebraska Likes: 3979882",
          "Nevada Likes: 5162440",
          "New Hampshire Likes: 8289253",
          "New Jersey Likes: 6145811",
          "New Mexico Likes: 5621827",
          "New York Likes: 8245959",
          "North Carolina Likes: 10274082",
          "North Dakota Likes: 3587708",
          "Ohio Likes: 6672219",
          "Oklahoma Likes: 7651635",
          "Oregon Likes: 6528933",
          "Pennsylvania Likes: 5951662",
          "Rhode Island Likes: 9854108",
          "South Carolina Likes: 10732749",
          "South Dakota Likes: 8592844",
          "Tennessee Likes: 3373290",
          "Texas Likes: 5298234",
          "Utah Likes: 11253675",
          "Vermont Likes: 4652196",
          "Virginia Likes: 10935251",
          "Washington State Likes: 6077254",
          "West Virginia Likes: 8483666",
          "Wisconsin Likes: 4725030",
          "Wyoming Likes: 4043790"
         ],
         "type": "scattergeo"
        }
       ],
       "layout": {
        "geo": {
         "countrycolor": "rgb(217, 217, 217)",
         "countrywidth": 0.5,
         "landcolor": "rgb(250, 250, 250)",
         "projection": {
          "type": "albers usa"
         },
         "scope": "usa",
         "showland": true,
         "subunitcolor": "rgb(217, 217, 217)",
         "subunitwidth": 0.5
        },
        "template": {
         "data": {
          "bar": [
           {
            "error_x": {
             "color": "#2a3f5f"
            },
            "error_y": {
             "color": "#2a3f5f"
            },
            "marker": {
             "line": {
              "color": "#E5ECF6",
              "width": 0.5
             }
            },
            "type": "bar"
           }
          ],
          "barpolar": [
           {
            "marker": {
             "line": {
              "color": "#E5ECF6",
              "width": 0.5
             }
            },
            "type": "barpolar"
           }
          ],
          "carpet": [
           {
            "aaxis": {
             "endlinecolor": "#2a3f5f",
             "gridcolor": "white",
             "linecolor": "white",
             "minorgridcolor": "white",
             "startlinecolor": "#2a3f5f"
            },
            "baxis": {
             "endlinecolor": "#2a3f5f",
             "gridcolor": "white",
             "linecolor": "white",
             "minorgridcolor": "white",
             "startlinecolor": "#2a3f5f"
            },
            "type": "carpet"
           }
          ],
          "choropleth": [
           {
            "colorbar": {
             "outlinewidth": 0,
             "ticks": ""
            },
            "type": "choropleth"
           }
          ],
          "contour": [
           {
            "colorbar": {
             "outlinewidth": 0,
             "ticks": ""
            },
            "colorscale": [
             [
              0,
              "#0d0887"
             ],
             [
              0.1111111111111111,
              "#46039f"
             ],
             [
              0.2222222222222222,
              "#7201a8"
             ],
             [
              0.3333333333333333,
              "#9c179e"
             ],
             [
              0.4444444444444444,
              "#bd3786"
             ],
             [
              0.5555555555555556,
              "#d8576b"
             ],
             [
              0.6666666666666666,
              "#ed7953"
             ],
             [
              0.7777777777777778,
              "#fb9f3a"
             ],
             [
              0.8888888888888888,
              "#fdca26"
             ],
             [
              1,
              "#f0f921"
             ]
            ],
            "type": "contour"
           }
          ],
          "contourcarpet": [
           {
            "colorbar": {
             "outlinewidth": 0,
             "ticks": ""
            },
            "type": "contourcarpet"
           }
          ],
          "heatmap": [
           {
            "colorbar": {
             "outlinewidth": 0,
             "ticks": ""
            },
            "colorscale": [
             [
              0,
              "#0d0887"
             ],
             [
              0.1111111111111111,
              "#46039f"
             ],
             [
              0.2222222222222222,
              "#7201a8"
             ],
             [
              0.3333333333333333,
              "#9c179e"
             ],
             [
              0.4444444444444444,
              "#bd3786"
             ],
             [
              0.5555555555555556,
              "#d8576b"
             ],
             [
              0.6666666666666666,
              "#ed7953"
             ],
             [
              0.7777777777777778,
              "#fb9f3a"
             ],
             [
              0.8888888888888888,
              "#fdca26"
             ],
             [
              1,
              "#f0f921"
             ]
            ],
            "type": "heatmap"
           }
          ],
          "heatmapgl": [
           {
            "colorbar": {
             "outlinewidth": 0,
             "ticks": ""
            },
            "colorscale": [
             [
              0,
              "#0d0887"
             ],
             [
              0.1111111111111111,
              "#46039f"
             ],
             [
              0.2222222222222222,
              "#7201a8"
             ],
             [
              0.3333333333333333,
              "#9c179e"
             ],
             [
              0.4444444444444444,
              "#bd3786"
             ],
             [
              0.5555555555555556,
              "#d8576b"
             ],
             [
              0.6666666666666666,
              "#ed7953"
             ],
             [
              0.7777777777777778,
              "#fb9f3a"
             ],
             [
              0.8888888888888888,
              "#fdca26"
             ],
             [
              1,
              "#f0f921"
             ]
            ],
            "type": "heatmapgl"
           }
          ],
          "histogram": [
           {
            "marker": {
             "colorbar": {
              "outlinewidth": 0,
              "ticks": ""
             }
            },
            "type": "histogram"
           }
          ],
          "histogram2d": [
           {
            "colorbar": {
             "outlinewidth": 0,
             "ticks": ""
            },
            "colorscale": [
             [
              0,
              "#0d0887"
             ],
             [
              0.1111111111111111,
              "#46039f"
             ],
             [
              0.2222222222222222,
              "#7201a8"
             ],
             [
              0.3333333333333333,
              "#9c179e"
             ],
             [
              0.4444444444444444,
              "#bd3786"
             ],
             [
              0.5555555555555556,
              "#d8576b"
             ],
             [
              0.6666666666666666,
              "#ed7953"
             ],
             [
              0.7777777777777778,
              "#fb9f3a"
             ],
             [
              0.8888888888888888,
              "#fdca26"
             ],
             [
              1,
              "#f0f921"
             ]
            ],
            "type": "histogram2d"
           }
          ],
          "histogram2dcontour": [
           {
            "colorbar": {
             "outlinewidth": 0,
             "ticks": ""
            },
            "colorscale": [
             [
              0,
              "#0d0887"
             ],
             [
              0.1111111111111111,
              "#46039f"
             ],
             [
              0.2222222222222222,
              "#7201a8"
             ],
             [
              0.3333333333333333,
              "#9c179e"
             ],
             [
              0.4444444444444444,
              "#bd3786"
             ],
             [
              0.5555555555555556,
              "#d8576b"
             ],
             [
              0.6666666666666666,
              "#ed7953"
             ],
             [
              0.7777777777777778,
              "#fb9f3a"
             ],
             [
              0.8888888888888888,
              "#fdca26"
             ],
             [
              1,
              "#f0f921"
             ]
            ],
            "type": "histogram2dcontour"
           }
          ],
          "mesh3d": [
           {
            "colorbar": {
             "outlinewidth": 0,
             "ticks": ""
            },
            "type": "mesh3d"
           }
          ],
          "parcoords": [
           {
            "line": {
             "colorbar": {
              "outlinewidth": 0,
              "ticks": ""
             }
            },
            "type": "parcoords"
           }
          ],
          "pie": [
           {
            "automargin": true,
            "type": "pie"
           }
          ],
          "scatter": [
           {
            "marker": {
             "colorbar": {
              "outlinewidth": 0,
              "ticks": ""
             }
            },
            "type": "scatter"
           }
          ],
          "scatter3d": [
           {
            "line": {
             "colorbar": {
              "outlinewidth": 0,
              "ticks": ""
             }
            },
            "marker": {
             "colorbar": {
              "outlinewidth": 0,
              "ticks": ""
             }
            },
            "type": "scatter3d"
           }
          ],
          "scattercarpet": [
           {
            "marker": {
             "colorbar": {
              "outlinewidth": 0,
              "ticks": ""
             }
            },
            "type": "scattercarpet"
           }
          ],
          "scattergeo": [
           {
            "marker": {
             "colorbar": {
              "outlinewidth": 0,
              "ticks": ""
             }
            },
            "type": "scattergeo"
           }
          ],
          "scattergl": [
           {
            "marker": {
             "colorbar": {
              "outlinewidth": 0,
              "ticks": ""
             }
            },
            "type": "scattergl"
           }
          ],
          "scattermapbox": [
           {
            "marker": {
             "colorbar": {
              "outlinewidth": 0,
              "ticks": ""
             }
            },
            "type": "scattermapbox"
           }
          ],
          "scatterpolar": [
           {
            "marker": {
             "colorbar": {
              "outlinewidth": 0,
              "ticks": ""
             }
            },
            "type": "scatterpolar"
           }
          ],
          "scatterpolargl": [
           {
            "marker": {
             "colorbar": {
              "outlinewidth": 0,
              "ticks": ""
             }
            },
            "type": "scatterpolargl"
           }
          ],
          "scatterternary": [
           {
            "marker": {
             "colorbar": {
              "outlinewidth": 0,
              "ticks": ""
             }
            },
            "type": "scatterternary"
           }
          ],
          "surface": [
           {
            "colorbar": {
             "outlinewidth": 0,
             "ticks": ""
            },
            "colorscale": [
             [
              0,
              "#0d0887"
             ],
             [
              0.1111111111111111,
              "#46039f"
             ],
             [
              0.2222222222222222,
              "#7201a8"
             ],
             [
              0.3333333333333333,
              "#9c179e"
             ],
             [
              0.4444444444444444,
              "#bd3786"
             ],
             [
              0.5555555555555556,
              "#d8576b"
             ],
             [
              0.6666666666666666,
              "#ed7953"
             ],
             [
              0.7777777777777778,
              "#fb9f3a"
             ],
             [
              0.8888888888888888,
              "#fdca26"
             ],
             [
              1,
              "#f0f921"
             ]
            ],
            "type": "surface"
           }
          ],
          "table": [
           {
            "cells": {
             "fill": {
              "color": "#EBF0F8"
             },
             "line": {
              "color": "white"
             }
            },
            "header": {
             "fill": {
              "color": "#C8D4E3"
             },
             "line": {
              "color": "white"
             }
            },
            "type": "table"
           }
          ]
         },
         "layout": {
          "annotationdefaults": {
           "arrowcolor": "#2a3f5f",
           "arrowhead": 0,
           "arrowwidth": 1
          },
          "autotypenumbers": "strict",
          "coloraxis": {
           "colorbar": {
            "outlinewidth": 0,
            "ticks": ""
           }
          },
          "colorscale": {
           "diverging": [
            [
             0,
             "#8e0152"
            ],
            [
             0.1,
             "#c51b7d"
            ],
            [
             0.2,
             "#de77ae"
            ],
            [
             0.3,
             "#f1b6da"
            ],
            [
             0.4,
             "#fde0ef"
            ],
            [
             0.5,
             "#f7f7f7"
            ],
            [
             0.6,
             "#e6f5d0"
            ],
            [
             0.7,
             "#b8e186"
            ],
            [
             0.8,
             "#7fbc41"
            ],
            [
             0.9,
             "#4d9221"
            ],
            [
             1,
             "#276419"
            ]
           ],
           "sequential": [
            [
             0,
             "#0d0887"
            ],
            [
             0.1111111111111111,
             "#46039f"
            ],
            [
             0.2222222222222222,
             "#7201a8"
            ],
            [
             0.3333333333333333,
             "#9c179e"
            ],
            [
             0.4444444444444444,
             "#bd3786"
            ],
            [
             0.5555555555555556,
             "#d8576b"
            ],
            [
             0.6666666666666666,
             "#ed7953"
            ],
            [
             0.7777777777777778,
             "#fb9f3a"
            ],
            [
             0.8888888888888888,
             "#fdca26"
            ],
            [
             1,
             "#f0f921"
            ]
           ],
           "sequentialminus": [
            [
             0,
             "#0d0887"
            ],
            [
             0.1111111111111111,
             "#46039f"
            ],
            [
             0.2222222222222222,
             "#7201a8"
            ],
            [
             0.3333333333333333,
             "#9c179e"
            ],
            [
             0.4444444444444444,
             "#bd3786"
            ],
            [
             0.5555555555555556,
             "#d8576b"
            ],
            [
             0.6666666666666666,
             "#ed7953"
            ],
            [
             0.7777777777777778,
             "#fb9f3a"
            ],
            [
             0.8888888888888888,
             "#fdca26"
            ],
            [
             1,
             "#f0f921"
            ]
           ]
          },
          "colorway": [
           "#636efa",
           "#EF553B",
           "#00cc96",
           "#ab63fa",
           "#FFA15A",
           "#19d3f3",
           "#FF6692",
           "#B6E880",
           "#FF97FF",
           "#FECB52"
          ],
          "font": {
           "color": "#2a3f5f"
          },
          "geo": {
           "bgcolor": "white",
           "lakecolor": "white",
           "landcolor": "#E5ECF6",
           "showlakes": true,
           "showland": true,
           "subunitcolor": "white"
          },
          "hoverlabel": {
           "align": "left"
          },
          "hovermode": "closest",
          "mapbox": {
           "style": "light"
          },
          "paper_bgcolor": "white",
          "plot_bgcolor": "#E5ECF6",
          "polar": {
           "angularaxis": {
            "gridcolor": "white",
            "linecolor": "white",
            "ticks": ""
           },
           "bgcolor": "#E5ECF6",
           "radialaxis": {
            "gridcolor": "white",
            "linecolor": "white",
            "ticks": ""
           }
          },
          "scene": {
           "xaxis": {
            "backgroundcolor": "#E5ECF6",
            "gridcolor": "white",
            "gridwidth": 2,
            "linecolor": "white",
            "showbackground": true,
            "ticks": "",
            "zerolinecolor": "white"
           },
           "yaxis": {
            "backgroundcolor": "#E5ECF6",
            "gridcolor": "white",
            "gridwidth": 2,
            "linecolor": "white",
            "showbackground": true,
            "ticks": "",
            "zerolinecolor": "white"
           },
           "zaxis": {
            "backgroundcolor": "#E5ECF6",
            "gridcolor": "white",
            "gridwidth": 2,
            "linecolor": "white",
            "showbackground": true,
            "ticks": "",
            "zerolinecolor": "white"
           }
          },
          "shapedefaults": {
           "line": {
            "color": "#2a3f5f"
           }
          },
          "ternary": {
           "aaxis": {
            "gridcolor": "white",
            "linecolor": "white",
            "ticks": ""
           },
           "baxis": {
            "gridcolor": "white",
            "linecolor": "white",
            "ticks": ""
           },
           "bgcolor": "#E5ECF6",
           "caxis": {
            "gridcolor": "white",
            "linecolor": "white",
            "ticks": ""
           }
          },
          "title": {
           "x": 0.05
          },
          "xaxis": {
           "automargin": true,
           "gridcolor": "white",
           "linecolor": "white",
           "ticks": "",
           "title": {
            "standoff": 15
           },
           "zerolinecolor": "white",
           "zerolinewidth": 2
          },
          "yaxis": {
           "automargin": true,
           "gridcolor": "white",
           "linecolor": "white",
           "ticks": "",
           "title": {
            "standoff": 15
           },
           "zerolinecolor": "white",
           "zerolinewidth": 2
          }
         }
        },
        "title": {
         "text": "Likes de videos de Youtube"
        }
       }
      },
      "text/html": [
       "<div>                            <div id=\"6a0eafb5-2e3e-452f-853b-42357f15abbe\" class=\"plotly-graph-div\" style=\"height:525px; width:100%;\"></div>            <script type=\"text/javascript\">                require([\"plotly\"], function(Plotly) {                    window.PLOTLYENV=window.PLOTLYENV || {};                                    if (document.getElementById(\"6a0eafb5-2e3e-452f-853b-42357f15abbe\")) {                    Plotly.newPlot(                        \"6a0eafb5-2e3e-452f-853b-42357f15abbe\",                        [{\"lat\": [32.31823, 66.160507, 34.048927, 34.799999, 36.778259000000006, 39.113014, 41.599998, 39.0, 27.994402, 33.247875, 19.741754999999998, 44.068203000000004, 40.0, 40.273502, 42.032973999999996, 38.5, 37.839333, 30.39183, 45.367584, 39.045753000000005, 42.407211, 44.182204999999996, 46.39241, 33.0, 38.573935999999996, 46.96526, 41.5, 39.876019, 44.0, 39.833851, 34.307144, 43.0, 35.782169, 47.650589000000004, 40.367474, 36.084621000000006, 44.0, 41.203323, 41.700001, 33.836082, 44.5, 35.860119, 31.0, 39.41922, 44.0, 37.926868, 47.751076, 39.0, 44.5, 43.07597], \"locationmode\": \"USA-states\", \"lon\": [-86.902298, -153.36914099999998, -111.09373500000001, -92.199997, -119.41793100000001, -105.35888700000001, -72.699997, -75.5, -81.760254, -83.441162, -155.844437, -114.742043, -89.0, -86.126976, -93.58154300000001, -98.0, -84.27002, -92.329102, -68.97216800000001, -76.641273, -71.382439, -84.50683599999999, -94.63623, -90.0, -92.60376, -109.53369099999999, -100.0, -117.224121, -71.5, -74.871826, -106.01806599999999, -75.0, -80.79345699999999, -100.437012, -82.996216, -96.921387, -120.5, -77.19452700000001, -71.5, -81.16372700000001, -100.0, -86.660156, -100.0, -111.95068400000001, -72.699997, -78.024902, -120.74013500000001, -80.5, -89.5, -107.290283], \"marker\": {\"autocolorscale\": false, \"cmax\": 486050190, \"cmin\": 0, \"color\": [240996698, 288964741, 190487154, 311223065, 187306101, 192470956, 149353575, 290392441, 412582412, 199891888, 219313894, 155815713, 190882977, 163668390, 164945762, 226062652, 191910119, 430219188, 328271567, 486050190, 215240041, 261491791, 337695615, 257953517, 214797746, 391669210, 138666597, 182642993, 236079963, 216883160, 222622879, 335037583, 374309514, 125213372, 174401767, 281991778, 286107232, 238361052, 312292289, 325498272, 381240227, 131904466, 170955804, 321553997, 163603641, 344982368, 164191897, 286060614, 190106943, 156444916], \"colorbar\": {\"title\": {\"text\": \"Cantidad de likes\"}}, \"colorscale\": [[0.0, \"rgb(255,245,240)\"], [0.125, \"rgb(254,224,210)\"], [0.25, \"rgb(252,187,161)\"], [0.375, \"rgb(252,146,114)\"], [0.5, \"rgb(251,106,74)\"], [0.625, \"rgb(239,59,44)\"], [0.75, \"rgb(203,24,29)\"], [0.875, \"rgb(165,15,21)\"], [1.0, \"rgb(103,0,13)\"]], \"line\": {\"color\": \"rgba(102, 102, 102)\", \"width\": 1}, \"opacity\": 0.8, \"reversescale\": true, \"size\": 8, \"symbol\": \"square\"}, \"mode\": \"markers\", \"text\": [\"Alabama Likes: 8140357\", \"Alaska Likes: 11013520\", \"Arizona Likes: 5370267\", \"Arkansas Likes: 6906096\", \"California Likes: 5188660\", \"Colorado Likes: 5576594\", \"Connecticut Likes: 6101494\", \"Delaware Likes: 7564159\", \"Florida Likes: 13506492\", \"Georgia Likes: 5122264\", \"Hawaii Likes: 6529690\", \"Idaho Likes: 4014068\", \"Illinois Likes: 4875381\", \"Indiana Likes: 3384821\", \"Iowa Likes: 3865309\", \"Kansas Likes: 6304458\", \"Kentucky Likes: 7134640\", \"Louisiana Likes: 11015769\", \"Maine Likes: 8688700\", \"Maryland Likes: 12333056\", \"Massachusetts Likes: 5215174\", \"Michigan Likes: 7903242\", \"Minnesota Likes: 9268875\", \"Mississippi Likes: 7445065\", \"Missouri Likes: 6096343\", \"Montana Likes: 8247623\", \"Nebraska Likes: 3979882\", \"Nevada Likes: 5162440\", \"New Hampshire Likes: 8289253\", \"New Jersey Likes: 6145811\", \"New Mexico Likes: 5621827\", \"New York Likes: 8245959\", \"North Carolina Likes: 10274082\", \"North Dakota Likes: 3587708\", \"Ohio Likes: 6672219\", \"Oklahoma Likes: 7651635\", \"Oregon Likes: 6528933\", \"Pennsylvania Likes: 5951662\", \"Rhode Island Likes: 9854108\", \"South Carolina Likes: 10732749\", \"South Dakota Likes: 8592844\", \"Tennessee Likes: 3373290\", \"Texas Likes: 5298234\", \"Utah Likes: 11253675\", \"Vermont Likes: 4652196\", \"Virginia Likes: 10935251\", \"Washington State Likes: 6077254\", \"West Virginia Likes: 8483666\", \"Wisconsin Likes: 4725030\", \"Wyoming Likes: 4043790\"], \"type\": \"scattergeo\"}],                        {\"geo\": {\"countrycolor\": \"rgb(217, 217, 217)\", \"countrywidth\": 0.5, \"landcolor\": \"rgb(250, 250, 250)\", \"projection\": {\"type\": \"albers usa\"}, \"scope\": \"usa\", \"showland\": true, \"subunitcolor\": \"rgb(217, 217, 217)\", \"subunitwidth\": 0.5}, \"template\": {\"data\": {\"bar\": [{\"error_x\": {\"color\": \"#2a3f5f\"}, \"error_y\": {\"color\": \"#2a3f5f\"}, \"marker\": {\"line\": {\"color\": \"#E5ECF6\", \"width\": 0.5}}, \"type\": \"bar\"}], \"barpolar\": [{\"marker\": {\"line\": {\"color\": \"#E5ECF6\", \"width\": 0.5}}, \"type\": \"barpolar\"}], \"carpet\": [{\"aaxis\": {\"endlinecolor\": \"#2a3f5f\", \"gridcolor\": \"white\", \"linecolor\": \"white\", \"minorgridcolor\": \"white\", \"startlinecolor\": \"#2a3f5f\"}, \"baxis\": {\"endlinecolor\": \"#2a3f5f\", \"gridcolor\": \"white\", \"linecolor\": \"white\", \"minorgridcolor\": \"white\", \"startlinecolor\": \"#2a3f5f\"}, \"type\": \"carpet\"}], \"choropleth\": [{\"colorbar\": {\"outlinewidth\": 0, \"ticks\": \"\"}, \"type\": \"choropleth\"}], \"contour\": [{\"colorbar\": {\"outlinewidth\": 0, \"ticks\": \"\"}, \"colorscale\": [[0.0, \"#0d0887\"], [0.1111111111111111, \"#46039f\"], [0.2222222222222222, \"#7201a8\"], [0.3333333333333333, \"#9c179e\"], [0.4444444444444444, \"#bd3786\"], [0.5555555555555556, \"#d8576b\"], [0.6666666666666666, \"#ed7953\"], [0.7777777777777778, \"#fb9f3a\"], [0.8888888888888888, \"#fdca26\"], [1.0, \"#f0f921\"]], \"type\": \"contour\"}], \"contourcarpet\": [{\"colorbar\": {\"outlinewidth\": 0, \"ticks\": \"\"}, \"type\": \"contourcarpet\"}], \"heatmap\": [{\"colorbar\": {\"outlinewidth\": 0, \"ticks\": \"\"}, \"colorscale\": [[0.0, \"#0d0887\"], [0.1111111111111111, \"#46039f\"], [0.2222222222222222, \"#7201a8\"], [0.3333333333333333, \"#9c179e\"], [0.4444444444444444, \"#bd3786\"], [0.5555555555555556, \"#d8576b\"], [0.6666666666666666, \"#ed7953\"], [0.7777777777777778, \"#fb9f3a\"], [0.8888888888888888, \"#fdca26\"], [1.0, \"#f0f921\"]], \"type\": \"heatmap\"}], \"heatmapgl\": [{\"colorbar\": {\"outlinewidth\": 0, \"ticks\": \"\"}, \"colorscale\": [[0.0, \"#0d0887\"], [0.1111111111111111, \"#46039f\"], [0.2222222222222222, \"#7201a8\"], [0.3333333333333333, \"#9c179e\"], [0.4444444444444444, \"#bd3786\"], [0.5555555555555556, \"#d8576b\"], [0.6666666666666666, \"#ed7953\"], [0.7777777777777778, \"#fb9f3a\"], [0.8888888888888888, \"#fdca26\"], [1.0, \"#f0f921\"]], \"type\": \"heatmapgl\"}], \"histogram\": [{\"marker\": {\"colorbar\": {\"outlinewidth\": 0, \"ticks\": \"\"}}, \"type\": \"histogram\"}], \"histogram2d\": [{\"colorbar\": {\"outlinewidth\": 0, \"ticks\": \"\"}, \"colorscale\": [[0.0, \"#0d0887\"], [0.1111111111111111, \"#46039f\"], [0.2222222222222222, \"#7201a8\"], [0.3333333333333333, \"#9c179e\"], [0.4444444444444444, \"#bd3786\"], [0.5555555555555556, \"#d8576b\"], [0.6666666666666666, \"#ed7953\"], [0.7777777777777778, \"#fb9f3a\"], [0.8888888888888888, \"#fdca26\"], [1.0, \"#f0f921\"]], \"type\": \"histogram2d\"}], \"histogram2dcontour\": [{\"colorbar\": {\"outlinewidth\": 0, \"ticks\": \"\"}, \"colorscale\": [[0.0, \"#0d0887\"], [0.1111111111111111, \"#46039f\"], [0.2222222222222222, \"#7201a8\"], [0.3333333333333333, \"#9c179e\"], [0.4444444444444444, \"#bd3786\"], [0.5555555555555556, \"#d8576b\"], [0.6666666666666666, \"#ed7953\"], [0.7777777777777778, \"#fb9f3a\"], [0.8888888888888888, \"#fdca26\"], [1.0, \"#f0f921\"]], \"type\": \"histogram2dcontour\"}], \"mesh3d\": [{\"colorbar\": {\"outlinewidth\": 0, \"ticks\": \"\"}, \"type\": \"mesh3d\"}], \"parcoords\": [{\"line\": {\"colorbar\": {\"outlinewidth\": 0, \"ticks\": \"\"}}, \"type\": \"parcoords\"}], \"pie\": [{\"automargin\": true, \"type\": \"pie\"}], \"scatter\": [{\"marker\": {\"colorbar\": {\"outlinewidth\": 0, \"ticks\": \"\"}}, \"type\": \"scatter\"}], \"scatter3d\": [{\"line\": {\"colorbar\": {\"outlinewidth\": 0, \"ticks\": \"\"}}, \"marker\": {\"colorbar\": {\"outlinewidth\": 0, \"ticks\": \"\"}}, \"type\": \"scatter3d\"}], \"scattercarpet\": [{\"marker\": {\"colorbar\": {\"outlinewidth\": 0, \"ticks\": \"\"}}, \"type\": \"scattercarpet\"}], \"scattergeo\": [{\"marker\": {\"colorbar\": {\"outlinewidth\": 0, \"ticks\": \"\"}}, \"type\": \"scattergeo\"}], \"scattergl\": [{\"marker\": {\"colorbar\": {\"outlinewidth\": 0, \"ticks\": \"\"}}, \"type\": \"scattergl\"}], \"scattermapbox\": [{\"marker\": {\"colorbar\": {\"outlinewidth\": 0, \"ticks\": \"\"}}, \"type\": \"scattermapbox\"}], \"scatterpolar\": [{\"marker\": {\"colorbar\": {\"outlinewidth\": 0, \"ticks\": \"\"}}, \"type\": \"scatterpolar\"}], \"scatterpolargl\": [{\"marker\": {\"colorbar\": {\"outlinewidth\": 0, \"ticks\": \"\"}}, \"type\": \"scatterpolargl\"}], \"scatterternary\": [{\"marker\": {\"colorbar\": {\"outlinewidth\": 0, \"ticks\": \"\"}}, \"type\": \"scatterternary\"}], \"surface\": [{\"colorbar\": {\"outlinewidth\": 0, \"ticks\": \"\"}, \"colorscale\": [[0.0, \"#0d0887\"], [0.1111111111111111, \"#46039f\"], [0.2222222222222222, \"#7201a8\"], [0.3333333333333333, \"#9c179e\"], [0.4444444444444444, \"#bd3786\"], [0.5555555555555556, \"#d8576b\"], [0.6666666666666666, \"#ed7953\"], [0.7777777777777778, \"#fb9f3a\"], [0.8888888888888888, \"#fdca26\"], [1.0, \"#f0f921\"]], \"type\": \"surface\"}], \"table\": [{\"cells\": {\"fill\": {\"color\": \"#EBF0F8\"}, \"line\": {\"color\": \"white\"}}, \"header\": {\"fill\": {\"color\": \"#C8D4E3\"}, \"line\": {\"color\": \"white\"}}, \"type\": \"table\"}]}, \"layout\": {\"annotationdefaults\": {\"arrowcolor\": \"#2a3f5f\", \"arrowhead\": 0, \"arrowwidth\": 1}, \"autotypenumbers\": \"strict\", \"coloraxis\": {\"colorbar\": {\"outlinewidth\": 0, \"ticks\": \"\"}}, \"colorscale\": {\"diverging\": [[0, \"#8e0152\"], [0.1, \"#c51b7d\"], [0.2, \"#de77ae\"], [0.3, \"#f1b6da\"], [0.4, \"#fde0ef\"], [0.5, \"#f7f7f7\"], [0.6, \"#e6f5d0\"], [0.7, \"#b8e186\"], [0.8, \"#7fbc41\"], [0.9, \"#4d9221\"], [1, \"#276419\"]], \"sequential\": [[0.0, \"#0d0887\"], [0.1111111111111111, \"#46039f\"], [0.2222222222222222, \"#7201a8\"], [0.3333333333333333, \"#9c179e\"], [0.4444444444444444, \"#bd3786\"], [0.5555555555555556, \"#d8576b\"], [0.6666666666666666, \"#ed7953\"], [0.7777777777777778, \"#fb9f3a\"], [0.8888888888888888, \"#fdca26\"], [1.0, \"#f0f921\"]], \"sequentialminus\": [[0.0, \"#0d0887\"], [0.1111111111111111, \"#46039f\"], [0.2222222222222222, \"#7201a8\"], [0.3333333333333333, \"#9c179e\"], [0.4444444444444444, \"#bd3786\"], [0.5555555555555556, \"#d8576b\"], [0.6666666666666666, \"#ed7953\"], [0.7777777777777778, \"#fb9f3a\"], [0.8888888888888888, \"#fdca26\"], [1.0, \"#f0f921\"]]}, \"colorway\": [\"#636efa\", \"#EF553B\", \"#00cc96\", \"#ab63fa\", \"#FFA15A\", \"#19d3f3\", \"#FF6692\", \"#B6E880\", \"#FF97FF\", \"#FECB52\"], \"font\": {\"color\": \"#2a3f5f\"}, \"geo\": {\"bgcolor\": \"white\", \"lakecolor\": \"white\", \"landcolor\": \"#E5ECF6\", \"showlakes\": true, \"showland\": true, \"subunitcolor\": \"white\"}, \"hoverlabel\": {\"align\": \"left\"}, \"hovermode\": \"closest\", \"mapbox\": {\"style\": \"light\"}, \"paper_bgcolor\": \"white\", \"plot_bgcolor\": \"#E5ECF6\", \"polar\": {\"angularaxis\": {\"gridcolor\": \"white\", \"linecolor\": \"white\", \"ticks\": \"\"}, \"bgcolor\": \"#E5ECF6\", \"radialaxis\": {\"gridcolor\": \"white\", \"linecolor\": \"white\", \"ticks\": \"\"}}, \"scene\": {\"xaxis\": {\"backgroundcolor\": \"#E5ECF6\", \"gridcolor\": \"white\", \"gridwidth\": 2, \"linecolor\": \"white\", \"showbackground\": true, \"ticks\": \"\", \"zerolinecolor\": \"white\"}, \"yaxis\": {\"backgroundcolor\": \"#E5ECF6\", \"gridcolor\": \"white\", \"gridwidth\": 2, \"linecolor\": \"white\", \"showbackground\": true, \"ticks\": \"\", \"zerolinecolor\": \"white\"}, \"zaxis\": {\"backgroundcolor\": \"#E5ECF6\", \"gridcolor\": \"white\", \"gridwidth\": 2, \"linecolor\": \"white\", \"showbackground\": true, \"ticks\": \"\", \"zerolinecolor\": \"white\"}}, \"shapedefaults\": {\"line\": {\"color\": \"#2a3f5f\"}}, \"ternary\": {\"aaxis\": {\"gridcolor\": \"white\", \"linecolor\": \"white\", \"ticks\": \"\"}, \"baxis\": {\"gridcolor\": \"white\", \"linecolor\": \"white\", \"ticks\": \"\"}, \"bgcolor\": \"#E5ECF6\", \"caxis\": {\"gridcolor\": \"white\", \"linecolor\": \"white\", \"ticks\": \"\"}}, \"title\": {\"x\": 0.05}, \"xaxis\": {\"automargin\": true, \"gridcolor\": \"white\", \"linecolor\": \"white\", \"ticks\": \"\", \"title\": {\"standoff\": 15}, \"zerolinecolor\": \"white\", \"zerolinewidth\": 2}, \"yaxis\": {\"automargin\": true, \"gridcolor\": \"white\", \"linecolor\": \"white\", \"ticks\": \"\", \"title\": {\"standoff\": 15}, \"zerolinecolor\": \"white\", \"zerolinewidth\": 2}}}, \"title\": {\"text\": \"Likes de videos de Youtube\"}},                        {\"responsive\": true}                    ).then(function(){\n",
       "                            \n",
       "var gd = document.getElementById('6a0eafb5-2e3e-452f-853b-42357f15abbe');\n",
       "var x = new MutationObserver(function (mutations, observer) {{\n",
       "        var display = window.getComputedStyle(gd).display;\n",
       "        if (!display || display === 'none') {{\n",
       "            console.log([gd, 'removed!']);\n",
       "            Plotly.purge(gd);\n",
       "            observer.disconnect();\n",
       "        }}\n",
       "}});\n",
       "\n",
       "// Listen for the removal of the full notebook cells\n",
       "var notebookContainer = gd.closest('#notebook-container');\n",
       "if (notebookContainer) {{\n",
       "    x.observe(notebookContainer, {childList: true});\n",
       "}}\n",
       "\n",
       "// Listen for the clearing of the current output cell\n",
       "var outputEl = gd.closest('.output');\n",
       "if (outputEl) {{\n",
       "    x.observe(outputEl, {childList: true});\n",
       "}}\n",
       "\n",
       "                        })                };                });            </script>        </div>"
      ]
     },
     "metadata": {},
     "output_type": "display_data"
    }
   ],
   "source": [
    "fig = go.Figure(data=go.Scattergeo(\n",
    "        locationmode = 'USA-states',\n",
    "        lat = pregunta7['lat'],\n",
    "        lon = pregunta7['lon'],\n",
    "        text = pregunta7['state'] + ' Likes: ' + pregunta7['likes'].astype(str),\n",
    "        mode = 'markers',\n",
    "        marker = dict(\n",
    "            size = 8,\n",
    "            opacity = 0.8,\n",
    "            reversescale = True,\n",
    "            autocolorscale = False,\n",
    "            symbol = 'square',\n",
    "            line = dict(\n",
    "                width=1,\n",
    "                color='rgba(102, 102, 102)'\n",
    "            ),\n",
    "            colorscale = 'Reds',\n",
    "            cmin = 0,\n",
    "            color = pregunta7['views'],\n",
    "            cmax = pregunta7['views'].max(),\n",
    "            colorbar_title=\"Cantidad de likes\"\n",
    "        )))\n",
    "\n",
    "fig.update_layout(\n",
    "        title = 'Likes de videos de Youtube',\n",
    "        geo = dict(\n",
    "            scope='usa',\n",
    "            projection_type='albers usa',\n",
    "            showland = True,\n",
    "            landcolor = \"rgb(250, 250, 250)\",\n",
    "            subunitcolor = \"rgb(217, 217, 217)\",\n",
    "            countrycolor = \"rgb(217, 217, 217)\",\n",
    "            countrywidth = 0.5,\n",
    "            subunitwidth = 0.5\n",
    "        ),\n",
    "    )\n",
    "fig.show()"
   ]
  },
  {
   "cell_type": "code",
   "execution_count": 263,
   "metadata": {},
   "outputs": [
    {
     "data": {
      "application/vnd.plotly.v1+json": {
       "config": {
        "plotlyServerURL": "https://plot.ly"
       },
       "data": [
        {
         "lat": [
          32.31823,
          66.160507,
          34.048927,
          34.799999,
          36.778259000000006,
          39.113014,
          41.599998,
          39,
          27.994402,
          33.247875,
          19.741754999999998,
          44.068203000000004,
          40,
          40.273502,
          42.032973999999996,
          38.5,
          37.839333,
          30.39183,
          45.367584,
          39.045753000000005,
          42.407211,
          44.182204999999996,
          46.39241,
          33,
          38.573935999999996,
          46.96526,
          41.5,
          39.876019,
          44,
          39.833851,
          34.307144,
          43,
          35.782169,
          47.650589000000004,
          40.367474,
          36.084621000000006,
          44,
          41.203323,
          41.700001,
          33.836082,
          44.5,
          35.860119,
          31,
          39.41922,
          44,
          37.926868,
          47.751076,
          39,
          44.5,
          43.07597
         ],
         "locationmode": "USA-states",
         "lon": [
          -86.902298,
          -153.36914099999998,
          -111.09373500000001,
          -92.199997,
          -119.41793100000001,
          -105.35888700000001,
          -72.699997,
          -75.5,
          -81.760254,
          -83.441162,
          -155.844437,
          -114.742043,
          -89,
          -86.126976,
          -93.58154300000001,
          -98,
          -84.27002,
          -92.329102,
          -68.97216800000001,
          -76.641273,
          -71.382439,
          -84.50683599999999,
          -94.63623,
          -90,
          -92.60376,
          -109.53369099999999,
          -100,
          -117.224121,
          -71.5,
          -74.871826,
          -106.01806599999999,
          -75,
          -80.79345699999999,
          -100.437012,
          -82.996216,
          -96.921387,
          -120.5,
          -77.19452700000001,
          -71.5,
          -81.16372700000001,
          -100,
          -86.660156,
          -100,
          -111.95068400000001,
          -72.699997,
          -78.024902,
          -120.74013500000001,
          -80.5,
          -89.5,
          -107.290283
         ],
         "marker": {
          "autocolorscale": false,
          "cmax": 486050190,
          "cmin": 0,
          "color": [
           240996698,
           288964741,
           190487154,
           311223065,
           187306101,
           192470956,
           149353575,
           290392441,
           412582412,
           199891888,
           219313894,
           155815713,
           190882977,
           163668390,
           164945762,
           226062652,
           191910119,
           430219188,
           328271567,
           486050190,
           215240041,
           261491791,
           337695615,
           257953517,
           214797746,
           391669210,
           138666597,
           182642993,
           236079963,
           216883160,
           222622879,
           335037583,
           374309514,
           125213372,
           174401767,
           281991778,
           286107232,
           238361052,
           312292289,
           325498272,
           381240227,
           131904466,
           170955804,
           321553997,
           163603641,
           344982368,
           164191897,
           286060614,
           190106943,
           156444916
          ],
          "colorbar": {
           "title": {
            "text": "Cantidad de dislikes"
           }
          },
          "colorscale": [
           [
            0,
            "rgb(255,245,240)"
           ],
           [
            0.125,
            "rgb(254,224,210)"
           ],
           [
            0.25,
            "rgb(252,187,161)"
           ],
           [
            0.375,
            "rgb(252,146,114)"
           ],
           [
            0.5,
            "rgb(251,106,74)"
           ],
           [
            0.625,
            "rgb(239,59,44)"
           ],
           [
            0.75,
            "rgb(203,24,29)"
           ],
           [
            0.875,
            "rgb(165,15,21)"
           ],
           [
            1,
            "rgb(103,0,13)"
           ]
          ],
          "line": {
           "color": "rgba(102, 102, 102)",
           "width": 1
          },
          "opacity": 0.8,
          "reversescale": true,
          "size": 8,
          "symbol": "square"
         },
         "mode": "markers",
         "text": [
          "Alabama Dislikes: 297804",
          "Alaska Dislikes: 428642",
          "Arizona Dislikes: 186543",
          "Arkansas Dislikes: 234985",
          "California Dislikes: 227192",
          "Colorado Dislikes: 366977",
          "Connecticut Dislikes: 405321",
          "Delaware Dislikes: 260995",
          "Florida Dislikes: 532436",
          "Georgia Dislikes: 222633",
          "Hawaii Dislikes: 249795",
          "Idaho Dislikes: 316810",
          "Illinois Dislikes: 167191",
          "Indiana Dislikes: 160190",
          "Iowa Dislikes: 228622",
          "Kansas Dislikes: 193233",
          "Kentucky Dislikes: 235678",
          "Louisiana Dislikes: 472666",
          "Maine Dislikes: 639584",
          "Maryland Dislikes: 743015",
          "Massachusetts Dislikes: 240932",
          "Michigan Dislikes: 292650",
          "Minnesota Dislikes: 1982935",
          "Mississippi Dislikes: 551819",
          "Missouri Dislikes: 227621",
          "Montana Dislikes: 412476",
          "Nebraska Dislikes: 238786",
          "Nevada Dislikes: 193295",
          "New Hampshire Dislikes: 233593",
          "New Jersey Dislikes: 357844",
          "New Mexico Dislikes: 252286",
          "New York Dislikes: 851274",
          "North Carolina Dislikes: 440838",
          "North Dakota Dislikes: 151207",
          "Ohio Dislikes: 276599",
          "Oklahoma Dislikes: 340829",
          "Oregon Dislikes: 253472",
          "Pennsylvania Dislikes: 214717",
          "Rhode Island Dislikes: 379486",
          "South Carolina Dislikes: 380325",
          "South Dakota Dislikes: 324073",
          "Tennessee Dislikes: 156437",
          "Texas Dislikes: 211529",
          "Utah Dislikes: 308936",
          "Vermont Dislikes: 199038",
          "Virginia Dislikes: 468140",
          "Washington State Dislikes: 479552",
          "West Virginia Dislikes: 1955979",
          "Wisconsin Dislikes: 211494",
          "Wyoming Dislikes: 320202"
         ],
         "type": "scattergeo"
        }
       ],
       "layout": {
        "geo": {
         "countrycolor": "rgb(217, 217, 217)",
         "countrywidth": 0.5,
         "landcolor": "rgb(250, 250, 250)",
         "projection": {
          "type": "albers usa"
         },
         "scope": "usa",
         "showland": true,
         "subunitcolor": "rgb(217, 217, 217)",
         "subunitwidth": 0.5
        },
        "template": {
         "data": {
          "bar": [
           {
            "error_x": {
             "color": "#2a3f5f"
            },
            "error_y": {
             "color": "#2a3f5f"
            },
            "marker": {
             "line": {
              "color": "#E5ECF6",
              "width": 0.5
             }
            },
            "type": "bar"
           }
          ],
          "barpolar": [
           {
            "marker": {
             "line": {
              "color": "#E5ECF6",
              "width": 0.5
             }
            },
            "type": "barpolar"
           }
          ],
          "carpet": [
           {
            "aaxis": {
             "endlinecolor": "#2a3f5f",
             "gridcolor": "white",
             "linecolor": "white",
             "minorgridcolor": "white",
             "startlinecolor": "#2a3f5f"
            },
            "baxis": {
             "endlinecolor": "#2a3f5f",
             "gridcolor": "white",
             "linecolor": "white",
             "minorgridcolor": "white",
             "startlinecolor": "#2a3f5f"
            },
            "type": "carpet"
           }
          ],
          "choropleth": [
           {
            "colorbar": {
             "outlinewidth": 0,
             "ticks": ""
            },
            "type": "choropleth"
           }
          ],
          "contour": [
           {
            "colorbar": {
             "outlinewidth": 0,
             "ticks": ""
            },
            "colorscale": [
             [
              0,
              "#0d0887"
             ],
             [
              0.1111111111111111,
              "#46039f"
             ],
             [
              0.2222222222222222,
              "#7201a8"
             ],
             [
              0.3333333333333333,
              "#9c179e"
             ],
             [
              0.4444444444444444,
              "#bd3786"
             ],
             [
              0.5555555555555556,
              "#d8576b"
             ],
             [
              0.6666666666666666,
              "#ed7953"
             ],
             [
              0.7777777777777778,
              "#fb9f3a"
             ],
             [
              0.8888888888888888,
              "#fdca26"
             ],
             [
              1,
              "#f0f921"
             ]
            ],
            "type": "contour"
           }
          ],
          "contourcarpet": [
           {
            "colorbar": {
             "outlinewidth": 0,
             "ticks": ""
            },
            "type": "contourcarpet"
           }
          ],
          "heatmap": [
           {
            "colorbar": {
             "outlinewidth": 0,
             "ticks": ""
            },
            "colorscale": [
             [
              0,
              "#0d0887"
             ],
             [
              0.1111111111111111,
              "#46039f"
             ],
             [
              0.2222222222222222,
              "#7201a8"
             ],
             [
              0.3333333333333333,
              "#9c179e"
             ],
             [
              0.4444444444444444,
              "#bd3786"
             ],
             [
              0.5555555555555556,
              "#d8576b"
             ],
             [
              0.6666666666666666,
              "#ed7953"
             ],
             [
              0.7777777777777778,
              "#fb9f3a"
             ],
             [
              0.8888888888888888,
              "#fdca26"
             ],
             [
              1,
              "#f0f921"
             ]
            ],
            "type": "heatmap"
           }
          ],
          "heatmapgl": [
           {
            "colorbar": {
             "outlinewidth": 0,
             "ticks": ""
            },
            "colorscale": [
             [
              0,
              "#0d0887"
             ],
             [
              0.1111111111111111,
              "#46039f"
             ],
             [
              0.2222222222222222,
              "#7201a8"
             ],
             [
              0.3333333333333333,
              "#9c179e"
             ],
             [
              0.4444444444444444,
              "#bd3786"
             ],
             [
              0.5555555555555556,
              "#d8576b"
             ],
             [
              0.6666666666666666,
              "#ed7953"
             ],
             [
              0.7777777777777778,
              "#fb9f3a"
             ],
             [
              0.8888888888888888,
              "#fdca26"
             ],
             [
              1,
              "#f0f921"
             ]
            ],
            "type": "heatmapgl"
           }
          ],
          "histogram": [
           {
            "marker": {
             "colorbar": {
              "outlinewidth": 0,
              "ticks": ""
             }
            },
            "type": "histogram"
           }
          ],
          "histogram2d": [
           {
            "colorbar": {
             "outlinewidth": 0,
             "ticks": ""
            },
            "colorscale": [
             [
              0,
              "#0d0887"
             ],
             [
              0.1111111111111111,
              "#46039f"
             ],
             [
              0.2222222222222222,
              "#7201a8"
             ],
             [
              0.3333333333333333,
              "#9c179e"
             ],
             [
              0.4444444444444444,
              "#bd3786"
             ],
             [
              0.5555555555555556,
              "#d8576b"
             ],
             [
              0.6666666666666666,
              "#ed7953"
             ],
             [
              0.7777777777777778,
              "#fb9f3a"
             ],
             [
              0.8888888888888888,
              "#fdca26"
             ],
             [
              1,
              "#f0f921"
             ]
            ],
            "type": "histogram2d"
           }
          ],
          "histogram2dcontour": [
           {
            "colorbar": {
             "outlinewidth": 0,
             "ticks": ""
            },
            "colorscale": [
             [
              0,
              "#0d0887"
             ],
             [
              0.1111111111111111,
              "#46039f"
             ],
             [
              0.2222222222222222,
              "#7201a8"
             ],
             [
              0.3333333333333333,
              "#9c179e"
             ],
             [
              0.4444444444444444,
              "#bd3786"
             ],
             [
              0.5555555555555556,
              "#d8576b"
             ],
             [
              0.6666666666666666,
              "#ed7953"
             ],
             [
              0.7777777777777778,
              "#fb9f3a"
             ],
             [
              0.8888888888888888,
              "#fdca26"
             ],
             [
              1,
              "#f0f921"
             ]
            ],
            "type": "histogram2dcontour"
           }
          ],
          "mesh3d": [
           {
            "colorbar": {
             "outlinewidth": 0,
             "ticks": ""
            },
            "type": "mesh3d"
           }
          ],
          "parcoords": [
           {
            "line": {
             "colorbar": {
              "outlinewidth": 0,
              "ticks": ""
             }
            },
            "type": "parcoords"
           }
          ],
          "pie": [
           {
            "automargin": true,
            "type": "pie"
           }
          ],
          "scatter": [
           {
            "marker": {
             "colorbar": {
              "outlinewidth": 0,
              "ticks": ""
             }
            },
            "type": "scatter"
           }
          ],
          "scatter3d": [
           {
            "line": {
             "colorbar": {
              "outlinewidth": 0,
              "ticks": ""
             }
            },
            "marker": {
             "colorbar": {
              "outlinewidth": 0,
              "ticks": ""
             }
            },
            "type": "scatter3d"
           }
          ],
          "scattercarpet": [
           {
            "marker": {
             "colorbar": {
              "outlinewidth": 0,
              "ticks": ""
             }
            },
            "type": "scattercarpet"
           }
          ],
          "scattergeo": [
           {
            "marker": {
             "colorbar": {
              "outlinewidth": 0,
              "ticks": ""
             }
            },
            "type": "scattergeo"
           }
          ],
          "scattergl": [
           {
            "marker": {
             "colorbar": {
              "outlinewidth": 0,
              "ticks": ""
             }
            },
            "type": "scattergl"
           }
          ],
          "scattermapbox": [
           {
            "marker": {
             "colorbar": {
              "outlinewidth": 0,
              "ticks": ""
             }
            },
            "type": "scattermapbox"
           }
          ],
          "scatterpolar": [
           {
            "marker": {
             "colorbar": {
              "outlinewidth": 0,
              "ticks": ""
             }
            },
            "type": "scatterpolar"
           }
          ],
          "scatterpolargl": [
           {
            "marker": {
             "colorbar": {
              "outlinewidth": 0,
              "ticks": ""
             }
            },
            "type": "scatterpolargl"
           }
          ],
          "scatterternary": [
           {
            "marker": {
             "colorbar": {
              "outlinewidth": 0,
              "ticks": ""
             }
            },
            "type": "scatterternary"
           }
          ],
          "surface": [
           {
            "colorbar": {
             "outlinewidth": 0,
             "ticks": ""
            },
            "colorscale": [
             [
              0,
              "#0d0887"
             ],
             [
              0.1111111111111111,
              "#46039f"
             ],
             [
              0.2222222222222222,
              "#7201a8"
             ],
             [
              0.3333333333333333,
              "#9c179e"
             ],
             [
              0.4444444444444444,
              "#bd3786"
             ],
             [
              0.5555555555555556,
              "#d8576b"
             ],
             [
              0.6666666666666666,
              "#ed7953"
             ],
             [
              0.7777777777777778,
              "#fb9f3a"
             ],
             [
              0.8888888888888888,
              "#fdca26"
             ],
             [
              1,
              "#f0f921"
             ]
            ],
            "type": "surface"
           }
          ],
          "table": [
           {
            "cells": {
             "fill": {
              "color": "#EBF0F8"
             },
             "line": {
              "color": "white"
             }
            },
            "header": {
             "fill": {
              "color": "#C8D4E3"
             },
             "line": {
              "color": "white"
             }
            },
            "type": "table"
           }
          ]
         },
         "layout": {
          "annotationdefaults": {
           "arrowcolor": "#2a3f5f",
           "arrowhead": 0,
           "arrowwidth": 1
          },
          "autotypenumbers": "strict",
          "coloraxis": {
           "colorbar": {
            "outlinewidth": 0,
            "ticks": ""
           }
          },
          "colorscale": {
           "diverging": [
            [
             0,
             "#8e0152"
            ],
            [
             0.1,
             "#c51b7d"
            ],
            [
             0.2,
             "#de77ae"
            ],
            [
             0.3,
             "#f1b6da"
            ],
            [
             0.4,
             "#fde0ef"
            ],
            [
             0.5,
             "#f7f7f7"
            ],
            [
             0.6,
             "#e6f5d0"
            ],
            [
             0.7,
             "#b8e186"
            ],
            [
             0.8,
             "#7fbc41"
            ],
            [
             0.9,
             "#4d9221"
            ],
            [
             1,
             "#276419"
            ]
           ],
           "sequential": [
            [
             0,
             "#0d0887"
            ],
            [
             0.1111111111111111,
             "#46039f"
            ],
            [
             0.2222222222222222,
             "#7201a8"
            ],
            [
             0.3333333333333333,
             "#9c179e"
            ],
            [
             0.4444444444444444,
             "#bd3786"
            ],
            [
             0.5555555555555556,
             "#d8576b"
            ],
            [
             0.6666666666666666,
             "#ed7953"
            ],
            [
             0.7777777777777778,
             "#fb9f3a"
            ],
            [
             0.8888888888888888,
             "#fdca26"
            ],
            [
             1,
             "#f0f921"
            ]
           ],
           "sequentialminus": [
            [
             0,
             "#0d0887"
            ],
            [
             0.1111111111111111,
             "#46039f"
            ],
            [
             0.2222222222222222,
             "#7201a8"
            ],
            [
             0.3333333333333333,
             "#9c179e"
            ],
            [
             0.4444444444444444,
             "#bd3786"
            ],
            [
             0.5555555555555556,
             "#d8576b"
            ],
            [
             0.6666666666666666,
             "#ed7953"
            ],
            [
             0.7777777777777778,
             "#fb9f3a"
            ],
            [
             0.8888888888888888,
             "#fdca26"
            ],
            [
             1,
             "#f0f921"
            ]
           ]
          },
          "colorway": [
           "#636efa",
           "#EF553B",
           "#00cc96",
           "#ab63fa",
           "#FFA15A",
           "#19d3f3",
           "#FF6692",
           "#B6E880",
           "#FF97FF",
           "#FECB52"
          ],
          "font": {
           "color": "#2a3f5f"
          },
          "geo": {
           "bgcolor": "white",
           "lakecolor": "white",
           "landcolor": "#E5ECF6",
           "showlakes": true,
           "showland": true,
           "subunitcolor": "white"
          },
          "hoverlabel": {
           "align": "left"
          },
          "hovermode": "closest",
          "mapbox": {
           "style": "light"
          },
          "paper_bgcolor": "white",
          "plot_bgcolor": "#E5ECF6",
          "polar": {
           "angularaxis": {
            "gridcolor": "white",
            "linecolor": "white",
            "ticks": ""
           },
           "bgcolor": "#E5ECF6",
           "radialaxis": {
            "gridcolor": "white",
            "linecolor": "white",
            "ticks": ""
           }
          },
          "scene": {
           "xaxis": {
            "backgroundcolor": "#E5ECF6",
            "gridcolor": "white",
            "gridwidth": 2,
            "linecolor": "white",
            "showbackground": true,
            "ticks": "",
            "zerolinecolor": "white"
           },
           "yaxis": {
            "backgroundcolor": "#E5ECF6",
            "gridcolor": "white",
            "gridwidth": 2,
            "linecolor": "white",
            "showbackground": true,
            "ticks": "",
            "zerolinecolor": "white"
           },
           "zaxis": {
            "backgroundcolor": "#E5ECF6",
            "gridcolor": "white",
            "gridwidth": 2,
            "linecolor": "white",
            "showbackground": true,
            "ticks": "",
            "zerolinecolor": "white"
           }
          },
          "shapedefaults": {
           "line": {
            "color": "#2a3f5f"
           }
          },
          "ternary": {
           "aaxis": {
            "gridcolor": "white",
            "linecolor": "white",
            "ticks": ""
           },
           "baxis": {
            "gridcolor": "white",
            "linecolor": "white",
            "ticks": ""
           },
           "bgcolor": "#E5ECF6",
           "caxis": {
            "gridcolor": "white",
            "linecolor": "white",
            "ticks": ""
           }
          },
          "title": {
           "x": 0.05
          },
          "xaxis": {
           "automargin": true,
           "gridcolor": "white",
           "linecolor": "white",
           "ticks": "",
           "title": {
            "standoff": 15
           },
           "zerolinecolor": "white",
           "zerolinewidth": 2
          },
          "yaxis": {
           "automargin": true,
           "gridcolor": "white",
           "linecolor": "white",
           "ticks": "",
           "title": {
            "standoff": 15
           },
           "zerolinecolor": "white",
           "zerolinewidth": 2
          }
         }
        },
        "title": {
         "text": "Dislikes de videos de Youtube"
        }
       }
      },
      "text/html": [
       "<div>                            <div id=\"dbc0ea00-6559-4254-b242-b694137abb87\" class=\"plotly-graph-div\" style=\"height:525px; width:100%;\"></div>            <script type=\"text/javascript\">                require([\"plotly\"], function(Plotly) {                    window.PLOTLYENV=window.PLOTLYENV || {};                                    if (document.getElementById(\"dbc0ea00-6559-4254-b242-b694137abb87\")) {                    Plotly.newPlot(                        \"dbc0ea00-6559-4254-b242-b694137abb87\",                        [{\"lat\": [32.31823, 66.160507, 34.048927, 34.799999, 36.778259000000006, 39.113014, 41.599998, 39.0, 27.994402, 33.247875, 19.741754999999998, 44.068203000000004, 40.0, 40.273502, 42.032973999999996, 38.5, 37.839333, 30.39183, 45.367584, 39.045753000000005, 42.407211, 44.182204999999996, 46.39241, 33.0, 38.573935999999996, 46.96526, 41.5, 39.876019, 44.0, 39.833851, 34.307144, 43.0, 35.782169, 47.650589000000004, 40.367474, 36.084621000000006, 44.0, 41.203323, 41.700001, 33.836082, 44.5, 35.860119, 31.0, 39.41922, 44.0, 37.926868, 47.751076, 39.0, 44.5, 43.07597], \"locationmode\": \"USA-states\", \"lon\": [-86.902298, -153.36914099999998, -111.09373500000001, -92.199997, -119.41793100000001, -105.35888700000001, -72.699997, -75.5, -81.760254, -83.441162, -155.844437, -114.742043, -89.0, -86.126976, -93.58154300000001, -98.0, -84.27002, -92.329102, -68.97216800000001, -76.641273, -71.382439, -84.50683599999999, -94.63623, -90.0, -92.60376, -109.53369099999999, -100.0, -117.224121, -71.5, -74.871826, -106.01806599999999, -75.0, -80.79345699999999, -100.437012, -82.996216, -96.921387, -120.5, -77.19452700000001, -71.5, -81.16372700000001, -100.0, -86.660156, -100.0, -111.95068400000001, -72.699997, -78.024902, -120.74013500000001, -80.5, -89.5, -107.290283], \"marker\": {\"autocolorscale\": false, \"cmax\": 486050190, \"cmin\": 0, \"color\": [240996698, 288964741, 190487154, 311223065, 187306101, 192470956, 149353575, 290392441, 412582412, 199891888, 219313894, 155815713, 190882977, 163668390, 164945762, 226062652, 191910119, 430219188, 328271567, 486050190, 215240041, 261491791, 337695615, 257953517, 214797746, 391669210, 138666597, 182642993, 236079963, 216883160, 222622879, 335037583, 374309514, 125213372, 174401767, 281991778, 286107232, 238361052, 312292289, 325498272, 381240227, 131904466, 170955804, 321553997, 163603641, 344982368, 164191897, 286060614, 190106943, 156444916], \"colorbar\": {\"title\": {\"text\": \"Cantidad de dislikes\"}}, \"colorscale\": [[0.0, \"rgb(255,245,240)\"], [0.125, \"rgb(254,224,210)\"], [0.25, \"rgb(252,187,161)\"], [0.375, \"rgb(252,146,114)\"], [0.5, \"rgb(251,106,74)\"], [0.625, \"rgb(239,59,44)\"], [0.75, \"rgb(203,24,29)\"], [0.875, \"rgb(165,15,21)\"], [1.0, \"rgb(103,0,13)\"]], \"line\": {\"color\": \"rgba(102, 102, 102)\", \"width\": 1}, \"opacity\": 0.8, \"reversescale\": true, \"size\": 8, \"symbol\": \"square\"}, \"mode\": \"markers\", \"text\": [\"Alabama Dislikes: 297804\", \"Alaska Dislikes: 428642\", \"Arizona Dislikes: 186543\", \"Arkansas Dislikes: 234985\", \"California Dislikes: 227192\", \"Colorado Dislikes: 366977\", \"Connecticut Dislikes: 405321\", \"Delaware Dislikes: 260995\", \"Florida Dislikes: 532436\", \"Georgia Dislikes: 222633\", \"Hawaii Dislikes: 249795\", \"Idaho Dislikes: 316810\", \"Illinois Dislikes: 167191\", \"Indiana Dislikes: 160190\", \"Iowa Dislikes: 228622\", \"Kansas Dislikes: 193233\", \"Kentucky Dislikes: 235678\", \"Louisiana Dislikes: 472666\", \"Maine Dislikes: 639584\", \"Maryland Dislikes: 743015\", \"Massachusetts Dislikes: 240932\", \"Michigan Dislikes: 292650\", \"Minnesota Dislikes: 1982935\", \"Mississippi Dislikes: 551819\", \"Missouri Dislikes: 227621\", \"Montana Dislikes: 412476\", \"Nebraska Dislikes: 238786\", \"Nevada Dislikes: 193295\", \"New Hampshire Dislikes: 233593\", \"New Jersey Dislikes: 357844\", \"New Mexico Dislikes: 252286\", \"New York Dislikes: 851274\", \"North Carolina Dislikes: 440838\", \"North Dakota Dislikes: 151207\", \"Ohio Dislikes: 276599\", \"Oklahoma Dislikes: 340829\", \"Oregon Dislikes: 253472\", \"Pennsylvania Dislikes: 214717\", \"Rhode Island Dislikes: 379486\", \"South Carolina Dislikes: 380325\", \"South Dakota Dislikes: 324073\", \"Tennessee Dislikes: 156437\", \"Texas Dislikes: 211529\", \"Utah Dislikes: 308936\", \"Vermont Dislikes: 199038\", \"Virginia Dislikes: 468140\", \"Washington State Dislikes: 479552\", \"West Virginia Dislikes: 1955979\", \"Wisconsin Dislikes: 211494\", \"Wyoming Dislikes: 320202\"], \"type\": \"scattergeo\"}],                        {\"geo\": {\"countrycolor\": \"rgb(217, 217, 217)\", \"countrywidth\": 0.5, \"landcolor\": \"rgb(250, 250, 250)\", \"projection\": {\"type\": \"albers usa\"}, \"scope\": \"usa\", \"showland\": true, \"subunitcolor\": \"rgb(217, 217, 217)\", \"subunitwidth\": 0.5}, \"template\": {\"data\": {\"bar\": [{\"error_x\": {\"color\": \"#2a3f5f\"}, \"error_y\": {\"color\": \"#2a3f5f\"}, \"marker\": {\"line\": {\"color\": \"#E5ECF6\", \"width\": 0.5}}, \"type\": \"bar\"}], \"barpolar\": [{\"marker\": {\"line\": {\"color\": \"#E5ECF6\", \"width\": 0.5}}, \"type\": \"barpolar\"}], \"carpet\": [{\"aaxis\": {\"endlinecolor\": \"#2a3f5f\", \"gridcolor\": \"white\", \"linecolor\": \"white\", \"minorgridcolor\": \"white\", \"startlinecolor\": \"#2a3f5f\"}, \"baxis\": {\"endlinecolor\": \"#2a3f5f\", \"gridcolor\": \"white\", \"linecolor\": \"white\", \"minorgridcolor\": \"white\", \"startlinecolor\": \"#2a3f5f\"}, \"type\": \"carpet\"}], \"choropleth\": [{\"colorbar\": {\"outlinewidth\": 0, \"ticks\": \"\"}, \"type\": \"choropleth\"}], \"contour\": [{\"colorbar\": {\"outlinewidth\": 0, \"ticks\": \"\"}, \"colorscale\": [[0.0, \"#0d0887\"], [0.1111111111111111, \"#46039f\"], [0.2222222222222222, \"#7201a8\"], [0.3333333333333333, \"#9c179e\"], [0.4444444444444444, \"#bd3786\"], [0.5555555555555556, \"#d8576b\"], [0.6666666666666666, \"#ed7953\"], [0.7777777777777778, \"#fb9f3a\"], [0.8888888888888888, \"#fdca26\"], [1.0, \"#f0f921\"]], \"type\": \"contour\"}], \"contourcarpet\": [{\"colorbar\": {\"outlinewidth\": 0, \"ticks\": \"\"}, \"type\": \"contourcarpet\"}], \"heatmap\": [{\"colorbar\": {\"outlinewidth\": 0, \"ticks\": \"\"}, \"colorscale\": [[0.0, \"#0d0887\"], [0.1111111111111111, \"#46039f\"], [0.2222222222222222, \"#7201a8\"], [0.3333333333333333, \"#9c179e\"], [0.4444444444444444, \"#bd3786\"], [0.5555555555555556, \"#d8576b\"], [0.6666666666666666, \"#ed7953\"], [0.7777777777777778, \"#fb9f3a\"], [0.8888888888888888, \"#fdca26\"], [1.0, \"#f0f921\"]], \"type\": \"heatmap\"}], \"heatmapgl\": [{\"colorbar\": {\"outlinewidth\": 0, \"ticks\": \"\"}, \"colorscale\": [[0.0, \"#0d0887\"], [0.1111111111111111, \"#46039f\"], [0.2222222222222222, \"#7201a8\"], [0.3333333333333333, \"#9c179e\"], [0.4444444444444444, \"#bd3786\"], [0.5555555555555556, \"#d8576b\"], [0.6666666666666666, \"#ed7953\"], [0.7777777777777778, \"#fb9f3a\"], [0.8888888888888888, \"#fdca26\"], [1.0, \"#f0f921\"]], \"type\": \"heatmapgl\"}], \"histogram\": [{\"marker\": {\"colorbar\": {\"outlinewidth\": 0, \"ticks\": \"\"}}, \"type\": \"histogram\"}], \"histogram2d\": [{\"colorbar\": {\"outlinewidth\": 0, \"ticks\": \"\"}, \"colorscale\": [[0.0, \"#0d0887\"], [0.1111111111111111, \"#46039f\"], [0.2222222222222222, \"#7201a8\"], [0.3333333333333333, \"#9c179e\"], [0.4444444444444444, \"#bd3786\"], [0.5555555555555556, \"#d8576b\"], [0.6666666666666666, \"#ed7953\"], [0.7777777777777778, \"#fb9f3a\"], [0.8888888888888888, \"#fdca26\"], [1.0, \"#f0f921\"]], \"type\": \"histogram2d\"}], \"histogram2dcontour\": [{\"colorbar\": {\"outlinewidth\": 0, \"ticks\": \"\"}, \"colorscale\": [[0.0, \"#0d0887\"], [0.1111111111111111, \"#46039f\"], [0.2222222222222222, \"#7201a8\"], [0.3333333333333333, \"#9c179e\"], [0.4444444444444444, \"#bd3786\"], [0.5555555555555556, \"#d8576b\"], [0.6666666666666666, \"#ed7953\"], [0.7777777777777778, \"#fb9f3a\"], [0.8888888888888888, \"#fdca26\"], [1.0, \"#f0f921\"]], \"type\": \"histogram2dcontour\"}], \"mesh3d\": [{\"colorbar\": {\"outlinewidth\": 0, \"ticks\": \"\"}, \"type\": \"mesh3d\"}], \"parcoords\": [{\"line\": {\"colorbar\": {\"outlinewidth\": 0, \"ticks\": \"\"}}, \"type\": \"parcoords\"}], \"pie\": [{\"automargin\": true, \"type\": \"pie\"}], \"scatter\": [{\"marker\": {\"colorbar\": {\"outlinewidth\": 0, \"ticks\": \"\"}}, \"type\": \"scatter\"}], \"scatter3d\": [{\"line\": {\"colorbar\": {\"outlinewidth\": 0, \"ticks\": \"\"}}, \"marker\": {\"colorbar\": {\"outlinewidth\": 0, \"ticks\": \"\"}}, \"type\": \"scatter3d\"}], \"scattercarpet\": [{\"marker\": {\"colorbar\": {\"outlinewidth\": 0, \"ticks\": \"\"}}, \"type\": \"scattercarpet\"}], \"scattergeo\": [{\"marker\": {\"colorbar\": {\"outlinewidth\": 0, \"ticks\": \"\"}}, \"type\": \"scattergeo\"}], \"scattergl\": [{\"marker\": {\"colorbar\": {\"outlinewidth\": 0, \"ticks\": \"\"}}, \"type\": \"scattergl\"}], \"scattermapbox\": [{\"marker\": {\"colorbar\": {\"outlinewidth\": 0, \"ticks\": \"\"}}, \"type\": \"scattermapbox\"}], \"scatterpolar\": [{\"marker\": {\"colorbar\": {\"outlinewidth\": 0, \"ticks\": \"\"}}, \"type\": \"scatterpolar\"}], \"scatterpolargl\": [{\"marker\": {\"colorbar\": {\"outlinewidth\": 0, \"ticks\": \"\"}}, \"type\": \"scatterpolargl\"}], \"scatterternary\": [{\"marker\": {\"colorbar\": {\"outlinewidth\": 0, \"ticks\": \"\"}}, \"type\": \"scatterternary\"}], \"surface\": [{\"colorbar\": {\"outlinewidth\": 0, \"ticks\": \"\"}, \"colorscale\": [[0.0, \"#0d0887\"], [0.1111111111111111, \"#46039f\"], [0.2222222222222222, \"#7201a8\"], [0.3333333333333333, \"#9c179e\"], [0.4444444444444444, \"#bd3786\"], [0.5555555555555556, \"#d8576b\"], [0.6666666666666666, \"#ed7953\"], [0.7777777777777778, \"#fb9f3a\"], [0.8888888888888888, \"#fdca26\"], [1.0, \"#f0f921\"]], \"type\": \"surface\"}], \"table\": [{\"cells\": {\"fill\": {\"color\": \"#EBF0F8\"}, \"line\": {\"color\": \"white\"}}, \"header\": {\"fill\": {\"color\": \"#C8D4E3\"}, \"line\": {\"color\": \"white\"}}, \"type\": \"table\"}]}, \"layout\": {\"annotationdefaults\": {\"arrowcolor\": \"#2a3f5f\", \"arrowhead\": 0, \"arrowwidth\": 1}, \"autotypenumbers\": \"strict\", \"coloraxis\": {\"colorbar\": {\"outlinewidth\": 0, \"ticks\": \"\"}}, \"colorscale\": {\"diverging\": [[0, \"#8e0152\"], [0.1, \"#c51b7d\"], [0.2, \"#de77ae\"], [0.3, \"#f1b6da\"], [0.4, \"#fde0ef\"], [0.5, \"#f7f7f7\"], [0.6, \"#e6f5d0\"], [0.7, \"#b8e186\"], [0.8, \"#7fbc41\"], [0.9, \"#4d9221\"], [1, \"#276419\"]], \"sequential\": [[0.0, \"#0d0887\"], [0.1111111111111111, \"#46039f\"], [0.2222222222222222, \"#7201a8\"], [0.3333333333333333, \"#9c179e\"], [0.4444444444444444, \"#bd3786\"], [0.5555555555555556, \"#d8576b\"], [0.6666666666666666, \"#ed7953\"], [0.7777777777777778, \"#fb9f3a\"], [0.8888888888888888, \"#fdca26\"], [1.0, \"#f0f921\"]], \"sequentialminus\": [[0.0, \"#0d0887\"], [0.1111111111111111, \"#46039f\"], [0.2222222222222222, \"#7201a8\"], [0.3333333333333333, \"#9c179e\"], [0.4444444444444444, \"#bd3786\"], [0.5555555555555556, \"#d8576b\"], [0.6666666666666666, \"#ed7953\"], [0.7777777777777778, \"#fb9f3a\"], [0.8888888888888888, \"#fdca26\"], [1.0, \"#f0f921\"]]}, \"colorway\": [\"#636efa\", \"#EF553B\", \"#00cc96\", \"#ab63fa\", \"#FFA15A\", \"#19d3f3\", \"#FF6692\", \"#B6E880\", \"#FF97FF\", \"#FECB52\"], \"font\": {\"color\": \"#2a3f5f\"}, \"geo\": {\"bgcolor\": \"white\", \"lakecolor\": \"white\", \"landcolor\": \"#E5ECF6\", \"showlakes\": true, \"showland\": true, \"subunitcolor\": \"white\"}, \"hoverlabel\": {\"align\": \"left\"}, \"hovermode\": \"closest\", \"mapbox\": {\"style\": \"light\"}, \"paper_bgcolor\": \"white\", \"plot_bgcolor\": \"#E5ECF6\", \"polar\": {\"angularaxis\": {\"gridcolor\": \"white\", \"linecolor\": \"white\", \"ticks\": \"\"}, \"bgcolor\": \"#E5ECF6\", \"radialaxis\": {\"gridcolor\": \"white\", \"linecolor\": \"white\", \"ticks\": \"\"}}, \"scene\": {\"xaxis\": {\"backgroundcolor\": \"#E5ECF6\", \"gridcolor\": \"white\", \"gridwidth\": 2, \"linecolor\": \"white\", \"showbackground\": true, \"ticks\": \"\", \"zerolinecolor\": \"white\"}, \"yaxis\": {\"backgroundcolor\": \"#E5ECF6\", \"gridcolor\": \"white\", \"gridwidth\": 2, \"linecolor\": \"white\", \"showbackground\": true, \"ticks\": \"\", \"zerolinecolor\": \"white\"}, \"zaxis\": {\"backgroundcolor\": \"#E5ECF6\", \"gridcolor\": \"white\", \"gridwidth\": 2, \"linecolor\": \"white\", \"showbackground\": true, \"ticks\": \"\", \"zerolinecolor\": \"white\"}}, \"shapedefaults\": {\"line\": {\"color\": \"#2a3f5f\"}}, \"ternary\": {\"aaxis\": {\"gridcolor\": \"white\", \"linecolor\": \"white\", \"ticks\": \"\"}, \"baxis\": {\"gridcolor\": \"white\", \"linecolor\": \"white\", \"ticks\": \"\"}, \"bgcolor\": \"#E5ECF6\", \"caxis\": {\"gridcolor\": \"white\", \"linecolor\": \"white\", \"ticks\": \"\"}}, \"title\": {\"x\": 0.05}, \"xaxis\": {\"automargin\": true, \"gridcolor\": \"white\", \"linecolor\": \"white\", \"ticks\": \"\", \"title\": {\"standoff\": 15}, \"zerolinecolor\": \"white\", \"zerolinewidth\": 2}, \"yaxis\": {\"automargin\": true, \"gridcolor\": \"white\", \"linecolor\": \"white\", \"ticks\": \"\", \"title\": {\"standoff\": 15}, \"zerolinecolor\": \"white\", \"zerolinewidth\": 2}}}, \"title\": {\"text\": \"Dislikes de videos de Youtube\"}},                        {\"responsive\": true}                    ).then(function(){\n",
       "                            \n",
       "var gd = document.getElementById('dbc0ea00-6559-4254-b242-b694137abb87');\n",
       "var x = new MutationObserver(function (mutations, observer) {{\n",
       "        var display = window.getComputedStyle(gd).display;\n",
       "        if (!display || display === 'none') {{\n",
       "            console.log([gd, 'removed!']);\n",
       "            Plotly.purge(gd);\n",
       "            observer.disconnect();\n",
       "        }}\n",
       "}});\n",
       "\n",
       "// Listen for the removal of the full notebook cells\n",
       "var notebookContainer = gd.closest('#notebook-container');\n",
       "if (notebookContainer) {{\n",
       "    x.observe(notebookContainer, {childList: true});\n",
       "}}\n",
       "\n",
       "// Listen for the clearing of the current output cell\n",
       "var outputEl = gd.closest('.output');\n",
       "if (outputEl) {{\n",
       "    x.observe(outputEl, {childList: true});\n",
       "}}\n",
       "\n",
       "                        })                };                });            </script>        </div>"
      ]
     },
     "metadata": {},
     "output_type": "display_data"
    }
   ],
   "source": [
    "fig = go.Figure(data=go.Scattergeo(\n",
    "        locationmode = 'USA-states',\n",
    "        lat = pregunta7['lat'],\n",
    "        lon = pregunta7['lon'],\n",
    "        text = pregunta7['state'] + ' Dislikes: ' + pregunta7['dislikes'].astype(str),\n",
    "        mode = 'markers',\n",
    "        marker = dict(\n",
    "            size = 8,\n",
    "            opacity = 0.8,\n",
    "            reversescale = True,\n",
    "            autocolorscale = False,\n",
    "            symbol = 'square',\n",
    "            line = dict(\n",
    "                width=1,\n",
    "                color='rgba(102, 102, 102)'\n",
    "            ),\n",
    "            colorscale = 'Reds',\n",
    "            cmin = 0,\n",
    "            color = pregunta7['views'],\n",
    "            cmax = pregunta7['views'].max(),\n",
    "            colorbar_title=\"Cantidad de dislikes\"\n",
    "        )))\n",
    "\n",
    "fig.update_layout(\n",
    "        title = 'Dislikes de videos de Youtube',\n",
    "        geo = dict(\n",
    "            scope='usa',\n",
    "            projection_type='albers usa',\n",
    "            showland = True,\n",
    "            landcolor = \"rgb(250, 250, 250)\",\n",
    "            subunitcolor = \"rgb(217, 217, 217)\",\n",
    "            countrycolor = \"rgb(217, 217, 217)\",\n",
    "            countrywidth = 0.5,\n",
    "            subunitwidth = 0.5\n",
    "        ),\n",
    "    )\n",
    "fig.show()"
   ]
  },
  {
   "cell_type": "code",
   "execution_count": null,
   "metadata": {},
   "outputs": [],
   "source": []
  }
 ],
 "metadata": {
  "kernelspec": {
   "display_name": "Python 3",
   "language": "python",
   "name": "python3"
  },
  "language_info": {
   "codemirror_mode": {
    "name": "ipython",
    "version": 3
   },
   "file_extension": ".py",
   "mimetype": "text/x-python",
   "name": "python",
   "nbconvert_exporter": "python",
   "pygments_lexer": "ipython3",
   "version": "3.8.5"
  }
 },
 "nbformat": 4,
 "nbformat_minor": 4
}
