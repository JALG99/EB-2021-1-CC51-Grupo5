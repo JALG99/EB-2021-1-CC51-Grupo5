{
 "cells": [
  {
   "cell_type": "markdown",
   "metadata": {},
   "source": [
    "Primero importamos todo lo necesario para el análisis exploratorio de datos. "
   ]
  },
  {
   "cell_type": "code",
   "execution_count": 64,
   "metadata": {},
   "outputs": [],
   "source": [
    "import pandas as pd\n",
    "import json\n",
    "import numpy as np\n",
    "import seaborn as sns\n",
    "import matplotlib.pyplot as plt"
   ]
  },
  {
   "cell_type": "markdown",
   "metadata": {},
   "source": [
    "Carga de datos"
   ]
  },
  {
   "cell_type": "code",
   "execution_count": 65,
   "metadata": {},
   "outputs": [],
   "source": [
    "usVideos = pd.read_csv('USvideos_cc50_202101.csv')"
   ]
  },
  {
   "cell_type": "code",
   "execution_count": 66,
   "metadata": {},
   "outputs": [
    {
     "data": {
      "text/html": [
       "<div>\n",
       "<style scoped>\n",
       "    .dataframe tbody tr th:only-of-type {\n",
       "        vertical-align: middle;\n",
       "    }\n",
       "\n",
       "    .dataframe tbody tr th {\n",
       "        vertical-align: top;\n",
       "    }\n",
       "\n",
       "    .dataframe thead th {\n",
       "        text-align: right;\n",
       "    }\n",
       "</style>\n",
       "<table border=\"1\" class=\"dataframe\">\n",
       "  <thead>\n",
       "    <tr style=\"text-align: right;\">\n",
       "      <th></th>\n",
       "      <th>video_id</th>\n",
       "      <th>trending_date</th>\n",
       "      <th>title</th>\n",
       "      <th>channel_title</th>\n",
       "      <th>category_id</th>\n",
       "      <th>publish_time</th>\n",
       "      <th>tags</th>\n",
       "      <th>views</th>\n",
       "      <th>likes</th>\n",
       "      <th>dislikes</th>\n",
       "      <th>comment_count</th>\n",
       "      <th>thumbnail_link</th>\n",
       "      <th>comments_disabled</th>\n",
       "      <th>ratings_disabled</th>\n",
       "      <th>video_error_or_removed</th>\n",
       "      <th>description</th>\n",
       "      <th>state</th>\n",
       "      <th>lat</th>\n",
       "      <th>lon</th>\n",
       "      <th>geometry</th>\n",
       "    </tr>\n",
       "  </thead>\n",
       "  <tbody>\n",
       "    <tr>\n",
       "      <th>0</th>\n",
       "      <td>2kyS6SvSYSE</td>\n",
       "      <td>17.14.11</td>\n",
       "      <td>WE WANT TO TALK ABOUT OUR MARRIAGE</td>\n",
       "      <td>CaseyNeistat</td>\n",
       "      <td>22</td>\n",
       "      <td>2017-11-13T17:13:01.000Z</td>\n",
       "      <td>SHANtell martin</td>\n",
       "      <td>748374</td>\n",
       "      <td>57527</td>\n",
       "      <td>2966</td>\n",
       "      <td>15954</td>\n",
       "      <td>https://i.ytimg.com/vi/2kyS6SvSYSE/default.jpg</td>\n",
       "      <td>False</td>\n",
       "      <td>False</td>\n",
       "      <td>False</td>\n",
       "      <td>SHANTELL'S CHANNEL - https://www.youtube.com/s...</td>\n",
       "      <td>Utah</td>\n",
       "      <td>39.419220</td>\n",
       "      <td>-111.950684</td>\n",
       "      <td>POINT (-111.950684 39.41922)</td>\n",
       "    </tr>\n",
       "    <tr>\n",
       "      <th>1</th>\n",
       "      <td>1ZAPwfrtAFY</td>\n",
       "      <td>17.14.11</td>\n",
       "      <td>The Trump Presidency: Last Week Tonight with J...</td>\n",
       "      <td>LastWeekTonight</td>\n",
       "      <td>24</td>\n",
       "      <td>2017-11-13T07:30:00.000Z</td>\n",
       "      <td>last week tonight trump presidency|\"last week ...</td>\n",
       "      <td>2418783</td>\n",
       "      <td>97185</td>\n",
       "      <td>6146</td>\n",
       "      <td>12703</td>\n",
       "      <td>https://i.ytimg.com/vi/1ZAPwfrtAFY/default.jpg</td>\n",
       "      <td>False</td>\n",
       "      <td>False</td>\n",
       "      <td>False</td>\n",
       "      <td>One year after the presidential election, John...</td>\n",
       "      <td>Nevada</td>\n",
       "      <td>39.876019</td>\n",
       "      <td>-117.224121</td>\n",
       "      <td>POINT (-117.224121 39.876019)</td>\n",
       "    </tr>\n",
       "    <tr>\n",
       "      <th>2</th>\n",
       "      <td>5qpjK5DgCt4</td>\n",
       "      <td>17.14.11</td>\n",
       "      <td>Racist Superman | Rudy Mancuso, King Bach &amp; Le...</td>\n",
       "      <td>Rudy Mancuso</td>\n",
       "      <td>23</td>\n",
       "      <td>2017-11-12T19:05:24.000Z</td>\n",
       "      <td>racist superman|\"rudy\"|\"mancuso\"|\"king\"|\"bach\"...</td>\n",
       "      <td>3191434</td>\n",
       "      <td>146033</td>\n",
       "      <td>5339</td>\n",
       "      <td>8181</td>\n",
       "      <td>https://i.ytimg.com/vi/5qpjK5DgCt4/default.jpg</td>\n",
       "      <td>False</td>\n",
       "      <td>False</td>\n",
       "      <td>False</td>\n",
       "      <td>WATCH MY PREVIOUS VIDEO ▶ \\n\\nSUBSCRIBE ► http...</td>\n",
       "      <td>Delaware</td>\n",
       "      <td>39.000000</td>\n",
       "      <td>-75.500000</td>\n",
       "      <td>POINT (-75.5 39)</td>\n",
       "    </tr>\n",
       "    <tr>\n",
       "      <th>3</th>\n",
       "      <td>puqaWrEC7tY</td>\n",
       "      <td>17.14.11</td>\n",
       "      <td>Nickelback Lyrics: Real or Fake?</td>\n",
       "      <td>Good Mythical Morning</td>\n",
       "      <td>24</td>\n",
       "      <td>2017-11-13T11:00:04.000Z</td>\n",
       "      <td>rhett and link|\"gmm\"|\"good mythical morning\"|\"...</td>\n",
       "      <td>343168</td>\n",
       "      <td>10172</td>\n",
       "      <td>666</td>\n",
       "      <td>2146</td>\n",
       "      <td>https://i.ytimg.com/vi/puqaWrEC7tY/default.jpg</td>\n",
       "      <td>False</td>\n",
       "      <td>False</td>\n",
       "      <td>False</td>\n",
       "      <td>Today we find out if Link is a Nickelback amat...</td>\n",
       "      <td>Delaware</td>\n",
       "      <td>39.000000</td>\n",
       "      <td>-75.500000</td>\n",
       "      <td>POINT (-75.5 39)</td>\n",
       "    </tr>\n",
       "    <tr>\n",
       "      <th>4</th>\n",
       "      <td>d380meD0W0M</td>\n",
       "      <td>17.14.11</td>\n",
       "      <td>I Dare You: GOING BALD!?</td>\n",
       "      <td>nigahiga</td>\n",
       "      <td>24</td>\n",
       "      <td>2017-11-12T18:01:41.000Z</td>\n",
       "      <td>ryan|\"higa\"|\"higatv\"|\"nigahiga\"|\"i dare you\"|\"...</td>\n",
       "      <td>2095731</td>\n",
       "      <td>132235</td>\n",
       "      <td>1989</td>\n",
       "      <td>17518</td>\n",
       "      <td>https://i.ytimg.com/vi/d380meD0W0M/default.jpg</td>\n",
       "      <td>False</td>\n",
       "      <td>False</td>\n",
       "      <td>False</td>\n",
       "      <td>I know it's been a while since we did this sho...</td>\n",
       "      <td>Michigan</td>\n",
       "      <td>44.182205</td>\n",
       "      <td>-84.506836</td>\n",
       "      <td>POINT (-84.50683600000001 44.182205)</td>\n",
       "    </tr>\n",
       "  </tbody>\n",
       "</table>\n",
       "</div>"
      ],
      "text/plain": [
       "      video_id trending_date  \\\n",
       "0  2kyS6SvSYSE      17.14.11   \n",
       "1  1ZAPwfrtAFY      17.14.11   \n",
       "2  5qpjK5DgCt4      17.14.11   \n",
       "3  puqaWrEC7tY      17.14.11   \n",
       "4  d380meD0W0M      17.14.11   \n",
       "\n",
       "                                               title          channel_title  \\\n",
       "0                 WE WANT TO TALK ABOUT OUR MARRIAGE           CaseyNeistat   \n",
       "1  The Trump Presidency: Last Week Tonight with J...        LastWeekTonight   \n",
       "2  Racist Superman | Rudy Mancuso, King Bach & Le...           Rudy Mancuso   \n",
       "3                   Nickelback Lyrics: Real or Fake?  Good Mythical Morning   \n",
       "4                           I Dare You: GOING BALD!?               nigahiga   \n",
       "\n",
       "   category_id              publish_time  \\\n",
       "0           22  2017-11-13T17:13:01.000Z   \n",
       "1           24  2017-11-13T07:30:00.000Z   \n",
       "2           23  2017-11-12T19:05:24.000Z   \n",
       "3           24  2017-11-13T11:00:04.000Z   \n",
       "4           24  2017-11-12T18:01:41.000Z   \n",
       "\n",
       "                                                tags    views   likes  \\\n",
       "0                                    SHANtell martin   748374   57527   \n",
       "1  last week tonight trump presidency|\"last week ...  2418783   97185   \n",
       "2  racist superman|\"rudy\"|\"mancuso\"|\"king\"|\"bach\"...  3191434  146033   \n",
       "3  rhett and link|\"gmm\"|\"good mythical morning\"|\"...   343168   10172   \n",
       "4  ryan|\"higa\"|\"higatv\"|\"nigahiga\"|\"i dare you\"|\"...  2095731  132235   \n",
       "\n",
       "   dislikes  comment_count                                  thumbnail_link  \\\n",
       "0      2966          15954  https://i.ytimg.com/vi/2kyS6SvSYSE/default.jpg   \n",
       "1      6146          12703  https://i.ytimg.com/vi/1ZAPwfrtAFY/default.jpg   \n",
       "2      5339           8181  https://i.ytimg.com/vi/5qpjK5DgCt4/default.jpg   \n",
       "3       666           2146  https://i.ytimg.com/vi/puqaWrEC7tY/default.jpg   \n",
       "4      1989          17518  https://i.ytimg.com/vi/d380meD0W0M/default.jpg   \n",
       "\n",
       "   comments_disabled  ratings_disabled  video_error_or_removed  \\\n",
       "0              False             False                   False   \n",
       "1              False             False                   False   \n",
       "2              False             False                   False   \n",
       "3              False             False                   False   \n",
       "4              False             False                   False   \n",
       "\n",
       "                                         description     state        lat  \\\n",
       "0  SHANTELL'S CHANNEL - https://www.youtube.com/s...      Utah  39.419220   \n",
       "1  One year after the presidential election, John...    Nevada  39.876019   \n",
       "2  WATCH MY PREVIOUS VIDEO ▶ \\n\\nSUBSCRIBE ► http...  Delaware  39.000000   \n",
       "3  Today we find out if Link is a Nickelback amat...  Delaware  39.000000   \n",
       "4  I know it's been a while since we did this sho...  Michigan  44.182205   \n",
       "\n",
       "          lon                              geometry  \n",
       "0 -111.950684          POINT (-111.950684 39.41922)  \n",
       "1 -117.224121         POINT (-117.224121 39.876019)  \n",
       "2  -75.500000                      POINT (-75.5 39)  \n",
       "3  -75.500000                      POINT (-75.5 39)  \n",
       "4  -84.506836  POINT (-84.50683600000001 44.182205)  "
      ]
     },
     "execution_count": 66,
     "metadata": {},
     "output_type": "execute_result"
    }
   ],
   "source": [
    "usVideos.head()"
   ]
  },
  {
   "cell_type": "code",
   "execution_count": 67,
   "metadata": {},
   "outputs": [
    {
     "name": "stdout",
     "output_type": "stream",
     "text": [
      "<class 'pandas.core.frame.DataFrame'>\n",
      "RangeIndex: 40949 entries, 0 to 40948\n",
      "Data columns (total 20 columns):\n",
      " #   Column                  Non-Null Count  Dtype  \n",
      "---  ------                  --------------  -----  \n",
      " 0   video_id                40949 non-null  object \n",
      " 1   trending_date           40949 non-null  object \n",
      " 2   title                   40949 non-null  object \n",
      " 3   channel_title           40949 non-null  object \n",
      " 4   category_id             40949 non-null  int64  \n",
      " 5   publish_time            40949 non-null  object \n",
      " 6   tags                    40949 non-null  object \n",
      " 7   views                   40949 non-null  int64  \n",
      " 8   likes                   40949 non-null  int64  \n",
      " 9   dislikes                40949 non-null  int64  \n",
      " 10  comment_count           40949 non-null  int64  \n",
      " 11  thumbnail_link          40949 non-null  object \n",
      " 12  comments_disabled       40949 non-null  bool   \n",
      " 13  ratings_disabled        40949 non-null  bool   \n",
      " 14  video_error_or_removed  40949 non-null  bool   \n",
      " 15  description             40379 non-null  object \n",
      " 16  state                   40949 non-null  object \n",
      " 17  lat                     40949 non-null  float64\n",
      " 18  lon                     40949 non-null  float64\n",
      " 19  geometry                40949 non-null  object \n",
      "dtypes: bool(3), float64(2), int64(5), object(10)\n",
      "memory usage: 5.4+ MB\n"
     ]
    }
   ],
   "source": [
    "usVideos.info()"
   ]
  },
  {
   "cell_type": "code",
   "execution_count": 68,
   "metadata": {},
   "outputs": [],
   "source": [
    "# load data using Python JSON module\n",
    "with open('US_category_id.json','r') as f:\n",
    "    data = json.loads(f.read())\n",
    "\n",
    "# Normalizing data\n",
    "multiple_level_data = pd.json_normalize(data, record_path =['items'], meta =['kind','etag'], meta_prefix='config_params_', record_prefix='dbscan_')\n",
    "\n",
    "# Saving to CSV format\n",
    "multiple_level_data.to_csv('US_vategory_id.csv', index=False)\n",
    "\n",
    "cat = pd.read_csv('US_vategory_id.csv')"
   ]
  },
  {
   "cell_type": "code",
   "execution_count": 69,
   "metadata": {},
   "outputs": [
    {
     "data": {
      "text/html": [
       "<div>\n",
       "<style scoped>\n",
       "    .dataframe tbody tr th:only-of-type {\n",
       "        vertical-align: middle;\n",
       "    }\n",
       "\n",
       "    .dataframe tbody tr th {\n",
       "        vertical-align: top;\n",
       "    }\n",
       "\n",
       "    .dataframe thead th {\n",
       "        text-align: right;\n",
       "    }\n",
       "</style>\n",
       "<table border=\"1\" class=\"dataframe\">\n",
       "  <thead>\n",
       "    <tr style=\"text-align: right;\">\n",
       "      <th></th>\n",
       "      <th>dbscan_kind</th>\n",
       "      <th>dbscan_etag</th>\n",
       "      <th>dbscan_id</th>\n",
       "      <th>dbscan_snippet.channelId</th>\n",
       "      <th>dbscan_snippet.title</th>\n",
       "      <th>dbscan_snippet.assignable</th>\n",
       "      <th>config_params_kind</th>\n",
       "      <th>config_params_etag</th>\n",
       "    </tr>\n",
       "  </thead>\n",
       "  <tbody>\n",
       "    <tr>\n",
       "      <th>0</th>\n",
       "      <td>youtube#videoCategory</td>\n",
       "      <td>\"m2yskBQFythfE4irbTIeOgYYfBU/Xy1mB4_yLrHy_BmKm...</td>\n",
       "      <td>1</td>\n",
       "      <td>UCBR8-60-B28hp2BmDPdntcQ</td>\n",
       "      <td>Film &amp; Animation</td>\n",
       "      <td>True</td>\n",
       "      <td>youtube#videoCategoryListResponse</td>\n",
       "      <td>\"m2yskBQFythfE4irbTIeOgYYfBU/S730Ilt-Fi-emsQJv...</td>\n",
       "    </tr>\n",
       "    <tr>\n",
       "      <th>1</th>\n",
       "      <td>youtube#videoCategory</td>\n",
       "      <td>\"m2yskBQFythfE4irbTIeOgYYfBU/UZ1oLIIz2dxIhO45Z...</td>\n",
       "      <td>2</td>\n",
       "      <td>UCBR8-60-B28hp2BmDPdntcQ</td>\n",
       "      <td>Autos &amp; Vehicles</td>\n",
       "      <td>True</td>\n",
       "      <td>youtube#videoCategoryListResponse</td>\n",
       "      <td>\"m2yskBQFythfE4irbTIeOgYYfBU/S730Ilt-Fi-emsQJv...</td>\n",
       "    </tr>\n",
       "    <tr>\n",
       "      <th>2</th>\n",
       "      <td>youtube#videoCategory</td>\n",
       "      <td>\"m2yskBQFythfE4irbTIeOgYYfBU/nqRIq97-xe5XRZTxb...</td>\n",
       "      <td>10</td>\n",
       "      <td>UCBR8-60-B28hp2BmDPdntcQ</td>\n",
       "      <td>Music</td>\n",
       "      <td>True</td>\n",
       "      <td>youtube#videoCategoryListResponse</td>\n",
       "      <td>\"m2yskBQFythfE4irbTIeOgYYfBU/S730Ilt-Fi-emsQJv...</td>\n",
       "    </tr>\n",
       "    <tr>\n",
       "      <th>3</th>\n",
       "      <td>youtube#videoCategory</td>\n",
       "      <td>\"m2yskBQFythfE4irbTIeOgYYfBU/HwXKamM1Q20q9BN-o...</td>\n",
       "      <td>15</td>\n",
       "      <td>UCBR8-60-B28hp2BmDPdntcQ</td>\n",
       "      <td>Pets &amp; Animals</td>\n",
       "      <td>True</td>\n",
       "      <td>youtube#videoCategoryListResponse</td>\n",
       "      <td>\"m2yskBQFythfE4irbTIeOgYYfBU/S730Ilt-Fi-emsQJv...</td>\n",
       "    </tr>\n",
       "    <tr>\n",
       "      <th>4</th>\n",
       "      <td>youtube#videoCategory</td>\n",
       "      <td>\"m2yskBQFythfE4irbTIeOgYYfBU/9GQMSRjrZdHeb1OEM...</td>\n",
       "      <td>17</td>\n",
       "      <td>UCBR8-60-B28hp2BmDPdntcQ</td>\n",
       "      <td>Sports</td>\n",
       "      <td>True</td>\n",
       "      <td>youtube#videoCategoryListResponse</td>\n",
       "      <td>\"m2yskBQFythfE4irbTIeOgYYfBU/S730Ilt-Fi-emsQJv...</td>\n",
       "    </tr>\n",
       "  </tbody>\n",
       "</table>\n",
       "</div>"
      ],
      "text/plain": [
       "             dbscan_kind                                        dbscan_etag  \\\n",
       "0  youtube#videoCategory  \"m2yskBQFythfE4irbTIeOgYYfBU/Xy1mB4_yLrHy_BmKm...   \n",
       "1  youtube#videoCategory  \"m2yskBQFythfE4irbTIeOgYYfBU/UZ1oLIIz2dxIhO45Z...   \n",
       "2  youtube#videoCategory  \"m2yskBQFythfE4irbTIeOgYYfBU/nqRIq97-xe5XRZTxb...   \n",
       "3  youtube#videoCategory  \"m2yskBQFythfE4irbTIeOgYYfBU/HwXKamM1Q20q9BN-o...   \n",
       "4  youtube#videoCategory  \"m2yskBQFythfE4irbTIeOgYYfBU/9GQMSRjrZdHeb1OEM...   \n",
       "\n",
       "   dbscan_id  dbscan_snippet.channelId dbscan_snippet.title  \\\n",
       "0          1  UCBR8-60-B28hp2BmDPdntcQ     Film & Animation   \n",
       "1          2  UCBR8-60-B28hp2BmDPdntcQ     Autos & Vehicles   \n",
       "2         10  UCBR8-60-B28hp2BmDPdntcQ                Music   \n",
       "3         15  UCBR8-60-B28hp2BmDPdntcQ       Pets & Animals   \n",
       "4         17  UCBR8-60-B28hp2BmDPdntcQ               Sports   \n",
       "\n",
       "   dbscan_snippet.assignable                 config_params_kind  \\\n",
       "0                       True  youtube#videoCategoryListResponse   \n",
       "1                       True  youtube#videoCategoryListResponse   \n",
       "2                       True  youtube#videoCategoryListResponse   \n",
       "3                       True  youtube#videoCategoryListResponse   \n",
       "4                       True  youtube#videoCategoryListResponse   \n",
       "\n",
       "                                  config_params_etag  \n",
       "0  \"m2yskBQFythfE4irbTIeOgYYfBU/S730Ilt-Fi-emsQJv...  \n",
       "1  \"m2yskBQFythfE4irbTIeOgYYfBU/S730Ilt-Fi-emsQJv...  \n",
       "2  \"m2yskBQFythfE4irbTIeOgYYfBU/S730Ilt-Fi-emsQJv...  \n",
       "3  \"m2yskBQFythfE4irbTIeOgYYfBU/S730Ilt-Fi-emsQJv...  \n",
       "4  \"m2yskBQFythfE4irbTIeOgYYfBU/S730Ilt-Fi-emsQJv...  "
      ]
     },
     "execution_count": 69,
     "metadata": {},
     "output_type": "execute_result"
    }
   ],
   "source": [
    "cat.head()"
   ]
  },
  {
   "cell_type": "code",
   "execution_count": 70,
   "metadata": {},
   "outputs": [
    {
     "name": "stdout",
     "output_type": "stream",
     "text": [
      "<class 'pandas.core.frame.DataFrame'>\n",
      "RangeIndex: 32 entries, 0 to 31\n",
      "Data columns (total 8 columns):\n",
      " #   Column                     Non-Null Count  Dtype \n",
      "---  ------                     --------------  ----- \n",
      " 0   dbscan_kind                32 non-null     object\n",
      " 1   dbscan_etag                32 non-null     object\n",
      " 2   dbscan_id                  32 non-null     int64 \n",
      " 3   dbscan_snippet.channelId   32 non-null     object\n",
      " 4   dbscan_snippet.title       32 non-null     object\n",
      " 5   dbscan_snippet.assignable  32 non-null     bool  \n",
      " 6   config_params_kind         32 non-null     object\n",
      " 7   config_params_etag         32 non-null     object\n",
      "dtypes: bool(1), int64(1), object(6)\n",
      "memory usage: 1.9+ KB\n"
     ]
    }
   ],
   "source": [
    "cat.info()"
   ]
  },
  {
   "cell_type": "markdown",
   "metadata": {},
   "source": [
    "Ahora que contamos con el dataset principal de videos de youtube y las categorías, debemos unirlos."
   ]
  },
  {
   "cell_type": "code",
   "execution_count": 71,
   "metadata": {},
   "outputs": [],
   "source": [
    "newUSVideos = usVideos.merge(cat, left_on='category_id',right_on='dbscan_id', how='inner')"
   ]
  },
  {
   "cell_type": "code",
   "execution_count": 72,
   "metadata": {},
   "outputs": [
    {
     "data": {
      "text/html": [
       "<div>\n",
       "<style scoped>\n",
       "    .dataframe tbody tr th:only-of-type {\n",
       "        vertical-align: middle;\n",
       "    }\n",
       "\n",
       "    .dataframe tbody tr th {\n",
       "        vertical-align: top;\n",
       "    }\n",
       "\n",
       "    .dataframe thead th {\n",
       "        text-align: right;\n",
       "    }\n",
       "</style>\n",
       "<table border=\"1\" class=\"dataframe\">\n",
       "  <thead>\n",
       "    <tr style=\"text-align: right;\">\n",
       "      <th></th>\n",
       "      <th>video_id</th>\n",
       "      <th>trending_date</th>\n",
       "      <th>title</th>\n",
       "      <th>channel_title</th>\n",
       "      <th>category_id</th>\n",
       "      <th>publish_time</th>\n",
       "      <th>tags</th>\n",
       "      <th>views</th>\n",
       "      <th>likes</th>\n",
       "      <th>dislikes</th>\n",
       "      <th>...</th>\n",
       "      <th>lon</th>\n",
       "      <th>geometry</th>\n",
       "      <th>dbscan_kind</th>\n",
       "      <th>dbscan_etag</th>\n",
       "      <th>dbscan_id</th>\n",
       "      <th>dbscan_snippet.channelId</th>\n",
       "      <th>dbscan_snippet.title</th>\n",
       "      <th>dbscan_snippet.assignable</th>\n",
       "      <th>config_params_kind</th>\n",
       "      <th>config_params_etag</th>\n",
       "    </tr>\n",
       "  </thead>\n",
       "  <tbody>\n",
       "    <tr>\n",
       "      <th>0</th>\n",
       "      <td>2kyS6SvSYSE</td>\n",
       "      <td>17.14.11</td>\n",
       "      <td>WE WANT TO TALK ABOUT OUR MARRIAGE</td>\n",
       "      <td>CaseyNeistat</td>\n",
       "      <td>22</td>\n",
       "      <td>2017-11-13T17:13:01.000Z</td>\n",
       "      <td>SHANtell martin</td>\n",
       "      <td>748374</td>\n",
       "      <td>57527</td>\n",
       "      <td>2966</td>\n",
       "      <td>...</td>\n",
       "      <td>-111.950684</td>\n",
       "      <td>POINT (-111.950684 39.41922)</td>\n",
       "      <td>youtube#videoCategory</td>\n",
       "      <td>\"m2yskBQFythfE4irbTIeOgYYfBU/xId8RX7vRN8rqkbYZ...</td>\n",
       "      <td>22</td>\n",
       "      <td>UCBR8-60-B28hp2BmDPdntcQ</td>\n",
       "      <td>People &amp; Blogs</td>\n",
       "      <td>True</td>\n",
       "      <td>youtube#videoCategoryListResponse</td>\n",
       "      <td>\"m2yskBQFythfE4irbTIeOgYYfBU/S730Ilt-Fi-emsQJv...</td>\n",
       "    </tr>\n",
       "    <tr>\n",
       "      <th>1</th>\n",
       "      <td>0mlNzVSJrT0</td>\n",
       "      <td>17.14.11</td>\n",
       "      <td>Me-O Cats Commercial</td>\n",
       "      <td>Nobrand</td>\n",
       "      <td>22</td>\n",
       "      <td>2017-04-21T06:47:32.000Z</td>\n",
       "      <td>cute|\"cats\"|\"thai\"|\"eggs\"</td>\n",
       "      <td>98966</td>\n",
       "      <td>2486</td>\n",
       "      <td>184</td>\n",
       "      <td>...</td>\n",
       "      <td>-155.844437</td>\n",
       "      <td>POINT (-155.844437 19.741755)</td>\n",
       "      <td>youtube#videoCategory</td>\n",
       "      <td>\"m2yskBQFythfE4irbTIeOgYYfBU/xId8RX7vRN8rqkbYZ...</td>\n",
       "      <td>22</td>\n",
       "      <td>UCBR8-60-B28hp2BmDPdntcQ</td>\n",
       "      <td>People &amp; Blogs</td>\n",
       "      <td>True</td>\n",
       "      <td>youtube#videoCategoryListResponse</td>\n",
       "      <td>\"m2yskBQFythfE4irbTIeOgYYfBU/S730Ilt-Fi-emsQJv...</td>\n",
       "    </tr>\n",
       "    <tr>\n",
       "      <th>2</th>\n",
       "      <td>STI2fI7sKMo</td>\n",
       "      <td>17.14.11</td>\n",
       "      <td>AFFAIRS, EX BOYFRIENDS, $18MILLION NET WORTH -...</td>\n",
       "      <td>Shawn Johnson East</td>\n",
       "      <td>22</td>\n",
       "      <td>2017-11-11T15:00:03.000Z</td>\n",
       "      <td>shawn johnson|\"andrew east\"|\"shawn east\"|\"shaw...</td>\n",
       "      <td>321053</td>\n",
       "      <td>4451</td>\n",
       "      <td>1772</td>\n",
       "      <td>...</td>\n",
       "      <td>-96.921387</td>\n",
       "      <td>POINT (-96.921387 36.084621)</td>\n",
       "      <td>youtube#videoCategory</td>\n",
       "      <td>\"m2yskBQFythfE4irbTIeOgYYfBU/xId8RX7vRN8rqkbYZ...</td>\n",
       "      <td>22</td>\n",
       "      <td>UCBR8-60-B28hp2BmDPdntcQ</td>\n",
       "      <td>People &amp; Blogs</td>\n",
       "      <td>True</td>\n",
       "      <td>youtube#videoCategoryListResponse</td>\n",
       "      <td>\"m2yskBQFythfE4irbTIeOgYYfBU/S730Ilt-Fi-emsQJv...</td>\n",
       "    </tr>\n",
       "    <tr>\n",
       "      <th>3</th>\n",
       "      <td>KODzih-pYlU</td>\n",
       "      <td>17.14.11</td>\n",
       "      <td>BLIND(folded) CAKE DECORATING CONTEST (with Mo...</td>\n",
       "      <td>Grace Helbig</td>\n",
       "      <td>22</td>\n",
       "      <td>2017-11-11T18:08:04.000Z</td>\n",
       "      <td>itsgrace|\"funny\"|\"comedy\"|\"vlog\"|\"grace\"|\"helb...</td>\n",
       "      <td>197062</td>\n",
       "      <td>7250</td>\n",
       "      <td>217</td>\n",
       "      <td>...</td>\n",
       "      <td>-111.950684</td>\n",
       "      <td>POINT (-111.950684 39.41922)</td>\n",
       "      <td>youtube#videoCategory</td>\n",
       "      <td>\"m2yskBQFythfE4irbTIeOgYYfBU/xId8RX7vRN8rqkbYZ...</td>\n",
       "      <td>22</td>\n",
       "      <td>UCBR8-60-B28hp2BmDPdntcQ</td>\n",
       "      <td>People &amp; Blogs</td>\n",
       "      <td>True</td>\n",
       "      <td>youtube#videoCategoryListResponse</td>\n",
       "      <td>\"m2yskBQFythfE4irbTIeOgYYfBU/S730Ilt-Fi-emsQJv...</td>\n",
       "    </tr>\n",
       "    <tr>\n",
       "      <th>4</th>\n",
       "      <td>8mhTWqWlQzU</td>\n",
       "      <td>17.14.11</td>\n",
       "      <td>Wearing Online Dollar Store Makeup For A Week</td>\n",
       "      <td>Safiya Nygaard</td>\n",
       "      <td>22</td>\n",
       "      <td>2017-11-11T01:19:33.000Z</td>\n",
       "      <td>wearing online dollar store makeup for a week|...</td>\n",
       "      <td>2744430</td>\n",
       "      <td>115426</td>\n",
       "      <td>1110</td>\n",
       "      <td>...</td>\n",
       "      <td>-100.000000</td>\n",
       "      <td>POINT (-100 41.5)</td>\n",
       "      <td>youtube#videoCategory</td>\n",
       "      <td>\"m2yskBQFythfE4irbTIeOgYYfBU/xId8RX7vRN8rqkbYZ...</td>\n",
       "      <td>22</td>\n",
       "      <td>UCBR8-60-B28hp2BmDPdntcQ</td>\n",
       "      <td>People &amp; Blogs</td>\n",
       "      <td>True</td>\n",
       "      <td>youtube#videoCategoryListResponse</td>\n",
       "      <td>\"m2yskBQFythfE4irbTIeOgYYfBU/S730Ilt-Fi-emsQJv...</td>\n",
       "    </tr>\n",
       "  </tbody>\n",
       "</table>\n",
       "<p>5 rows × 28 columns</p>\n",
       "</div>"
      ],
      "text/plain": [
       "      video_id trending_date  \\\n",
       "0  2kyS6SvSYSE      17.14.11   \n",
       "1  0mlNzVSJrT0      17.14.11   \n",
       "2  STI2fI7sKMo      17.14.11   \n",
       "3  KODzih-pYlU      17.14.11   \n",
       "4  8mhTWqWlQzU      17.14.11   \n",
       "\n",
       "                                               title       channel_title  \\\n",
       "0                 WE WANT TO TALK ABOUT OUR MARRIAGE        CaseyNeistat   \n",
       "1                               Me-O Cats Commercial             Nobrand   \n",
       "2  AFFAIRS, EX BOYFRIENDS, $18MILLION NET WORTH -...  Shawn Johnson East   \n",
       "3  BLIND(folded) CAKE DECORATING CONTEST (with Mo...        Grace Helbig   \n",
       "4      Wearing Online Dollar Store Makeup For A Week      Safiya Nygaard   \n",
       "\n",
       "   category_id              publish_time  \\\n",
       "0           22  2017-11-13T17:13:01.000Z   \n",
       "1           22  2017-04-21T06:47:32.000Z   \n",
       "2           22  2017-11-11T15:00:03.000Z   \n",
       "3           22  2017-11-11T18:08:04.000Z   \n",
       "4           22  2017-11-11T01:19:33.000Z   \n",
       "\n",
       "                                                tags    views   likes  \\\n",
       "0                                    SHANtell martin   748374   57527   \n",
       "1                          cute|\"cats\"|\"thai\"|\"eggs\"    98966    2486   \n",
       "2  shawn johnson|\"andrew east\"|\"shawn east\"|\"shaw...   321053    4451   \n",
       "3  itsgrace|\"funny\"|\"comedy\"|\"vlog\"|\"grace\"|\"helb...   197062    7250   \n",
       "4  wearing online dollar store makeup for a week|...  2744430  115426   \n",
       "\n",
       "   dislikes  ...         lon                       geometry  \\\n",
       "0      2966  ... -111.950684   POINT (-111.950684 39.41922)   \n",
       "1       184  ... -155.844437  POINT (-155.844437 19.741755)   \n",
       "2      1772  ...  -96.921387   POINT (-96.921387 36.084621)   \n",
       "3       217  ... -111.950684   POINT (-111.950684 39.41922)   \n",
       "4      1110  ... -100.000000              POINT (-100 41.5)   \n",
       "\n",
       "             dbscan_kind                                        dbscan_etag  \\\n",
       "0  youtube#videoCategory  \"m2yskBQFythfE4irbTIeOgYYfBU/xId8RX7vRN8rqkbYZ...   \n",
       "1  youtube#videoCategory  \"m2yskBQFythfE4irbTIeOgYYfBU/xId8RX7vRN8rqkbYZ...   \n",
       "2  youtube#videoCategory  \"m2yskBQFythfE4irbTIeOgYYfBU/xId8RX7vRN8rqkbYZ...   \n",
       "3  youtube#videoCategory  \"m2yskBQFythfE4irbTIeOgYYfBU/xId8RX7vRN8rqkbYZ...   \n",
       "4  youtube#videoCategory  \"m2yskBQFythfE4irbTIeOgYYfBU/xId8RX7vRN8rqkbYZ...   \n",
       "\n",
       "   dbscan_id  dbscan_snippet.channelId dbscan_snippet.title  \\\n",
       "0         22  UCBR8-60-B28hp2BmDPdntcQ       People & Blogs   \n",
       "1         22  UCBR8-60-B28hp2BmDPdntcQ       People & Blogs   \n",
       "2         22  UCBR8-60-B28hp2BmDPdntcQ       People & Blogs   \n",
       "3         22  UCBR8-60-B28hp2BmDPdntcQ       People & Blogs   \n",
       "4         22  UCBR8-60-B28hp2BmDPdntcQ       People & Blogs   \n",
       "\n",
       "   dbscan_snippet.assignable                 config_params_kind  \\\n",
       "0                       True  youtube#videoCategoryListResponse   \n",
       "1                       True  youtube#videoCategoryListResponse   \n",
       "2                       True  youtube#videoCategoryListResponse   \n",
       "3                       True  youtube#videoCategoryListResponse   \n",
       "4                       True  youtube#videoCategoryListResponse   \n",
       "\n",
       "                                  config_params_etag  \n",
       "0  \"m2yskBQFythfE4irbTIeOgYYfBU/S730Ilt-Fi-emsQJv...  \n",
       "1  \"m2yskBQFythfE4irbTIeOgYYfBU/S730Ilt-Fi-emsQJv...  \n",
       "2  \"m2yskBQFythfE4irbTIeOgYYfBU/S730Ilt-Fi-emsQJv...  \n",
       "3  \"m2yskBQFythfE4irbTIeOgYYfBU/S730Ilt-Fi-emsQJv...  \n",
       "4  \"m2yskBQFythfE4irbTIeOgYYfBU/S730Ilt-Fi-emsQJv...  \n",
       "\n",
       "[5 rows x 28 columns]"
      ]
     },
     "execution_count": 72,
     "metadata": {},
     "output_type": "execute_result"
    }
   ],
   "source": [
    "newUSVideos.head()"
   ]
  },
  {
   "cell_type": "code",
   "execution_count": 73,
   "metadata": {},
   "outputs": [
    {
     "name": "stdout",
     "output_type": "stream",
     "text": [
      "<class 'pandas.core.frame.DataFrame'>\n",
      "Int64Index: 40949 entries, 0 to 40948\n",
      "Data columns (total 28 columns):\n",
      " #   Column                     Non-Null Count  Dtype  \n",
      "---  ------                     --------------  -----  \n",
      " 0   video_id                   40949 non-null  object \n",
      " 1   trending_date              40949 non-null  object \n",
      " 2   title                      40949 non-null  object \n",
      " 3   channel_title              40949 non-null  object \n",
      " 4   category_id                40949 non-null  int64  \n",
      " 5   publish_time               40949 non-null  object \n",
      " 6   tags                       40949 non-null  object \n",
      " 7   views                      40949 non-null  int64  \n",
      " 8   likes                      40949 non-null  int64  \n",
      " 9   dislikes                   40949 non-null  int64  \n",
      " 10  comment_count              40949 non-null  int64  \n",
      " 11  thumbnail_link             40949 non-null  object \n",
      " 12  comments_disabled          40949 non-null  bool   \n",
      " 13  ratings_disabled           40949 non-null  bool   \n",
      " 14  video_error_or_removed     40949 non-null  bool   \n",
      " 15  description                40379 non-null  object \n",
      " 16  state                      40949 non-null  object \n",
      " 17  lat                        40949 non-null  float64\n",
      " 18  lon                        40949 non-null  float64\n",
      " 19  geometry                   40949 non-null  object \n",
      " 20  dbscan_kind                40949 non-null  object \n",
      " 21  dbscan_etag                40949 non-null  object \n",
      " 22  dbscan_id                  40949 non-null  int64  \n",
      " 23  dbscan_snippet.channelId   40949 non-null  object \n",
      " 24  dbscan_snippet.title       40949 non-null  object \n",
      " 25  dbscan_snippet.assignable  40949 non-null  bool   \n",
      " 26  config_params_kind         40949 non-null  object \n",
      " 27  config_params_etag         40949 non-null  object \n",
      "dtypes: bool(4), float64(2), int64(6), object(16)\n",
      "memory usage: 8.0+ MB\n"
     ]
    }
   ],
   "source": [
    "newUSVideos.info()"
   ]
  },
  {
   "cell_type": "markdown",
   "metadata": {},
   "source": [
    "Una vez unidos elminaremos todas las columnas que no necesitamos para el análisis."
   ]
  },
  {
   "cell_type": "code",
   "execution_count": 74,
   "metadata": {},
   "outputs": [],
   "source": [
    "newUSVideos.drop(['dbscan_kind','dbscan_etag','dbscan_id','dbscan_snippet.channelId','dbscan_snippet.assignable',\n",
    "                 'config_params_kind','config_params_etag'],axis=1,inplace=True)"
   ]
  },
  {
   "cell_type": "code",
   "execution_count": 75,
   "metadata": {},
   "outputs": [
    {
     "name": "stdout",
     "output_type": "stream",
     "text": [
      "<class 'pandas.core.frame.DataFrame'>\n",
      "Int64Index: 40949 entries, 0 to 40948\n",
      "Data columns (total 21 columns):\n",
      " #   Column                  Non-Null Count  Dtype  \n",
      "---  ------                  --------------  -----  \n",
      " 0   video_id                40949 non-null  object \n",
      " 1   trending_date           40949 non-null  object \n",
      " 2   title                   40949 non-null  object \n",
      " 3   channel_title           40949 non-null  object \n",
      " 4   category_id             40949 non-null  int64  \n",
      " 5   publish_time            40949 non-null  object \n",
      " 6   tags                    40949 non-null  object \n",
      " 7   views                   40949 non-null  int64  \n",
      " 8   likes                   40949 non-null  int64  \n",
      " 9   dislikes                40949 non-null  int64  \n",
      " 10  comment_count           40949 non-null  int64  \n",
      " 11  thumbnail_link          40949 non-null  object \n",
      " 12  comments_disabled       40949 non-null  bool   \n",
      " 13  ratings_disabled        40949 non-null  bool   \n",
      " 14  video_error_or_removed  40949 non-null  bool   \n",
      " 15  description             40379 non-null  object \n",
      " 16  state                   40949 non-null  object \n",
      " 17  lat                     40949 non-null  float64\n",
      " 18  lon                     40949 non-null  float64\n",
      " 19  geometry                40949 non-null  object \n",
      " 20  dbscan_snippet.title    40949 non-null  object \n",
      "dtypes: bool(3), float64(2), int64(5), object(11)\n",
      "memory usage: 6.1+ MB\n"
     ]
    }
   ],
   "source": [
    "newUSVideos.info()"
   ]
  },
  {
   "cell_type": "code",
   "execution_count": 76,
   "metadata": {},
   "outputs": [
    {
     "data": {
      "text/html": [
       "<div>\n",
       "<style scoped>\n",
       "    .dataframe tbody tr th:only-of-type {\n",
       "        vertical-align: middle;\n",
       "    }\n",
       "\n",
       "    .dataframe tbody tr th {\n",
       "        vertical-align: top;\n",
       "    }\n",
       "\n",
       "    .dataframe thead th {\n",
       "        text-align: right;\n",
       "    }\n",
       "</style>\n",
       "<table border=\"1\" class=\"dataframe\">\n",
       "  <thead>\n",
       "    <tr style=\"text-align: right;\">\n",
       "      <th></th>\n",
       "      <th>video_id</th>\n",
       "      <th>trending_date</th>\n",
       "      <th>title</th>\n",
       "      <th>channel_title</th>\n",
       "      <th>category_id</th>\n",
       "      <th>publish_time</th>\n",
       "      <th>tags</th>\n",
       "      <th>views</th>\n",
       "      <th>likes</th>\n",
       "      <th>dislikes</th>\n",
       "      <th>...</th>\n",
       "      <th>thumbnail_link</th>\n",
       "      <th>comments_disabled</th>\n",
       "      <th>ratings_disabled</th>\n",
       "      <th>video_error_or_removed</th>\n",
       "      <th>description</th>\n",
       "      <th>state</th>\n",
       "      <th>lat</th>\n",
       "      <th>lon</th>\n",
       "      <th>geometry</th>\n",
       "      <th>dbscan_snippet.title</th>\n",
       "    </tr>\n",
       "  </thead>\n",
       "  <tbody>\n",
       "    <tr>\n",
       "      <th>40944</th>\n",
       "      <td>V6ElE2xs48c</td>\n",
       "      <td>18.02.06</td>\n",
       "      <td>Game of Zones - S5:E5: The Isle of Van Gundy</td>\n",
       "      <td>Bleacher Report</td>\n",
       "      <td>43</td>\n",
       "      <td>2018-05-10T21:01:22.000Z</td>\n",
       "      <td>bleacher report|\"br\"|\"nba\"|\"Stan Van Gundy\"|\"J...</td>\n",
       "      <td>1324482</td>\n",
       "      <td>22413</td>\n",
       "      <td>608</td>\n",
       "      <td>...</td>\n",
       "      <td>https://i.ytimg.com/vi/V6ElE2xs48c/default.jpg</td>\n",
       "      <td>False</td>\n",
       "      <td>False</td>\n",
       "      <td>False</td>\n",
       "      <td>On an island full of Van Gundys, Stan gets tal...</td>\n",
       "      <td>Oklahoma</td>\n",
       "      <td>36.084621</td>\n",
       "      <td>-96.921387</td>\n",
       "      <td>POINT (-96.921387 36.084621)</td>\n",
       "      <td>Shows</td>\n",
       "    </tr>\n",
       "    <tr>\n",
       "      <th>40945</th>\n",
       "      <td>V6ElE2xs48c</td>\n",
       "      <td>18.03.06</td>\n",
       "      <td>Game of Zones - S5:E5: The Isle of Van Gundy</td>\n",
       "      <td>Bleacher Report</td>\n",
       "      <td>43</td>\n",
       "      <td>2018-05-10T21:01:22.000Z</td>\n",
       "      <td>bleacher report|\"br\"|\"nba\"|\"Stan Van Gundy\"|\"J...</td>\n",
       "      <td>1332252</td>\n",
       "      <td>22461</td>\n",
       "      <td>610</td>\n",
       "      <td>...</td>\n",
       "      <td>https://i.ytimg.com/vi/V6ElE2xs48c/default.jpg</td>\n",
       "      <td>False</td>\n",
       "      <td>False</td>\n",
       "      <td>False</td>\n",
       "      <td>On an island full of Van Gundys, Stan gets tal...</td>\n",
       "      <td>Michigan</td>\n",
       "      <td>44.182205</td>\n",
       "      <td>-84.506836</td>\n",
       "      <td>POINT (-84.50683600000001 44.182205)</td>\n",
       "      <td>Shows</td>\n",
       "    </tr>\n",
       "    <tr>\n",
       "      <th>40946</th>\n",
       "      <td>V6ElE2xs48c</td>\n",
       "      <td>18.04.06</td>\n",
       "      <td>Game of Zones - S5:E5: The Isle of Van Gundy</td>\n",
       "      <td>Bleacher Report</td>\n",
       "      <td>43</td>\n",
       "      <td>2018-05-10T21:01:22.000Z</td>\n",
       "      <td>bleacher report|\"br\"|\"nba\"|\"Stan Van Gundy\"|\"J...</td>\n",
       "      <td>1340039</td>\n",
       "      <td>22504</td>\n",
       "      <td>615</td>\n",
       "      <td>...</td>\n",
       "      <td>https://i.ytimg.com/vi/V6ElE2xs48c/default.jpg</td>\n",
       "      <td>False</td>\n",
       "      <td>False</td>\n",
       "      <td>False</td>\n",
       "      <td>On an island full of Van Gundys, Stan gets tal...</td>\n",
       "      <td>Vermont</td>\n",
       "      <td>44.000000</td>\n",
       "      <td>-72.699997</td>\n",
       "      <td>POINT (-72.699997 44)</td>\n",
       "      <td>Shows</td>\n",
       "    </tr>\n",
       "    <tr>\n",
       "      <th>40947</th>\n",
       "      <td>V6ElE2xs48c</td>\n",
       "      <td>18.05.06</td>\n",
       "      <td>Game of Zones - S5:E5: The Isle of Van Gundy</td>\n",
       "      <td>Bleacher Report</td>\n",
       "      <td>43</td>\n",
       "      <td>2018-05-10T21:01:22.000Z</td>\n",
       "      <td>bleacher report|\"br\"|\"nba\"|\"Stan Van Gundy\"|\"J...</td>\n",
       "      <td>1345086</td>\n",
       "      <td>22542</td>\n",
       "      <td>615</td>\n",
       "      <td>...</td>\n",
       "      <td>https://i.ytimg.com/vi/V6ElE2xs48c/default.jpg</td>\n",
       "      <td>False</td>\n",
       "      <td>False</td>\n",
       "      <td>False</td>\n",
       "      <td>On an island full of Van Gundys, Stan gets tal...</td>\n",
       "      <td>North Dakota</td>\n",
       "      <td>47.650589</td>\n",
       "      <td>-100.437012</td>\n",
       "      <td>POINT (-100.437012 47.650589)</td>\n",
       "      <td>Shows</td>\n",
       "    </tr>\n",
       "    <tr>\n",
       "      <th>40948</th>\n",
       "      <td>V6ElE2xs48c</td>\n",
       "      <td>18.06.06</td>\n",
       "      <td>Game of Zones - S5:E5: The Isle of Van Gundy</td>\n",
       "      <td>Bleacher Report</td>\n",
       "      <td>43</td>\n",
       "      <td>2018-05-10T21:01:22.000Z</td>\n",
       "      <td>bleacher report|\"br\"|\"nba\"|\"Stan Van Gundy\"|\"J...</td>\n",
       "      <td>1351321</td>\n",
       "      <td>22587</td>\n",
       "      <td>616</td>\n",
       "      <td>...</td>\n",
       "      <td>https://i.ytimg.com/vi/V6ElE2xs48c/default.jpg</td>\n",
       "      <td>False</td>\n",
       "      <td>False</td>\n",
       "      <td>False</td>\n",
       "      <td>On an island full of Van Gundys, Stan gets tal...</td>\n",
       "      <td>Montana</td>\n",
       "      <td>46.965260</td>\n",
       "      <td>-109.533691</td>\n",
       "      <td>POINT (-109.533691 46.96526)</td>\n",
       "      <td>Shows</td>\n",
       "    </tr>\n",
       "  </tbody>\n",
       "</table>\n",
       "<p>5 rows × 21 columns</p>\n",
       "</div>"
      ],
      "text/plain": [
       "          video_id trending_date  \\\n",
       "40944  V6ElE2xs48c      18.02.06   \n",
       "40945  V6ElE2xs48c      18.03.06   \n",
       "40946  V6ElE2xs48c      18.04.06   \n",
       "40947  V6ElE2xs48c      18.05.06   \n",
       "40948  V6ElE2xs48c      18.06.06   \n",
       "\n",
       "                                              title    channel_title  \\\n",
       "40944  Game of Zones - S5:E5: The Isle of Van Gundy  Bleacher Report   \n",
       "40945  Game of Zones - S5:E5: The Isle of Van Gundy  Bleacher Report   \n",
       "40946  Game of Zones - S5:E5: The Isle of Van Gundy  Bleacher Report   \n",
       "40947  Game of Zones - S5:E5: The Isle of Van Gundy  Bleacher Report   \n",
       "40948  Game of Zones - S5:E5: The Isle of Van Gundy  Bleacher Report   \n",
       "\n",
       "       category_id              publish_time  \\\n",
       "40944           43  2018-05-10T21:01:22.000Z   \n",
       "40945           43  2018-05-10T21:01:22.000Z   \n",
       "40946           43  2018-05-10T21:01:22.000Z   \n",
       "40947           43  2018-05-10T21:01:22.000Z   \n",
       "40948           43  2018-05-10T21:01:22.000Z   \n",
       "\n",
       "                                                    tags    views  likes  \\\n",
       "40944  bleacher report|\"br\"|\"nba\"|\"Stan Van Gundy\"|\"J...  1324482  22413   \n",
       "40945  bleacher report|\"br\"|\"nba\"|\"Stan Van Gundy\"|\"J...  1332252  22461   \n",
       "40946  bleacher report|\"br\"|\"nba\"|\"Stan Van Gundy\"|\"J...  1340039  22504   \n",
       "40947  bleacher report|\"br\"|\"nba\"|\"Stan Van Gundy\"|\"J...  1345086  22542   \n",
       "40948  bleacher report|\"br\"|\"nba\"|\"Stan Van Gundy\"|\"J...  1351321  22587   \n",
       "\n",
       "       dislikes  ...                                  thumbnail_link  \\\n",
       "40944       608  ...  https://i.ytimg.com/vi/V6ElE2xs48c/default.jpg   \n",
       "40945       610  ...  https://i.ytimg.com/vi/V6ElE2xs48c/default.jpg   \n",
       "40946       615  ...  https://i.ytimg.com/vi/V6ElE2xs48c/default.jpg   \n",
       "40947       615  ...  https://i.ytimg.com/vi/V6ElE2xs48c/default.jpg   \n",
       "40948       616  ...  https://i.ytimg.com/vi/V6ElE2xs48c/default.jpg   \n",
       "\n",
       "      comments_disabled  ratings_disabled  video_error_or_removed  \\\n",
       "40944             False             False                   False   \n",
       "40945             False             False                   False   \n",
       "40946             False             False                   False   \n",
       "40947             False             False                   False   \n",
       "40948             False             False                   False   \n",
       "\n",
       "                                             description         state  \\\n",
       "40944  On an island full of Van Gundys, Stan gets tal...      Oklahoma   \n",
       "40945  On an island full of Van Gundys, Stan gets tal...      Michigan   \n",
       "40946  On an island full of Van Gundys, Stan gets tal...       Vermont   \n",
       "40947  On an island full of Van Gundys, Stan gets tal...  North Dakota   \n",
       "40948  On an island full of Van Gundys, Stan gets tal...       Montana   \n",
       "\n",
       "             lat         lon                              geometry  \\\n",
       "40944  36.084621  -96.921387          POINT (-96.921387 36.084621)   \n",
       "40945  44.182205  -84.506836  POINT (-84.50683600000001 44.182205)   \n",
       "40946  44.000000  -72.699997                 POINT (-72.699997 44)   \n",
       "40947  47.650589 -100.437012         POINT (-100.437012 47.650589)   \n",
       "40948  46.965260 -109.533691          POINT (-109.533691 46.96526)   \n",
       "\n",
       "      dbscan_snippet.title  \n",
       "40944                Shows  \n",
       "40945                Shows  \n",
       "40946                Shows  \n",
       "40947                Shows  \n",
       "40948                Shows  \n",
       "\n",
       "[5 rows x 21 columns]"
      ]
     },
     "execution_count": 76,
     "metadata": {},
     "output_type": "execute_result"
    }
   ],
   "source": [
    "newUSVideos.tail()"
   ]
  },
  {
   "cell_type": "code",
   "execution_count": 77,
   "metadata": {},
   "outputs": [
    {
     "data": {
      "text/plain": [
       "0        2017-11-13T17:13:01.000Z\n",
       "1        2017-04-21T06:47:32.000Z\n",
       "2        2017-11-11T15:00:03.000Z\n",
       "3        2017-11-11T18:08:04.000Z\n",
       "4        2017-11-11T01:19:33.000Z\n",
       "                   ...           \n",
       "40944    2018-05-10T21:01:22.000Z\n",
       "40945    2018-05-10T21:01:22.000Z\n",
       "40946    2018-05-10T21:01:22.000Z\n",
       "40947    2018-05-10T21:01:22.000Z\n",
       "40948    2018-05-10T21:01:22.000Z\n",
       "Name: publish_time, Length: 40949, dtype: object"
      ]
     },
     "execution_count": 77,
     "metadata": {},
     "output_type": "execute_result"
    }
   ],
   "source": [
    "newUSVideos[\"publish_time\"]"
   ]
  },
  {
   "cell_type": "code",
   "execution_count": 78,
   "metadata": {},
   "outputs": [],
   "source": [
    "#Retornar un objecto de forma yy mm dd para pasarlo a datetime\n",
    "object_publish_time_ymd = pd.to_datetime(newUSVideos[\"publish_time\"]).dt.strftime('%Y-%m-%d')"
   ]
  },
  {
   "cell_type": "code",
   "execution_count": 79,
   "metadata": {},
   "outputs": [],
   "source": [
    "#Retornar un objecto de forma hh mm ss para pasarlo a datetime\n",
    "object_publish_time_hms = pd.to_datetime(newUSVideos[\"publish_time\"]).dt.strftime('%H:%M:%S')"
   ]
  },
  {
   "cell_type": "code",
   "execution_count": 80,
   "metadata": {},
   "outputs": [
    {
     "data": {
      "text/plain": [
       "0        2017-11-13\n",
       "1        2017-04-21\n",
       "2        2017-11-11\n",
       "3        2017-11-11\n",
       "4        2017-11-11\n",
       "            ...    \n",
       "40944    2018-05-10\n",
       "40945    2018-05-10\n",
       "40946    2018-05-10\n",
       "40947    2018-05-10\n",
       "40948    2018-05-10\n",
       "Name: publish_time, Length: 40949, dtype: object"
      ]
     },
     "execution_count": 80,
     "metadata": {},
     "output_type": "execute_result"
    }
   ],
   "source": [
    "object_publish_time_ymd"
   ]
  },
  {
   "cell_type": "code",
   "execution_count": 81,
   "metadata": {},
   "outputs": [
    {
     "data": {
      "text/plain": [
       "0        17:13:01\n",
       "1        06:47:32\n",
       "2        15:00:03\n",
       "3        18:08:04\n",
       "4        01:19:33\n",
       "           ...   \n",
       "40944    21:01:22\n",
       "40945    21:01:22\n",
       "40946    21:01:22\n",
       "40947    21:01:22\n",
       "40948    21:01:22\n",
       "Name: publish_time, Length: 40949, dtype: object"
      ]
     },
     "execution_count": 81,
     "metadata": {},
     "output_type": "execute_result"
    }
   ],
   "source": [
    "object_publish_time_hms"
   ]
  },
  {
   "cell_type": "code",
   "execution_count": 82,
   "metadata": {},
   "outputs": [],
   "source": [
    "#Pasar la columna \"publish_time\" de tipo object a datetime\n",
    "newUSVideos[\"publish_time\"] = pd.to_datetime(object_publish_time_ymd)"
   ]
  },
  {
   "cell_type": "code",
   "execution_count": 83,
   "metadata": {},
   "outputs": [
    {
     "data": {
      "text/plain": [
       "0       2017-11-13\n",
       "1       2017-04-21\n",
       "2       2017-11-11\n",
       "3       2017-11-11\n",
       "4       2017-11-11\n",
       "           ...    \n",
       "40944   2018-05-10\n",
       "40945   2018-05-10\n",
       "40946   2018-05-10\n",
       "40947   2018-05-10\n",
       "40948   2018-05-10\n",
       "Name: publish_time, Length: 40949, dtype: datetime64[ns]"
      ]
     },
     "execution_count": 83,
     "metadata": {},
     "output_type": "execute_result"
    }
   ],
   "source": [
    "newUSVideos[\"publish_time\"]"
   ]
  },
  {
   "cell_type": "code",
   "execution_count": 84,
   "metadata": {},
   "outputs": [],
   "source": [
    "newUSVideos[\"post_time\"] = object_publish_time_hms"
   ]
  },
  {
   "cell_type": "code",
   "execution_count": 85,
   "metadata": {},
   "outputs": [
    {
     "data": {
      "text/plain": [
       "0        17:13:01\n",
       "1        06:47:32\n",
       "2        15:00:03\n",
       "3        18:08:04\n",
       "4        01:19:33\n",
       "           ...   \n",
       "40944    21:01:22\n",
       "40945    21:01:22\n",
       "40946    21:01:22\n",
       "40947    21:01:22\n",
       "40948    21:01:22\n",
       "Name: post_time, Length: 40949, dtype: object"
      ]
     },
     "execution_count": 85,
     "metadata": {},
     "output_type": "execute_result"
    }
   ],
   "source": [
    "newUSVideos[\"post_time\"]"
   ]
  },
  {
   "cell_type": "code",
   "execution_count": 86,
   "metadata": {},
   "outputs": [
    {
     "data": {
      "text/plain": [
       "0        17.14.11\n",
       "1        17.14.11\n",
       "2        17.14.11\n",
       "3        17.14.11\n",
       "4        17.14.11\n",
       "           ...   \n",
       "40944    18.02.06\n",
       "40945    18.03.06\n",
       "40946    18.04.06\n",
       "40947    18.05.06\n",
       "40948    18.06.06\n",
       "Name: trending_date, Length: 40949, dtype: object"
      ]
     },
     "execution_count": 86,
     "metadata": {},
     "output_type": "execute_result"
    }
   ],
   "source": [
    "#Falta transformar el dato atipico mes 14 no deberia existir\n",
    "newUSVideos[\"trending_date\"]"
   ]
  },
  {
   "cell_type": "code",
   "execution_count": 87,
   "metadata": {},
   "outputs": [],
   "source": [
    "#yy dd mm ===> yy mm dd\n",
    "def convertStr(date_str):\n",
    "    arr = list(date_str)\n",
    "    dd = arr[3:5]\n",
    "    mm = arr[6:8]\n",
    "    arr[3:5] = mm\n",
    "    arr[6:8] = dd\n",
    "    return \"\".join(arr)\n",
    "newUSVideos[\"trending_date\"] = newUSVideos[\"trending_date\"].apply(convertStr)"
   ]
  },
  {
   "cell_type": "code",
   "execution_count": 92,
   "metadata": {},
   "outputs": [],
   "source": [
    "newUSVideos[\"trending_date\"] = pd.to_datetime(newUSVideos[\"trending_date\"], yearfirst=True)"
   ]
  },
  {
   "cell_type": "code",
   "execution_count": 93,
   "metadata": {},
   "outputs": [
    {
     "data": {
      "text/plain": [
       "0       2017-11-14\n",
       "1       2017-11-14\n",
       "2       2017-11-14\n",
       "3       2017-11-14\n",
       "4       2017-11-14\n",
       "           ...    \n",
       "40944   2018-06-02\n",
       "40945   2018-06-03\n",
       "40946   2018-06-04\n",
       "40947   2018-06-05\n",
       "40948   2018-06-06\n",
       "Name: trending_date, Length: 40949, dtype: datetime64[ns]"
      ]
     },
     "execution_count": 93,
     "metadata": {},
     "output_type": "execute_result"
    }
   ],
   "source": [
    "newUSVideos[\"trending_date\"]"
   ]
  },
  {
   "cell_type": "code",
   "execution_count": null,
   "metadata": {},
   "outputs": [],
   "source": [
    "newUSVideos.isna().sum()"
   ]
  },
  {
   "cell_type": "markdown",
   "metadata": {},
   "source": [
    "Como podemos observar solo tenemos datos nulos o faltantes en la columna description, debido a que no es un dato muy relevante solo colocaremos \"Without description\" en lugar del null"
   ]
  },
  {
   "cell_type": "code",
   "execution_count": null,
   "metadata": {},
   "outputs": [],
   "source": [
    "newUSVideos['description'] = newUSVideos['description'].fillna(\"Without description\")"
   ]
  },
  {
   "cell_type": "code",
   "execution_count": null,
   "metadata": {},
   "outputs": [],
   "source": [
    "newUSVideos.isna().sum()"
   ]
  },
  {
   "cell_type": "code",
   "execution_count": null,
   "metadata": {},
   "outputs": [],
   "source": [
    "print(newUSVideos.duplicated(subset='video_id').sum())"
   ]
  },
  {
   "cell_type": "markdown",
   "metadata": {},
   "source": [
    "Luego se hizo una revisión de cuantos \"video_id\" había repetidos y encontramos que eran cerca de un 90% del dataframe, por lo que se tendrá en consideración para un posible análisis posterior."
   ]
  },
  {
   "cell_type": "code",
   "execution_count": null,
   "metadata": {},
   "outputs": [],
   "source": [
    "plt.figure(figsize=(10, 100))\n",
    "sns.boxplot(y='views',data=newUSVideos,palette='winter')"
   ]
  },
  {
   "cell_type": "code",
   "execution_count": 47,
   "metadata": {},
   "outputs": [
    {
     "data": {
      "text/plain": [
       "<AxesSubplot:ylabel='likes'>"
      ]
     },
     "execution_count": 47,
     "metadata": {},
     "output_type": "execute_result"
    },
    {
     "data": {
      "image/png": "[encoded data removed]",
      "text/plain": [
       "<Figure size 720x7200 with 1 Axes>"
      ]
     },
     "metadata": {
      "needs_background": "light"
     },
     "output_type": "display_data"
    }
   ],
   "source": [
    "plt.figure(figsize=(10, 100))\n",
    "sns.boxplot(y='likes',data=newUSVideos,palette='winter')"
   ]
  },
  {
   "cell_type": "code",
   "execution_count": 48,
   "metadata": {},
   "outputs": [
    {
     "data": {
      "text/plain": [
       "<AxesSubplot:ylabel='dislikes'>"
      ]
     },
     "execution_count": 48,
     "metadata": {},
     "output_type": "execute_result"
    },
    {
     "data": {
      "image/png": "[encoded data removed]",
      "text/plain": [
       "<Figure size 720x7200 with 1 Axes>"
      ]
     },
     "metadata": {
      "needs_background": "light"
     },
     "output_type": "display_data"
    }
   ],
   "source": [
    "plt.figure(figsize=(10, 100))\n",
    "sns.boxplot(y='dislikes',data=newUSVideos,palette='winter')"
   ]
  },
  {
   "cell_type": "code",
   "execution_count": 49,
   "metadata": {},
   "outputs": [
    {
     "data": {
      "text/plain": [
       "<AxesSubplot:ylabel='comment_count'>"
      ]
     },
     "execution_count": 49,
     "metadata": {},
     "output_type": "execute_result"
    },
    {
     "data": {
      "image/png": "[encoded data removed]",
      "text/plain": [
       "<Figure size 720x7200 with 1 Axes>"
      ]
     },
     "metadata": {
      "needs_background": "light"
     },
     "output_type": "display_data"
    }
   ],
   "source": [
    "plt.figure(figsize=(10, 100))\n",
    "sns.boxplot(y='comment_count',data=newUSVideos,palette='winter')"
   ]
  },
  {
   "cell_type": "markdown",
   "metadata": {},
   "source": [
    "La cantidad de outliers que se pueden observar en los box plot es batante alta pero estos valores no se van a modificar ni reajustar pues se perdería demasiada información. Luego hicimos una verificación si existían valores negativos, estos serían considerados como atípicos."
   ]
  },
  {
   "cell_type": "code",
   "execution_count": 57,
   "metadata": {},
   "outputs": [
    {
     "data": {
      "text/html": [
       "<div>\n",
       "<style scoped>\n",
       "    .dataframe tbody tr th:only-of-type {\n",
       "        vertical-align: middle;\n",
       "    }\n",
       "\n",
       "    .dataframe tbody tr th {\n",
       "        vertical-align: top;\n",
       "    }\n",
       "\n",
       "    .dataframe thead th {\n",
       "        text-align: right;\n",
       "    }\n",
       "</style>\n",
       "<table border=\"1\" class=\"dataframe\">\n",
       "  <thead>\n",
       "    <tr style=\"text-align: right;\">\n",
       "      <th></th>\n",
       "      <th>video_id</th>\n",
       "      <th>trending_date</th>\n",
       "      <th>title</th>\n",
       "      <th>channel_title</th>\n",
       "      <th>category_id</th>\n",
       "      <th>publish_time</th>\n",
       "      <th>tags</th>\n",
       "      <th>views</th>\n",
       "      <th>likes</th>\n",
       "      <th>dislikes</th>\n",
       "      <th>...</th>\n",
       "      <th>comments_disabled</th>\n",
       "      <th>ratings_disabled</th>\n",
       "      <th>video_error_or_removed</th>\n",
       "      <th>description</th>\n",
       "      <th>state</th>\n",
       "      <th>lat</th>\n",
       "      <th>lon</th>\n",
       "      <th>geometry</th>\n",
       "      <th>dbscan_snippet.title</th>\n",
       "      <th>post_time</th>\n",
       "    </tr>\n",
       "  </thead>\n",
       "  <tbody>\n",
       "  </tbody>\n",
       "</table>\n",
       "<p>0 rows × 22 columns</p>\n",
       "</div>"
      ],
      "text/plain": [
       "Empty DataFrame\n",
       "Columns: [video_id, trending_date, title, channel_title, category_id, publish_time, tags, views, likes, dislikes, comment_count, thumbnail_link, comments_disabled, ratings_disabled, video_error_or_removed, description, state, lat, lon, geometry, dbscan_snippet.title, post_time]\n",
       "Index: []\n",
       "\n",
       "[0 rows x 22 columns]"
      ]
     },
     "execution_count": 57,
     "metadata": {},
     "output_type": "execute_result"
    }
   ],
   "source": [
    "newUSVideos[newUSVideos['views'] < 0]"
   ]
  },
  {
   "cell_type": "code",
   "execution_count": 58,
   "metadata": {},
   "outputs": [
    {
     "data": {
      "text/html": [
       "<div>\n",
       "<style scoped>\n",
       "    .dataframe tbody tr th:only-of-type {\n",
       "        vertical-align: middle;\n",
       "    }\n",
       "\n",
       "    .dataframe tbody tr th {\n",
       "        vertical-align: top;\n",
       "    }\n",
       "\n",
       "    .dataframe thead th {\n",
       "        text-align: right;\n",
       "    }\n",
       "</style>\n",
       "<table border=\"1\" class=\"dataframe\">\n",
       "  <thead>\n",
       "    <tr style=\"text-align: right;\">\n",
       "      <th></th>\n",
       "      <th>video_id</th>\n",
       "      <th>trending_date</th>\n",
       "      <th>title</th>\n",
       "      <th>channel_title</th>\n",
       "      <th>category_id</th>\n",
       "      <th>publish_time</th>\n",
       "      <th>tags</th>\n",
       "      <th>views</th>\n",
       "      <th>likes</th>\n",
       "      <th>dislikes</th>\n",
       "      <th>...</th>\n",
       "      <th>comments_disabled</th>\n",
       "      <th>ratings_disabled</th>\n",
       "      <th>video_error_or_removed</th>\n",
       "      <th>description</th>\n",
       "      <th>state</th>\n",
       "      <th>lat</th>\n",
       "      <th>lon</th>\n",
       "      <th>geometry</th>\n",
       "      <th>dbscan_snippet.title</th>\n",
       "      <th>post_time</th>\n",
       "    </tr>\n",
       "  </thead>\n",
       "  <tbody>\n",
       "  </tbody>\n",
       "</table>\n",
       "<p>0 rows × 22 columns</p>\n",
       "</div>"
      ],
      "text/plain": [
       "Empty DataFrame\n",
       "Columns: [video_id, trending_date, title, channel_title, category_id, publish_time, tags, views, likes, dislikes, comment_count, thumbnail_link, comments_disabled, ratings_disabled, video_error_or_removed, description, state, lat, lon, geometry, dbscan_snippet.title, post_time]\n",
       "Index: []\n",
       "\n",
       "[0 rows x 22 columns]"
      ]
     },
     "execution_count": 58,
     "metadata": {},
     "output_type": "execute_result"
    }
   ],
   "source": [
    "newUSVideos[newUSVideos['likes'] < 0]"
   ]
  },
  {
   "cell_type": "code",
   "execution_count": 59,
   "metadata": {},
   "outputs": [
    {
     "data": {
      "text/html": [
       "<div>\n",
       "<style scoped>\n",
       "    .dataframe tbody tr th:only-of-type {\n",
       "        vertical-align: middle;\n",
       "    }\n",
       "\n",
       "    .dataframe tbody tr th {\n",
       "        vertical-align: top;\n",
       "    }\n",
       "\n",
       "    .dataframe thead th {\n",
       "        text-align: right;\n",
       "    }\n",
       "</style>\n",
       "<table border=\"1\" class=\"dataframe\">\n",
       "  <thead>\n",
       "    <tr style=\"text-align: right;\">\n",
       "      <th></th>\n",
       "      <th>video_id</th>\n",
       "      <th>trending_date</th>\n",
       "      <th>title</th>\n",
       "      <th>channel_title</th>\n",
       "      <th>category_id</th>\n",
       "      <th>publish_time</th>\n",
       "      <th>tags</th>\n",
       "      <th>views</th>\n",
       "      <th>likes</th>\n",
       "      <th>dislikes</th>\n",
       "      <th>...</th>\n",
       "      <th>comments_disabled</th>\n",
       "      <th>ratings_disabled</th>\n",
       "      <th>video_error_or_removed</th>\n",
       "      <th>description</th>\n",
       "      <th>state</th>\n",
       "      <th>lat</th>\n",
       "      <th>lon</th>\n",
       "      <th>geometry</th>\n",
       "      <th>dbscan_snippet.title</th>\n",
       "      <th>post_time</th>\n",
       "    </tr>\n",
       "  </thead>\n",
       "  <tbody>\n",
       "  </tbody>\n",
       "</table>\n",
       "<p>0 rows × 22 columns</p>\n",
       "</div>"
      ],
      "text/plain": [
       "Empty DataFrame\n",
       "Columns: [video_id, trending_date, title, channel_title, category_id, publish_time, tags, views, likes, dislikes, comment_count, thumbnail_link, comments_disabled, ratings_disabled, video_error_or_removed, description, state, lat, lon, geometry, dbscan_snippet.title, post_time]\n",
       "Index: []\n",
       "\n",
       "[0 rows x 22 columns]"
      ]
     },
     "execution_count": 59,
     "metadata": {},
     "output_type": "execute_result"
    }
   ],
   "source": [
    "newUSVideos[newUSVideos['dislikes'] < 0]"
   ]
  },
  {
   "cell_type": "code",
   "execution_count": 60,
   "metadata": {},
   "outputs": [
    {
     "data": {
      "text/html": [
       "<div>\n",
       "<style scoped>\n",
       "    .dataframe tbody tr th:only-of-type {\n",
       "        vertical-align: middle;\n",
       "    }\n",
       "\n",
       "    .dataframe tbody tr th {\n",
       "        vertical-align: top;\n",
       "    }\n",
       "\n",
       "    .dataframe thead th {\n",
       "        text-align: right;\n",
       "    }\n",
       "</style>\n",
       "<table border=\"1\" class=\"dataframe\">\n",
       "  <thead>\n",
       "    <tr style=\"text-align: right;\">\n",
       "      <th></th>\n",
       "      <th>video_id</th>\n",
       "      <th>trending_date</th>\n",
       "      <th>title</th>\n",
       "      <th>channel_title</th>\n",
       "      <th>category_id</th>\n",
       "      <th>publish_time</th>\n",
       "      <th>tags</th>\n",
       "      <th>views</th>\n",
       "      <th>likes</th>\n",
       "      <th>dislikes</th>\n",
       "      <th>...</th>\n",
       "      <th>comments_disabled</th>\n",
       "      <th>ratings_disabled</th>\n",
       "      <th>video_error_or_removed</th>\n",
       "      <th>description</th>\n",
       "      <th>state</th>\n",
       "      <th>lat</th>\n",
       "      <th>lon</th>\n",
       "      <th>geometry</th>\n",
       "      <th>dbscan_snippet.title</th>\n",
       "      <th>post_time</th>\n",
       "    </tr>\n",
       "  </thead>\n",
       "  <tbody>\n",
       "  </tbody>\n",
       "</table>\n",
       "<p>0 rows × 22 columns</p>\n",
       "</div>"
      ],
      "text/plain": [
       "Empty DataFrame\n",
       "Columns: [video_id, trending_date, title, channel_title, category_id, publish_time, tags, views, likes, dislikes, comment_count, thumbnail_link, comments_disabled, ratings_disabled, video_error_or_removed, description, state, lat, lon, geometry, dbscan_snippet.title, post_time]\n",
       "Index: []\n",
       "\n",
       "[0 rows x 22 columns]"
      ]
     },
     "execution_count": 60,
     "metadata": {},
     "output_type": "execute_result"
    }
   ],
   "source": [
    "newUSVideos[newUSVideos['comment_count'] < 0]"
   ]
  },
  {
   "cell_type": "code",
   "execution_count": null,
   "metadata": {},
   "outputs": [],
   "source": []
  }
 ],
 "metadata": {
  "kernelspec": {
   "display_name": "Python 3",
   "language": "python",
   "name": "python3"
  },
  "language_info": {
   "codemirror_mode": {
    "name": "ipython",
    "version": 3
   },
   "file_extension": ".py",
   "mimetype": "text/x-python",
   "name": "python",
   "nbconvert_exporter": "python",
   "pygments_lexer": "ipython3",
   "version": "3.8.5"
  }
 },
 "nbformat": 4,
 "nbformat_minor": 4
}
